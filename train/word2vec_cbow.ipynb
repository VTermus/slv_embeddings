{
  "cells": [
    {
      "cell_type": "code",
      "source": [
        "!pip install numpy==1.23.5 gensim"
      ],
      "metadata": {
        "colab": {
          "base_uri": "https://localhost:8080/",
          "height": 862
        },
        "id": "e7xUzSaEbXrw",
        "outputId": "faf5c247-5115-4414-f18a-ab84950afd23",
        "collapsed": true
      },
      "id": "e7xUzSaEbXrw",
      "execution_count": null,
      "outputs": [
        {
          "output_type": "stream",
          "name": "stdout",
          "text": [
            "Collecting numpy==1.23.5\n",
            "  Downloading numpy-1.23.5-cp311-cp311-manylinux_2_17_x86_64.manylinux2014_x86_64.whl.metadata (2.3 kB)\n",
            "Collecting gensim\n",
            "  Downloading gensim-4.3.3-cp311-cp311-manylinux_2_17_x86_64.manylinux2014_x86_64.whl.metadata (8.1 kB)\n",
            "Collecting scipy<1.14.0,>=1.7.0 (from gensim)\n",
            "  Downloading scipy-1.13.1-cp311-cp311-manylinux_2_17_x86_64.manylinux2014_x86_64.whl.metadata (60 kB)\n",
            "\u001b[2K     \u001b[90m━━━━━━━━━━━━━━━━━━━━━━━━━━━━━━━━━━━━━━━━\u001b[0m \u001b[32m60.6/60.6 kB\u001b[0m \u001b[31m2.0 MB/s\u001b[0m eta \u001b[36m0:00:00\u001b[0m\n",
            "\u001b[?25hRequirement already satisfied: smart-open>=1.8.1 in /usr/local/lib/python3.11/dist-packages (from gensim) (7.1.0)\n",
            "Requirement already satisfied: wrapt in /usr/local/lib/python3.11/dist-packages (from smart-open>=1.8.1->gensim) (1.17.2)\n",
            "Downloading numpy-1.23.5-cp311-cp311-manylinux_2_17_x86_64.manylinux2014_x86_64.whl (17.1 MB)\n",
            "\u001b[2K   \u001b[90m━━━━━━━━━━━━━━━━━━━━━━━━━━━━━━━━━━━━━━━━\u001b[0m \u001b[32m17.1/17.1 MB\u001b[0m \u001b[31m51.3 MB/s\u001b[0m eta \u001b[36m0:00:00\u001b[0m\n",
            "\u001b[?25hDownloading gensim-4.3.3-cp311-cp311-manylinux_2_17_x86_64.manylinux2014_x86_64.whl (26.7 MB)\n",
            "\u001b[2K   \u001b[90m━━━━━━━━━━━━━━━━━━━━━━━━━━━━━━━━━━━━━━━━\u001b[0m \u001b[32m26.7/26.7 MB\u001b[0m \u001b[31m48.7 MB/s\u001b[0m eta \u001b[36m0:00:00\u001b[0m\n",
            "\u001b[?25hDownloading scipy-1.13.1-cp311-cp311-manylinux_2_17_x86_64.manylinux2014_x86_64.whl (38.6 MB)\n",
            "\u001b[2K   \u001b[90m━━━━━━━━━━━━━━━━━━━━━━━━━━━━━━━━━━━━━━━━\u001b[0m \u001b[32m38.6/38.6 MB\u001b[0m \u001b[31m13.4 MB/s\u001b[0m eta \u001b[36m0:00:00\u001b[0m\n",
            "\u001b[?25hInstalling collected packages: numpy, scipy, gensim\n",
            "  Attempting uninstall: numpy\n",
            "    Found existing installation: numpy 2.0.2\n",
            "    Uninstalling numpy-2.0.2:\n",
            "      Successfully uninstalled numpy-2.0.2\n",
            "  Attempting uninstall: scipy\n",
            "    Found existing installation: scipy 1.15.3\n",
            "    Uninstalling scipy-1.15.3:\n",
            "      Successfully uninstalled scipy-1.15.3\n",
            "\u001b[31mERROR: pip's dependency resolver does not currently take into account all the packages that are installed. This behaviour is the source of the following dependency conflicts.\n",
            "jaxlib 0.5.1 requires numpy>=1.25, but you have numpy 1.23.5 which is incompatible.\n",
            "jax 0.5.2 requires numpy>=1.25, but you have numpy 1.23.5 which is incompatible.\n",
            "xarray 2025.3.1 requires numpy>=1.24, but you have numpy 1.23.5 which is incompatible.\n",
            "tensorflow 2.18.0 requires numpy<2.1.0,>=1.26.0, but you have numpy 1.23.5 which is incompatible.\n",
            "bigframes 2.4.0 requires numpy>=1.24.0, but you have numpy 1.23.5 which is incompatible.\n",
            "blosc2 3.3.2 requires numpy>=1.26, but you have numpy 1.23.5 which is incompatible.\n",
            "chex 0.1.89 requires numpy>=1.24.1, but you have numpy 1.23.5 which is incompatible.\n",
            "treescope 0.1.9 requires numpy>=1.25.2, but you have numpy 1.23.5 which is incompatible.\n",
            "scikit-image 0.25.2 requires numpy>=1.24, but you have numpy 1.23.5 which is incompatible.\n",
            "pymc 5.22.0 requires numpy>=1.25.0, but you have numpy 1.23.5 which is incompatible.\n",
            "imbalanced-learn 0.13.0 requires numpy<3,>=1.24.3, but you have numpy 1.23.5 which is incompatible.\n",
            "thinc 8.3.6 requires numpy<3.0.0,>=2.0.0, but you have numpy 1.23.5 which is incompatible.\n",
            "albumentations 2.0.6 requires numpy>=1.24.4, but you have numpy 1.23.5 which is incompatible.\n",
            "tsfresh 0.21.0 requires scipy>=1.14.0; python_version >= \"3.10\", but you have scipy 1.13.1 which is incompatible.\n",
            "albucore 0.0.24 requires numpy>=1.24.4, but you have numpy 1.23.5 which is incompatible.\n",
            "db-dtypes 1.4.3 requires numpy>=1.24.0, but you have numpy 1.23.5 which is incompatible.\u001b[0m\u001b[31m\n",
            "\u001b[0mSuccessfully installed gensim-4.3.3 numpy-1.23.5 scipy-1.13.1\n"
          ]
        },
        {
          "output_type": "display_data",
          "data": {
            "application/vnd.colab-display-data+json": {
              "pip_warning": {
                "packages": [
                  "numpy"
                ]
              },
              "id": "d739a8c9c344465b9dd9c2bcf14442eb"
            }
          },
          "metadata": {}
        }
      ]
    },
    {
      "cell_type": "code",
      "source": [
        "import io\n",
        "\n",
        "# Read the corpus line by line\n",
        "def load_corpus(fname):\n",
        "    fin = io.open(fname, 'r', encoding='utf-8', newline='\\n', errors='ignore')\n",
        "    texts = []\n",
        "    for line in fin:\n",
        "        texts.append(line.split())\n",
        "    return texts"
      ],
      "metadata": {
        "id": "bG0rWiOQnAf-"
      },
      "id": "bG0rWiOQnAf-",
      "execution_count": null,
      "outputs": []
    },
    {
      "cell_type": "code",
      "execution_count": null,
      "id": "2c849787",
      "metadata": {
        "id": "2c849787"
      },
      "outputs": [],
      "source": [
        "corpus = load_corpus('filtered_slovenian_corpus.txt')"
      ]
    },
    {
      "cell_type": "markdown",
      "id": "74ba39cd",
      "metadata": {
        "id": "74ba39cd"
      },
      "source": [
        "The corpus contains 4323 texts"
      ]
    },
    {
      "cell_type": "code",
      "execution_count": null,
      "id": "199be9f4",
      "metadata": {
        "id": "199be9f4",
        "colab": {
          "base_uri": "https://localhost:8080/"
        },
        "outputId": "d90a1c8d-4989-4965-98eb-14c6685d4fc8"
      },
      "outputs": [
        {
          "output_type": "execute_result",
          "data": {
            "text/plain": [
              "4323"
            ]
          },
          "metadata": {},
          "execution_count": 3
        }
      ],
      "source": [
        "len(corpus)"
      ]
    },
    {
      "cell_type": "code",
      "source": [
        "corpus[0]"
      ],
      "metadata": {
        "colab": {
          "base_uri": "https://localhost:8080/"
        },
        "collapsed": true,
        "id": "Ka4yKRjeOQNB",
        "outputId": "63fc9999-9bb2-4e4d-ebd9-f1e5373eb726"
      },
      "id": "Ka4yKRjeOQNB",
      "execution_count": null,
      "outputs": [
        {
          "output_type": "execute_result",
          "data": {
            "text/plain": [
              "['odlomek',\n",
              " 'iz',\n",
              " 'sanja',\n",
              " 'vožnja',\n",
              " 'biti',\n",
              " 'tih',\n",
              " 'negibnost',\n",
              " 'negiben',\n",
              " 'zvenenje',\n",
              " 'sluten',\n",
              " 'noben',\n",
              " 'pričakovanje',\n",
              " 'ozračje',\n",
              " 'biti',\n",
              " 'gost',\n",
              " 'zavešen',\n",
              " 'z',\n",
              " 'opečnat',\n",
              " 'bel',\n",
              " 'emajliran',\n",
              " 'ploščad',\n",
              " 'drseti',\n",
              " 'po',\n",
              " 'prostor',\n",
              " 'number1',\n",
              " 'tog',\n",
              " 'postava',\n",
              " 'number1',\n",
              " 'obraz',\n",
              " 'razvrščen',\n",
              " 'v',\n",
              " 'krog',\n",
              " 'dekle',\n",
              " 'in',\n",
              " 'number1',\n",
              " 'fant',\n",
              " 'v',\n",
              " 'moten',\n",
              " 'veter',\n",
              " 'na',\n",
              " 'pot',\n",
              " 'iz',\n",
              " 'tema',\n",
              " 'oči',\n",
              " 'ves',\n",
              " 'biti',\n",
              " 'uprt',\n",
              " 'v',\n",
              " 'ves',\n",
              " 'oči',\n",
              " 'ves',\n",
              " 'biti',\n",
              " 'slep',\n",
              " 'le',\n",
              " 'še',\n",
              " 'bled',\n",
              " 'svetlikanje',\n",
              " 'za',\n",
              " 'person1',\n",
              " 'oster',\n",
              " 'pločevina',\n",
              " 'zamolkel',\n",
              " 'lesk',\n",
              " 'rob',\n",
              " 'parati',\n",
              " 'prostor',\n",
              " 'lesk',\n",
              " 'biti',\n",
              " 'podoben',\n",
              " 'zvok',\n",
              " 'biti',\n",
              " 'čisto',\n",
              " 'na',\n",
              " 'rob',\n",
              " 'med',\n",
              " 'mrtvilo',\n",
              " 'in',\n",
              " 'sproščanje',\n",
              " 'zazveneti',\n",
              " 'biti',\n",
              " 'zazveneti',\n",
              " 'biti',\n",
              " 'zazveneti',\n",
              " 'zazveneti',\n",
              " 'obraz',\n",
              " 'fant',\n",
              " 'pokrivati',\n",
              " 'rumen',\n",
              " 'puder',\n",
              " 'rumen',\n",
              " 'zelo',\n",
              " 'rumen',\n",
              " 'hladno',\n",
              " 'rumen',\n",
              " 'ustnica',\n",
              " 'biti',\n",
              " 'in',\n",
              " 'gladek',\n",
              " 'kot',\n",
              " 'ribji',\n",
              " 'hrbtišče',\n",
              " 'dekletov',\n",
              " 'obraz',\n",
              " 'biti',\n",
              " 'bel',\n",
              " 'in',\n",
              " 'napet',\n",
              " 'ribji',\n",
              " 'hrbtišče',\n",
              " 'razkleniti',\n",
              " 'strogost',\n",
              " 'razvleči',\n",
              " 'črta',\n",
              " 'obraz',\n",
              " 'za',\n",
              " 'smeh',\n",
              " 'in',\n",
              " 'onemiti',\n",
              " 'smeh',\n",
              " 'biti',\n",
              " 'niti',\n",
              " 'kak',\n",
              " 'hropenje',\n",
              " 'sploh',\n",
              " 'noben',\n",
              " 'glas',\n",
              " 'le',\n",
              " 'bleščanje',\n",
              " 'in',\n",
              " 'prelivanje',\n",
              " 'sence',\n",
              " 'nad',\n",
              " 'ploščad',\n",
              " 'iz',\n",
              " 'emajl',\n",
              " 'v',\n",
              " 'ta',\n",
              " 'ozračje',\n",
              " 'biti',\n",
              " 'vsak',\n",
              " 'gibanje',\n",
              " 'počasen',\n",
              " 'togost',\n",
              " 'biti',\n",
              " 'počasen',\n",
              " 'biti',\n",
              " 'počasen',\n",
              " 'napetost',\n",
              " 'biti',\n",
              " 'počasen',\n",
              " 'ko',\n",
              " 'telo',\n",
              " 'nazadnje',\n",
              " 'zatrepetati',\n",
              " 'zatrepetati',\n",
              " 'počasi',\n",
              " 'in',\n",
              " 'potem',\n",
              " 'počasi',\n",
              " 'zanihati',\n",
              " 'oglat',\n",
              " 'gib',\n",
              " 'smeh',\n",
              " 'person1',\n",
              " 'person1',\n",
              " 'osvobajati',\n",
              " 'podirati',\n",
              " 'zavora',\n",
              " 'smeh',\n",
              " 'biti',\n",
              " 'težek',\n",
              " 'in',\n",
              " 'zloben',\n",
              " 'pritajen',\n",
              " 'polzeti',\n",
              " 'med',\n",
              " 'zob',\n",
              " 'person1',\n",
              " 'vsipati',\n",
              " 'čedalje',\n",
              " 'bolj',\n",
              " 'hrupno',\n",
              " 'in',\n",
              " 'person1',\n",
              " 'v',\n",
              " 'kepa',\n",
              " 'lepiti',\n",
              " 'na',\n",
              " 'obraz',\n",
              " 'dekle',\n",
              " 'na',\n",
              " 'telo',\n",
              " 'da',\n",
              " 'postajati',\n",
              " 'topel',\n",
              " 'in',\n",
              " 'vlažen',\n",
              " 'in',\n",
              " 'čedalje',\n",
              " 'manj',\n",
              " 'negiben',\n",
              " 'dekle',\n",
              " 'person1',\n",
              " 'bati',\n",
              " 'iz',\n",
              " 'obraz',\n",
              " 'izginevati',\n",
              " 'ves',\n",
              " 'mističen',\n",
              " 'prosojnost',\n",
              " 'rad',\n",
              " 'biti',\n",
              " 'ostati',\n",
              " 'negiben',\n",
              " 'strah',\n",
              " 'person1',\n",
              " 'biti',\n",
              " 'veka',\n",
              " 'in',\n",
              " 'ustnica',\n",
              " 'zatekati',\n",
              " 'potem',\n",
              " 'zajokati',\n",
              " 'popačen',\n",
              " 'v',\n",
              " 'višina',\n",
              " 'njen',\n",
              " 'oči',\n",
              " 'trepetati',\n",
              " 'bel',\n",
              " 'koščen',\n",
              " 'prst',\n",
              " 'number1',\n",
              " 'sam',\n",
              " 'prasketanje',\n",
              " 'lesk',\n",
              " 'vdolbina',\n",
              " 'na',\n",
              " 'dlan',\n",
              " 'person1',\n",
              " 'ponujati',\n",
              " 'srebrn',\n",
              " 'kovanec',\n",
              " 'njen',\n",
              " 'zavest',\n",
              " 'biti',\n",
              " 'poln',\n",
              " 'kovanec',\n",
              " 'zenica',\n",
              " 'biti',\n",
              " 'kovanec',\n",
              " 'v',\n",
              " 'ozadje',\n",
              " 'person1',\n",
              " 'krohoči',\n",
              " 'rumen',\n",
              " 'maska',\n",
              " 'iztegnjen',\n",
              " 'prst',\n",
              " 'preudarno',\n",
              " 'jemati',\n",
              " 'kovanec',\n",
              " 'za',\n",
              " 'kovanec',\n",
              " 'in',\n",
              " 'person1',\n",
              " 'na',\n",
              " 'ploščad',\n",
              " 'tik',\n",
              " 'pred',\n",
              " 'njen',\n",
              " 'oči',\n",
              " 'drug',\n",
              " 'za',\n",
              " 'drug',\n",
              " 'drug',\n",
              " 'za',\n",
              " 'drug',\n",
              " 'drug',\n",
              " 'za',\n",
              " 'drug',\n",
              " 'drug',\n",
              " 'za',\n",
              " 'drug',\n",
              " 'utrujajoč',\n",
              " 'dolgo',\n",
              " 'person1',\n",
              " 'person1',\n",
              " 'biti',\n",
              " 'morati',\n",
              " 'zgoditi',\n",
              " 'prav',\n",
              " 'gotovo',\n",
              " 'zadaj',\n",
              " 'za',\n",
              " 'opečnat',\n",
              " 'obzorje',\n",
              " 'ki',\n",
              " 'biti',\n",
              " 'podoben',\n",
              " 'kulisa',\n",
              " 'iz',\n",
              " 'lepenka',\n",
              " 'na',\n",
              " 'ves',\n",
              " 'moč',\n",
              " 'person1',\n",
              " 'truditi',\n",
              " 'da',\n",
              " 'biti',\n",
              " 'dognati',\n",
              " 'person1',\n",
              " 'biti',\n",
              " 'biti',\n",
              " 'person1',\n",
              " 'person1',\n",
              " 'biti',\n",
              " 'zgoditi',\n",
              " 'da',\n",
              " 'biti',\n",
              " 'obsojen',\n",
              " 'na',\n",
              " 'ta',\n",
              " 'potovanje',\n",
              " 'stegniti',\n",
              " 'biti',\n",
              " 'roka',\n",
              " 'in',\n",
              " 'predreti',\n",
              " 'obzorje',\n",
              " 'a',\n",
              " 'biti',\n",
              " 'nedosegljivo',\n",
              " 'daleč',\n",
              " 'čeprav',\n",
              " 'person1',\n",
              " 'čutiti',\n",
              " 'po',\n",
              " 'ves',\n",
              " 'telo',\n",
              " 'spomin',\n",
              " 'person1',\n",
              " 'spotikati',\n",
              " 'nazaj',\n",
              " 'lesti',\n",
              " 'čez',\n",
              " 'pločevina',\n",
              " 'neučakan',\n",
              " 'rezilo',\n",
              " 'person1',\n",
              " 'zajedati',\n",
              " 'person1',\n",
              " 'lesk',\n",
              " 'person1',\n",
              " 'žgati',\n",
              " 'da',\n",
              " 'biti',\n",
              " 'person1',\n",
              " 'za',\n",
              " 'person1',\n",
              " 'biti',\n",
              " 'morati',\n",
              " 'obstajati',\n",
              " 'od',\n",
              " 'dekle',\n",
              " 'biti',\n",
              " 'ostati',\n",
              " 'samo',\n",
              " 'še',\n",
              " 'idiotski',\n",
              " 'jok',\n",
              " 'čisto',\n",
              " 'bebast',\n",
              " 'jok',\n",
              " 'droben',\n",
              " 'postaja',\n",
              " 'čisto',\n",
              " 'pri',\n",
              " 'tla',\n",
              " 'person1',\n",
              " 'krčiti',\n",
              " 'stisnjen',\n",
              " 'ob',\n",
              " 'svoj',\n",
              " 'lasten',\n",
              " 'okostje',\n",
              " 'ki',\n",
              " 'person1',\n",
              " 'person1',\n",
              " 'v',\n",
              " 'groziti',\n",
              " 'oklepati',\n",
              " 'number1',\n",
              " 'soba',\n",
              " 'z',\n",
              " 'nizek',\n",
              " 'strop',\n",
              " 'in',\n",
              " 'steklen',\n",
              " 'stena',\n",
              " 'sprememba',\n",
              " 'prostor',\n",
              " 'biti',\n",
              " 'zelo',\n",
              " 'otipljiv',\n",
              " 'dekle',\n",
              " 'biti',\n",
              " 'miren',\n",
              " 'samo',\n",
              " 'tip',\n",
              " 'okoli',\n",
              " 'person1',\n",
              " 'number1',\n",
              " 'spremljevalec',\n",
              " 'tip',\n",
              " 'okoli',\n",
              " 'person1',\n",
              " 'ves',\n",
              " 'biti',\n",
              " 'zelo',\n",
              " 'otipljiv',\n",
              " 'prav',\n",
              " 'puščoben',\n",
              " 'dekle',\n",
              " 'povesiti',\n",
              " 'roka',\n",
              " 'k',\n",
              " 'telo',\n",
              " 'in',\n",
              " 'tako',\n",
              " 'obstati',\n",
              " 'in',\n",
              " 'tako',\n",
              " 'stati',\n",
              " 'in',\n",
              " 'prav',\n",
              " 'person1',\n",
              " 'ne',\n",
              " 'početi',\n",
              " 'v',\n",
              " 'ta',\n",
              " 'popolnoma',\n",
              " 'tuj',\n",
              " 'soba',\n",
              " 'biti',\n",
              " 'kar',\n",
              " 'tako',\n",
              " 'po',\n",
              " 'naključje',\n",
              " 'odkriti',\n",
              " 'number1',\n",
              " 'predmet',\n",
              " 'svoj',\n",
              " 'otroštvo',\n",
              " 'neverjeten',\n",
              " 'slučajnost',\n",
              " 'podolgovat',\n",
              " 'oblazinjen',\n",
              " 'stol',\n",
              " 'iz',\n",
              " 'svoj',\n",
              " 'otroški',\n",
              " 'soba',\n",
              " 'slonokoščen',\n",
              " 'barva',\n",
              " 'in',\n",
              " 'enak',\n",
              " 'zakonski',\n",
              " 'postelja',\n",
              " 'iz',\n",
              " 'spalnica',\n",
              " 'starš',\n",
              " 'vračanje',\n",
              " 'ali',\n",
              " 'ponoven',\n",
              " 'odhajanje',\n",
              " 'v',\n",
              " 'vetroven',\n",
              " 'noč',\n",
              " 'med',\n",
              " 'hiša',\n",
              " 'biti',\n",
              " 'napet',\n",
              " 'žica',\n",
              " 'in',\n",
              " 'na',\n",
              " 'person1',\n",
              " 'nihati',\n",
              " 'svetilka',\n",
              " 'noč',\n",
              " 'brez',\n",
              " 'spanje',\n",
              " 'premetavanje',\n",
              " 'svetilka',\n",
              " 'nad',\n",
              " 'park',\n",
              " 'po',\n",
              " 'soba',\n",
              " 'person1',\n",
              " 'poditi',\n",
              " 'senca',\n",
              " 'in',\n",
              " 'person1',\n",
              " 'v',\n",
              " 'svoj',\n",
              " 'grotesken',\n",
              " 'ples',\n",
              " 'spotikati',\n",
              " 'ob',\n",
              " 'slonokoščen',\n",
              " 'stol',\n",
              " 'kamor',\n",
              " 'biti',\n",
              " 'naložiti',\n",
              " 'droben',\n",
              " 'keramičen',\n",
              " 'vrč',\n",
              " 'izvezen',\n",
              " 'blazinica',\n",
              " 'iz',\n",
              " 'črn',\n",
              " 'žamet',\n",
              " 'in',\n",
              " 'proper1',\n",
              " 'pravljica',\n",
              " 'dolgo',\n",
              " 'strmeti',\n",
              " 'person1',\n",
              " 'iz',\n",
              " 'svoj',\n",
              " 'postelja',\n",
              " 'in',\n",
              " 'person1',\n",
              " 'zatiskati',\n",
              " 'uho',\n",
              " 'veter',\n",
              " 'tuliti',\n",
              " 'pokrivati',\n",
              " 'person1',\n",
              " 'z',\n",
              " 'odeja',\n",
              " 'krčiti',\n",
              " 'person1',\n",
              " 'da',\n",
              " 'biti',\n",
              " 'biti',\n",
              " 'čisto',\n",
              " 'droben',\n",
              " 'a',\n",
              " 'person1',\n",
              " 'ne',\n",
              " 'moči',\n",
              " 'skriti',\n",
              " 'v',\n",
              " 'bolniški',\n",
              " 'soba',\n",
              " 'za',\n",
              " 'cvetličen',\n",
              " 'vzorec',\n",
              " 'ležati',\n",
              " 'bolan',\n",
              " 'ženska',\n",
              " 'dišati',\n",
              " 'po',\n",
              " 'limona',\n",
              " 'soba',\n",
              " 'biti',\n",
              " 'poln',\n",
              " 'ta',\n",
              " 'vonj',\n",
              " 'ki',\n",
              " 'biti',\n",
              " 'razpolovljen',\n",
              " 'suh',\n",
              " 'sredica',\n",
              " 'skrčen',\n",
              " 'in',\n",
              " 'nekoliko',\n",
              " 'posiveti',\n",
              " 'ženska',\n",
              " 'z',\n",
              " 'prerezan',\n",
              " 'dojka',\n",
              " 'kleti',\n",
              " 'prostaško',\n",
              " 'šepetati',\n",
              " 'strastno',\n",
              " 'tuliti',\n",
              " 'živalsko',\n",
              " 'ne',\n",
              " 'videti',\n",
              " 'person1',\n",
              " 'ker',\n",
              " 'biti',\n",
              " 'poln',\n",
              " 'cvetje',\n",
              " 'v',\n",
              " 'bel',\n",
              " 'okvir',\n",
              " 'samo',\n",
              " 'mama',\n",
              " 'njen',\n",
              " 'prerezan',\n",
              " 'dojka',\n",
              " 'mlahavo',\n",
              " 'in',\n",
              " 'ostudno',\n",
              " 'razpotegnjen',\n",
              " 'po',\n",
              " 'rebro',\n",
              " 'popolnoma',\n",
              " 'usahel',\n",
              " 'prsi',\n",
              " 'person1',\n",
              " 'ne',\n",
              " 'moči',\n",
              " 'nikamor',\n",
              " 'hoteti',\n",
              " 'proper1',\n",
              " 'prihajati',\n",
              " 'pogosto',\n",
              " 'nikoli',\n",
              " 'person1',\n",
              " 'biti',\n",
              " 'moči',\n",
              " 'sprijazniti',\n",
              " 'z',\n",
              " 'njen',\n",
              " 'mozoljčast',\n",
              " 'obraz',\n",
              " 'in',\n",
              " 'plav',\n",
              " 'las',\n",
              " 'klepet',\n",
              " 'in',\n",
              " 'stres',\n",
              " 'z',\n",
              " 'glava',\n",
              " 'vmes',\n",
              " 'pa',\n",
              " 'živčno',\n",
              " 'kaditi',\n",
              " 'nek',\n",
              " 'noč',\n",
              " 'priti',\n",
              " 'k',\n",
              " 'person1',\n",
              " 'v',\n",
              " 'postelja',\n",
              " 'čisto',\n",
              " 'tiho',\n",
              " 'person1',\n",
              " 'razprava',\n",
              " 'in',\n",
              " 'razširiti',\n",
              " 'oster',\n",
              " 'vonj',\n",
              " 'po',\n",
              " 'poto',\n",
              " 'leči',\n",
              " 'in',\n",
              " 'čakati',\n",
              " 'ko',\n",
              " 'person1',\n",
              " 'vrata',\n",
              " 'drugič',\n",
              " 'odpreti',\n",
              " 'vedeti',\n",
              " 'da',\n",
              " 'prihajati',\n",
              " 'proper1',\n",
              " 'podrsavati',\n",
              " 'po',\n",
              " 'parket',\n",
              " 'velik',\n",
              " 'in',\n",
              " 'debel',\n",
              " 'in',\n",
              " 'zadrževati',\n",
              " 'dih',\n",
              " 'vreči',\n",
              " 'odeja',\n",
              " 'z',\n",
              " 'telo',\n",
              " 'potem',\n",
              " 'biti',\n",
              " 'ves',\n",
              " 'tih',\n",
              " 'neznosno',\n",
              " 'tih',\n",
              " 'dokler',\n",
              " 'proper1',\n",
              " 'ob',\n",
              " 'postelja',\n",
              " 'ne',\n",
              " 'poklekniti',\n",
              " 'in',\n",
              " 'zariti',\n",
              " 'glava',\n",
              " 'na',\n",
              " 'trebuh',\n",
              " 'potiho',\n",
              " 'govoriti',\n",
              " 'rotiti',\n",
              " 'sedeti',\n",
              " 'na',\n",
              " 'gugalnica',\n",
              " 'in',\n",
              " 'person1',\n",
              " 'poganjati',\n",
              " 'proper1',\n",
              " 'stati',\n",
              " 'spodaj',\n",
              " 'in',\n",
              " 'person1',\n",
              " 'smejati',\n",
              " 'brk',\n",
              " 'poplesovati',\n",
              " 'po',\n",
              " 'ves',\n",
              " 'obraz',\n",
              " 'proper1',\n",
              " 'proper1',\n",
              " 'gledati',\n",
              " 'razširiti',\n",
              " 'roka',\n",
              " 'v',\n",
              " 'naslednji',\n",
              " 'hip',\n",
              " 'obležati',\n",
              " 'pri',\n",
              " 'njegov',\n",
              " 'noga',\n",
              " 'krvav',\n",
              " 'prijeti',\n",
              " 'person1',\n",
              " 'v',\n",
              " 'naročje',\n",
              " 'in',\n",
              " 'teči',\n",
              " 'z',\n",
              " 'person1',\n",
              " 'po',\n",
              " 'stopnica',\n",
              " 'mali',\n",
              " 'mali',\n",
              " 'mali',\n",
              " 'pozibavati',\n",
              " 'person1',\n",
              " 'in',\n",
              " 'person1',\n",
              " 'brisati',\n",
              " 'kri',\n",
              " 'z',\n",
              " 'obraz',\n",
              " 'proper1',\n",
              " 'še',\n",
              " 'vedno',\n",
              " 'klečati',\n",
              " 'ob',\n",
              " 'postelja',\n",
              " 'hropsti',\n",
              " 'in',\n",
              " 'stokati',\n",
              " 'proper1',\n",
              " 'ječati',\n",
              " 'spati',\n",
              " 'mali',\n",
              " 'spati',\n",
              " 'začutiti',\n",
              " 'vlažen',\n",
              " 'roka',\n",
              " 'na',\n",
              " 'obraz',\n",
              " 'soba',\n",
              " 'biti',\n",
              " 'poln',\n",
              " 'mrzličen',\n",
              " 'šepet',\n",
              " 'spati',\n",
              " 'deklica',\n",
              " 'videti',\n",
              " 'person1',\n",
              " 'kako',\n",
              " 'person1',\n",
              " 'mahati',\n",
              " 'z',\n",
              " 'balkon',\n",
              " 'morati',\n",
              " 'biti',\n",
              " 'steči',\n",
              " 'pa',\n",
              " 'ne',\n",
              " 'teči',\n",
              " 'hoditi',\n",
              " 'počasi',\n",
              " 'proper1',\n",
              " 'person1',\n",
              " 'pri',\n",
              " 'vrata',\n",
              " 'zagrabiti',\n",
              " 'in',\n",
              " 'vreči',\n",
              " 'v',\n",
              " 'zrak',\n",
              " 'person1',\n",
              " 'biti',\n",
              " 'person1',\n",
              " 'prinesti',\n",
              " 'nositi',\n",
              " 'person1',\n",
              " 'po',\n",
              " 'stanovanje',\n",
              " 'proper1',\n",
              " 'otrok',\n",
              " 'biti',\n",
              " 'že',\n",
              " 'doma',\n",
              " 'prinesti',\n",
              " 'biti',\n",
              " 'person1',\n",
              " 'čik',\n",
              " 'proper1',\n",
              " 'proper1',\n",
              " 'proper1',\n",
              " 'in',\n",
              " 'biti',\n",
              " 'res',\n",
              " 'skobacati',\n",
              " 'person1',\n",
              " 'iz',\n",
              " 'njegov',\n",
              " 'naročje',\n",
              " 'prijeti',\n",
              " 'knjiga',\n",
              " 'in',\n",
              " 'person1',\n",
              " 'person1',\n",
              " 'izročiti',\n",
              " 'ne',\n",
              " 'marati',\n",
              " 'lažnivec',\n",
              " 'smeh',\n",
              " 'splahneti',\n",
              " 'proper1',\n",
              " 'splahneti',\n",
              " 'person1',\n",
              " 'obrniti',\n",
              " 'in',\n",
              " 'oditi',\n",
              " 'slišati',\n",
              " 'njegov',\n",
              " 'korak',\n",
              " 'z',\n",
              " 'stisnjen',\n",
              " 'pest',\n",
              " 'sloneti',\n",
              " 'na',\n",
              " 'vrata',\n",
              " 'proper1',\n",
              " 'teči',\n",
              " 'po',\n",
              " 'stopnica',\n",
              " 'biti',\n",
              " 'hoteti',\n",
              " 'biti',\n",
              " 'hoteti',\n",
              " 'proper1',\n",
              " 'biti',\n",
              " 'že',\n",
              " 'v',\n",
              " 'drug',\n",
              " 'nadstropje',\n",
              " 'proper1',\n",
              " 'vrniti',\n",
              " 'person1',\n",
              " 'proper1',\n",
              " 'po',\n",
              " 'hodnik',\n",
              " 'odzvanjati',\n",
              " 'vežen',\n",
              " 'vrata',\n",
              " 'person1',\n",
              " 'zaloputniti',\n",
              " 'čez',\n",
              " 'pokopališče',\n",
              " 'na',\n",
              " 'vojvodinski',\n",
              " 'ravnina',\n",
              " 'večno',\n",
              " 'pihati',\n",
              " 'veter',\n",
              " 'nekajkrat',\n",
              " 'person1',\n",
              " 'biti',\n",
              " 'peljati',\n",
              " 'tja',\n",
              " 'v',\n",
              " 'črn',\n",
              " 'rdeče',\n",
              " 'oblazinjen',\n",
              " 'taksi',\n",
              " 'tam',\n",
              " 'person1',\n",
              " 'ne',\n",
              " 'biti',\n",
              " 'nikoli',\n",
              " 'person1',\n",
              " 'spremeniti',\n",
              " 'vsak',\n",
              " 'njen',\n",
              " 'obisk',\n",
              " 'biti',\n",
              " 'natančno',\n",
              " 'tak',\n",
              " 'kot',\n",
              " 'ves',\n",
              " 'prejšnji',\n",
              " 'še',\n",
              " 'celo',\n",
              " 'profil',\n",
              " 'biti',\n",
              " 'večno',\n",
              " 'enako',\n",
              " 'tog',\n",
              " 'in',\n",
              " 'nerazrešljiv',\n",
              " 'drevored',\n",
              " 'morda',\n",
              " 'biti',\n",
              " 'topol',\n",
              " 'vsakič',\n",
              " 'srečati',\n",
              " 'kak',\n",
              " 'pogreb',\n",
              " 'potka',\n",
              " 'med',\n",
              " 'parcela',\n",
              " 'na',\n",
              " 'dolg',\n",
              " 'drog',\n",
              " 'tablica',\n",
              " 'iz',\n",
              " 'črn',\n",
              " 'kovina',\n",
              " 'in',\n",
              " 'bel',\n",
              " 'številka',\n",
              " 'zelo',\n",
              " 'person1',\n",
              " 'zebsti',\n",
              " 'iskati',\n",
              " 'dolgo',\n",
              " 'potem',\n",
              " 'stati',\n",
              " 'brez',\n",
              " 'misel',\n",
              " 'pred',\n",
              " 'na',\n",
              " 'pol',\n",
              " 'preperel',\n",
              " 'lesen',\n",
              " 'tabla',\n",
              " 'z',\n",
              " 'črka',\n",
              " 'med',\n",
              " 'nek',\n",
              " 'davno',\n",
              " 'mrtev',\n",
              " 'in',\n",
              " 'nič',\n",
              " 'podoben',\n",
              " 'cvetje',\n",
              " 'number1',\n",
              " 'dekle',\n",
              " 'še',\n",
              " 'vedno',\n",
              " 'stati',\n",
              " 'v',\n",
              " 'tuj',\n",
              " 'soba',\n",
              " 'za',\n",
              " 'kateri',\n",
              " 'ne',\n",
              " 'vedeti',\n",
              " 'kam',\n",
              " 'spadati',\n",
              " 'kateri',\n",
              " 'ulica',\n",
              " 'kateri',\n",
              " 'mesto',\n",
              " 'še',\n",
              " 'vedno',\n",
              " 'strmeti',\n",
              " 'v',\n",
              " 'slonokoščen',\n",
              " 'barva',\n",
              " 'njen',\n",
              " 'spremljevalec',\n",
              " 'person1',\n",
              " ...]"
            ]
          },
          "metadata": {},
          "execution_count": 4
        }
      ]
    },
    {
      "cell_type": "markdown",
      "id": "e1ba5834",
      "metadata": {
        "id": "e1ba5834"
      },
      "source": [
        "Model configs:\n",
        "- *vector_size*: 100 (default)\n",
        "- *window*: 5 (default)\n",
        "- *min_count*: 1, 5, 10 (default)\n",
        "- *workers*: 3 (default)\n",
        "- *sg*: CBOW  (default)\n",
        "- *hs*: negative sampling (default)\n",
        "- *negative*: negative sampling, 5 (default)\n",
        "- *max_vocab_size*: None (default)\n",
        "- *epochs*: 5 (default)\n",
        "\n"
      ]
    },
    {
      "cell_type": "code",
      "source": [
        "%%time\n",
        "from gensim.models import Word2Vec\n",
        "\n",
        "dimension = 100\n",
        "model = Word2Vec(sentences=corpus, vector_size=dimension, min_count=1)"
      ],
      "metadata": {
        "colab": {
          "base_uri": "https://localhost:8080/"
        },
        "id": "7ki9kYVIbv_W",
        "outputId": "26bb29e0-a6c0-49de-e731-bb88e6a3b9b3"
      },
      "id": "7ki9kYVIbv_W",
      "execution_count": null,
      "outputs": [
        {
          "output_type": "stream",
          "name": "stdout",
          "text": [
            "CPU times: user 11min 42s, sys: 3.95 s, total: 11min 46s\n",
            "Wall time: 7min 48s\n"
          ]
        }
      ]
    },
    {
      "cell_type": "code",
      "execution_count": null,
      "id": "f389b7bc",
      "metadata": {
        "id": "f389b7bc"
      },
      "outputs": [],
      "source": [
        "dictionary = {key : model.wv[key] for key in model.wv.key_to_index}"
      ]
    },
    {
      "cell_type": "code",
      "execution_count": null,
      "id": "5bae5562",
      "metadata": {
        "id": "5bae5562",
        "colab": {
          "base_uri": "https://localhost:8080/"
        },
        "outputId": "6f4f8dd1-8588-428e-e4a9-85a450a07ab8"
      },
      "outputs": [
        {
          "output_type": "execute_result",
          "data": {
            "text/plain": [
              "245693"
            ]
          },
          "metadata": {},
          "execution_count": 7
        }
      ],
      "source": [
        "# Unique words in the dictionary\n",
        "len(dictionary)"
      ]
    },
    {
      "cell_type": "code",
      "source": [
        "%%time\n",
        "from gensim.models import Word2Vec\n",
        "\n",
        "dimension = 100\n",
        "model5 = Word2Vec(sentences=corpus, vector_size=dimension, min_count=5)"
      ],
      "metadata": {
        "colab": {
          "base_uri": "https://localhost:8080/"
        },
        "id": "HUgw3SCUeXal",
        "outputId": "3bf96364-aca9-4e67-ac53-a26226ea3e05"
      },
      "id": "HUgw3SCUeXal",
      "execution_count": null,
      "outputs": [
        {
          "output_type": "stream",
          "name": "stdout",
          "text": [
            "CPU times: user 9min 26s, sys: 2.78 s, total: 9min 29s\n",
            "Wall time: 5min 53s\n"
          ]
        }
      ]
    },
    {
      "cell_type": "code",
      "source": [
        "dictionary5 = {key : model5.wv[key] for key in model5.wv.key_to_index}"
      ],
      "metadata": {
        "id": "xM9JyepMfU9r"
      },
      "id": "xM9JyepMfU9r",
      "execution_count": null,
      "outputs": []
    },
    {
      "cell_type": "code",
      "source": [
        "len(dictionary5)"
      ],
      "metadata": {
        "colab": {
          "base_uri": "https://localhost:8080/"
        },
        "id": "L4MBN0FXfZ7d",
        "outputId": "572d8189-c661-44da-cd3f-c6d57f210035"
      },
      "id": "L4MBN0FXfZ7d",
      "execution_count": null,
      "outputs": [
        {
          "output_type": "execute_result",
          "data": {
            "text/plain": [
              "186405"
            ]
          },
          "metadata": {},
          "execution_count": 5
        }
      ]
    },
    {
      "cell_type": "code",
      "source": [
        "%%time\n",
        "from gensim.models import Word2Vec\n",
        "\n",
        "dimension = 100\n",
        "model10 = Word2Vec(sentences=corpus, vector_size=dimension, min_count=10)"
      ],
      "metadata": {
        "colab": {
          "base_uri": "https://localhost:8080/"
        },
        "id": "h7S3V054LgrZ",
        "outputId": "2fa17cd7-17eb-4669-bbf6-ed5ebf9bdaf0"
      },
      "id": "h7S3V054LgrZ",
      "execution_count": null,
      "outputs": [
        {
          "output_type": "stream",
          "name": "stdout",
          "text": [
            "CPU times: user 10min 59s, sys: 3.02 s, total: 11min 2s\n",
            "Wall time: 7min 11s\n"
          ]
        }
      ]
    },
    {
      "cell_type": "code",
      "source": [
        "dictionary10 = {key : model10.wv[key] for key in model10.wv.key_to_index}"
      ],
      "metadata": {
        "id": "AszGf4v_L9rT"
      },
      "id": "AszGf4v_L9rT",
      "execution_count": null,
      "outputs": []
    },
    {
      "cell_type": "code",
      "source": [
        "len(dictionary10)"
      ],
      "metadata": {
        "colab": {
          "base_uri": "https://localhost:8080/"
        },
        "id": "NZn2IWPXL_xo",
        "outputId": "aa11533c-378f-4d07-b971-03b28119c753"
      },
      "id": "NZn2IWPXL_xo",
      "execution_count": null,
      "outputs": [
        {
          "output_type": "execute_result",
          "data": {
            "text/plain": [
              "122442"
            ]
          },
          "metadata": {},
          "execution_count": 7
        }
      ]
    },
    {
      "cell_type": "code",
      "source": [
        "%%time\n",
        "model102 = Word2Vec(sentences=corpus, vector_size=dimension, window=10,\n",
        "    min_count=10,\n",
        "    workers=5,\n",
        "    epochs=10)"
      ],
      "metadata": {
        "colab": {
          "base_uri": "https://localhost:8080/"
        },
        "id": "y3KOSrqyQK4R",
        "outputId": "27d53d53-6cfc-4717-e868-d400f1885aa9"
      },
      "id": "y3KOSrqyQK4R",
      "execution_count": null,
      "outputs": [
        {
          "output_type": "stream",
          "name": "stdout",
          "text": [
            "CPU times: user 24min 27s, sys: 6.02 s, total: 24min 33s\n",
            "Wall time: 15min\n"
          ]
        }
      ]
    },
    {
      "cell_type": "code",
      "source": [
        "dictionary102 = {key : model102.wv[key] for key in model102.wv.key_to_index}"
      ],
      "metadata": {
        "id": "xWYsyRcqUJVz"
      },
      "id": "xWYsyRcqUJVz",
      "execution_count": null,
      "outputs": []
    },
    {
      "cell_type": "code",
      "source": [
        "len(dictionary102)"
      ],
      "metadata": {
        "colab": {
          "base_uri": "https://localhost:8080/"
        },
        "id": "QP3Sy8O9UTud",
        "outputId": "82431242-e538-4bc3-b17a-6ecc71093a7b"
      },
      "id": "QP3Sy8O9UTud",
      "execution_count": null,
      "outputs": [
        {
          "output_type": "execute_result",
          "data": {
            "text/plain": [
              "122442"
            ]
          },
          "metadata": {},
          "execution_count": 16
        }
      ]
    },
    {
      "cell_type": "markdown",
      "source": [
        "# Cosine similarity"
      ],
      "metadata": {
        "id": "3NceBgSPl1Lr"
      },
      "id": "3NceBgSPl1Lr"
    },
    {
      "cell_type": "markdown",
      "id": "069b3831",
      "metadata": {
        "id": "069b3831"
      },
      "source": [
        "Test the embeddings using the cosine distance to find the closest word"
      ]
    },
    {
      "cell_type": "code",
      "execution_count": null,
      "id": "1dfe4e97",
      "metadata": {
        "id": "1dfe4e97",
        "colab": {
          "base_uri": "https://localhost:8080/"
        },
        "outputId": "a1f321f3-ac37-4a52-df72-624ec22f4cad"
      },
      "outputs": [
        {
          "output_type": "execute_result",
          "data": {
            "text/plain": [
              "[('ljubezin', 0.7443608641624451),\n",
              " ('hvaležnost', 0.7351136207580566),\n",
              " ('vdanost', 0.7278461456298828),\n",
              " ('ljubav', 0.7186066508293152),\n",
              " ('ljubeznija', 0.6911452412605286),\n",
              " ('lju', 0.6844321489334106),\n",
              " ('sočutje', 0.6788191199302673),\n",
              " ('usmiljenost', 0.6761879324913025),\n",
              " ('prijateljstvo', 0.649135410785675),\n",
              " ('spoštovanje', 0.6480661034584045)]"
            ]
          },
          "metadata": {},
          "execution_count": 12
        }
      ],
      "source": [
        "model.wv.most_similar('ljubezen') # любовь"
      ]
    },
    {
      "cell_type": "code",
      "source": [
        "model5.wv.most_similar('ljubezen')"
      ],
      "metadata": {
        "colab": {
          "base_uri": "https://localhost:8080/"
        },
        "id": "2p_bq5dsVN_Q",
        "outputId": "e9440b3a-0610-4184-d913-e3d5ede1be3c"
      },
      "id": "2p_bq5dsVN_Q",
      "execution_count": null,
      "outputs": [
        {
          "output_type": "execute_result",
          "data": {
            "text/plain": [
              "[('ljubezin', 0.7343877553939819),\n",
              " ('hvaležnost', 0.7269481420516968),\n",
              " ('vdanost', 0.7230265140533447),\n",
              " ('lju', 0.6998092532157898),\n",
              " ('ljubav', 0.6946496963500977),\n",
              " ('sočutje', 0.6898185610771179),\n",
              " ('ljubeznija', 0.6815904974937439),\n",
              " ('usmiljenost', 0.6663395762443542),\n",
              " ('spoštovanje', 0.6516414880752563),\n",
              " ('zvestost', 0.6395222544670105)]"
            ]
          },
          "metadata": {},
          "execution_count": 27
        }
      ]
    },
    {
      "cell_type": "code",
      "source": [
        "model10.wv.most_similar('ljubezen')"
      ],
      "metadata": {
        "colab": {
          "base_uri": "https://localhost:8080/"
        },
        "id": "Q9pKPRMHMFN-",
        "outputId": "4ec5fe38-9ffb-4785-e228-96537d61e6db"
      },
      "id": "Q9pKPRMHMFN-",
      "execution_count": null,
      "outputs": [
        {
          "output_type": "execute_result",
          "data": {
            "text/plain": [
              "[('ljubezin', 0.775059700012207),\n",
              " ('hvaležnost', 0.7430786490440369),\n",
              " ('vdanost', 0.7302815318107605),\n",
              " ('lju', 0.7154040932655334),\n",
              " ('ljubeznija', 0.7108976244926453),\n",
              " ('ljubav', 0.6898540258407593),\n",
              " ('usmiljenost', 0.680066704750061),\n",
              " ('sočutje', 0.6710894703865051),\n",
              " ('milosrčnost', 0.658089816570282),\n",
              " ('udanost', 0.6555747985839844)]"
            ]
          },
          "metadata": {},
          "execution_count": 8
        }
      ]
    },
    {
      "cell_type": "code",
      "source": [
        "model.wv.most_similar('noč') # ночь"
      ],
      "metadata": {
        "colab": {
          "base_uri": "https://localhost:8080/"
        },
        "id": "WS0w0bV6ks7_",
        "outputId": "19d3a9ca-b6ec-4cda-999e-0238c322d743"
      },
      "id": "WS0w0bV6ks7_",
      "execution_count": null,
      "outputs": [
        {
          "output_type": "execute_result",
          "data": {
            "text/plain": [
              "[('noh', 0.6933416724205017),\n",
              " ('večer', 0.6613051891326904),\n",
              " ('mrak', 0.6402956247329712),\n",
              " ('noha', 0.6232649683952332),\n",
              " ('noc', 0.6083472967147827),\n",
              " ('ponoči', 0.5921524167060852),\n",
              " ('jutro', 0.575903594493866),\n",
              " ('zima', 0.5695030093193054),\n",
              " ('polnoč', 0.5513136982917786),\n",
              " ('popoldan', 0.5385251641273499)]"
            ]
          },
          "metadata": {},
          "execution_count": 17
        }
      ]
    },
    {
      "cell_type": "code",
      "source": [
        "model5.wv.most_similar('noč')"
      ],
      "metadata": {
        "colab": {
          "base_uri": "https://localhost:8080/"
        },
        "id": "v98krXBHk1lb",
        "outputId": "d4a77279-6d4a-4fba-d104-06e9cf51778e"
      },
      "id": "v98krXBHk1lb",
      "execution_count": null,
      "outputs": [
        {
          "output_type": "execute_result",
          "data": {
            "text/plain": [
              "[('noh', 0.700498104095459),\n",
              " ('mrak', 0.6718565821647644),\n",
              " ('noc', 0.6508113741874695),\n",
              " ('večer', 0.6409862041473389),\n",
              " ('noha', 0.6337021589279175),\n",
              " ('ponoči', 0.5763673186302185),\n",
              " ('zima', 0.570056676864624),\n",
              " ('jutro', 0.5688253045082092),\n",
              " ('polnoč', 0.5457406044006348),\n",
              " ('popoldan', 0.5439216494560242)]"
            ]
          },
          "metadata": {},
          "execution_count": 28
        }
      ]
    },
    {
      "cell_type": "code",
      "source": [
        "model10.wv.most_similar('noč')"
      ],
      "metadata": {
        "colab": {
          "base_uri": "https://localhost:8080/"
        },
        "id": "F9R7d5J9MKOp",
        "outputId": "8860879c-eb74-4371-e325-7c419745b9d2"
      },
      "id": "F9R7d5J9MKOp",
      "execution_count": null,
      "outputs": [
        {
          "output_type": "execute_result",
          "data": {
            "text/plain": [
              "[('noh', 0.6645951271057129),\n",
              " ('mrak', 0.6488473415374756),\n",
              " ('večer', 0.6268515586853027),\n",
              " ('noha', 0.615777313709259),\n",
              " ('ponoči', 0.5896427035331726),\n",
              " ('noc', 0.5839037299156189),\n",
              " ('popoldan', 0.5513639450073242),\n",
              " ('zima', 0.5502399802207947),\n",
              " ('jutro', 0.5480504035949707),\n",
              " ('dana', 0.5275076627731323)]"
            ]
          },
          "metadata": {},
          "execution_count": 9
        }
      ]
    },
    {
      "cell_type": "code",
      "source": [
        "model.wv.most_similar('bolnišnica') # больница"
      ],
      "metadata": {
        "colab": {
          "base_uri": "https://localhost:8080/"
        },
        "id": "yC5789jck79n",
        "outputId": "9d03adda-622c-4b05-c9f2-b8e3608a854c"
      },
      "id": "yC5789jck79n",
      "execution_count": null,
      "outputs": [
        {
          "output_type": "execute_result",
          "data": {
            "text/plain": [
              "[('bolnica', 0.8452498912811279),\n",
              " ('blaznica', 0.7808130383491516),\n",
              " ('hiralnica', 0.7784332036972046),\n",
              " ('sirotišnica', 0.728280246257782),\n",
              " ('norišnica', 0.7279091477394104),\n",
              " ('zavod', 0.6862524151802063),\n",
              " ('ubožnica', 0.6470041871070862),\n",
              " ('lekarna', 0.6359512805938721),\n",
              " ('kaznilnica', 0.6288341283798218),\n",
              " ('špital', 0.6203216314315796)]"
            ]
          },
          "metadata": {},
          "execution_count": 19
        }
      ]
    },
    {
      "cell_type": "code",
      "source": [
        "model5.wv.most_similar('bolnišnica')"
      ],
      "metadata": {
        "colab": {
          "base_uri": "https://localhost:8080/"
        },
        "id": "iuaif83Ql8xc",
        "outputId": "bf820cf1-2dc9-4288-b23e-f56e48a875be"
      },
      "id": "iuaif83Ql8xc",
      "execution_count": null,
      "outputs": [
        {
          "output_type": "execute_result",
          "data": {
            "text/plain": [
              "[('bolnica', 0.8536751866340637),\n",
              " ('hiralnica', 0.7626286149024963),\n",
              " ('blaznica', 0.7325839400291443),\n",
              " ('sirotišnica', 0.7120245695114136),\n",
              " ('norišnica', 0.7018075585365295),\n",
              " ('zavod', 0.6997953653335571),\n",
              " ('oskrbovališče', 0.6687705516815186),\n",
              " ('bolniški', 0.6502309441566467),\n",
              " ('ubožnica', 0.645808756351471),\n",
              " ('bolniščnica', 0.6425885558128357)]"
            ]
          },
          "metadata": {},
          "execution_count": 20
        }
      ]
    },
    {
      "cell_type": "code",
      "source": [
        "model10.wv.most_similar('bolnišnica')"
      ],
      "metadata": {
        "colab": {
          "base_uri": "https://localhost:8080/"
        },
        "id": "pIguQDRJMNld",
        "outputId": "c17a89cd-39cd-4cb1-c13d-cc2780ef2238"
      },
      "id": "pIguQDRJMNld",
      "execution_count": null,
      "outputs": [
        {
          "output_type": "execute_result",
          "data": {
            "text/plain": [
              "[('bolnica', 0.8429074287414551),\n",
              " ('blaznica', 0.7511019706726074),\n",
              " ('hiralnica', 0.7476999163627625),\n",
              " ('zavod', 0.6909267902374268),\n",
              " ('sirotišnica', 0.6862621307373047),\n",
              " ('ubožnica', 0.6704066395759583),\n",
              " ('lekarna', 0.6632823944091797),\n",
              " ('norišnica', 0.660028874874115),\n",
              " ('jetnišnica', 0.6264970302581787),\n",
              " ('bolniščnica', 0.6208772659301758)]"
            ]
          },
          "metadata": {},
          "execution_count": 10
        }
      ]
    },
    {
      "cell_type": "code",
      "source": [
        "model.wv.most_similar('vrata') # дверь"
      ],
      "metadata": {
        "colab": {
          "base_uri": "https://localhost:8080/"
        },
        "id": "znX5byaimLO6",
        "outputId": "2777a263-fe29-491d-b4f7-9fa7c2222a65"
      },
      "id": "znX5byaimLO6",
      "execution_count": null,
      "outputs": [
        {
          "output_type": "execute_result",
          "data": {
            "text/plain": [
              "[('duri', 0.9040144085884094),\n",
              " ('dur', 0.8448166847229004),\n",
              " ('dveri', 0.7953341007232666),\n",
              " ('dura', 0.7808150053024292),\n",
              " ('vratca', 0.7772207260131836),\n",
              " ('duriti', 0.7752901315689087),\n",
              " ('dver', 0.7672568559646606),\n",
              " ('vratič', 0.7491240501403809),\n",
              " ('okno', 0.7328328490257263),\n",
              " ('okence', 0.7184924483299255)]"
            ]
          },
          "metadata": {},
          "execution_count": 21
        }
      ]
    },
    {
      "cell_type": "code",
      "source": [
        "model5.wv.most_similar('vrata')"
      ],
      "metadata": {
        "colab": {
          "base_uri": "https://localhost:8080/"
        },
        "id": "NksqoeuGmOLJ",
        "outputId": "2b9abc98-e609-46d9-d96e-838278892200"
      },
      "id": "NksqoeuGmOLJ",
      "execution_count": null,
      "outputs": [
        {
          "output_type": "execute_result",
          "data": {
            "text/plain": [
              "[('duri', 0.9047405123710632),\n",
              " ('dur', 0.8611709475517273),\n",
              " ('dveri', 0.788261890411377),\n",
              " ('vratca', 0.7764025926589966),\n",
              " ('dura', 0.7665100693702698),\n",
              " ('okno', 0.7519477009773254),\n",
              " ('dver', 0.7442157864570618),\n",
              " ('duriti', 0.7394031286239624),\n",
              " ('vratič', 0.7384836077690125),\n",
              " ('okence', 0.7217069864273071)]"
            ]
          },
          "metadata": {},
          "execution_count": 29
        }
      ]
    },
    {
      "cell_type": "code",
      "source": [
        "model10.wv.most_similar('vrata')"
      ],
      "metadata": {
        "colab": {
          "base_uri": "https://localhost:8080/"
        },
        "id": "xYWZ-XH_MQH5",
        "outputId": "6d5bf6e8-7a30-4d5c-98b4-f67344ed0aa3"
      },
      "id": "xYWZ-XH_MQH5",
      "execution_count": null,
      "outputs": [
        {
          "output_type": "execute_result",
          "data": {
            "text/plain": [
              "[('duri', 0.9138798713684082),\n",
              " ('dur', 0.8554231524467468),\n",
              " ('dveri', 0.8037192225456238),\n",
              " ('dver', 0.7908201813697815),\n",
              " ('vratca', 0.787938117980957),\n",
              " ('dura', 0.7801281809806824),\n",
              " ('vratič', 0.7721148729324341),\n",
              " ('duriti', 0.7523799538612366),\n",
              " ('ključavnica', 0.7429252862930298),\n",
              " ('okno', 0.7388753890991211)]"
            ]
          },
          "metadata": {},
          "execution_count": 11
        }
      ]
    },
    {
      "cell_type": "code",
      "source": [
        "# Should return \"kraljica\" (queen)\n",
        "model5.wv.most_similar(positive=[\"žena\", \"kralj\"], negative=[\"moški\"])"
      ],
      "metadata": {
        "colab": {
          "base_uri": "https://localhost:8080/"
        },
        "id": "GarUudFW8ZFb",
        "outputId": "65b86b60-de22-49f0-d7d9-fd5fe3f56575"
      },
      "id": "GarUudFW8ZFb",
      "execution_count": null,
      "outputs": [
        {
          "output_type": "execute_result",
          "data": {
            "text/plain": [
              "[('vojvoda', 0.6235020756721497),\n",
              " ('car', 0.6080947518348694),\n",
              " ('cesar', 0.6029267907142639),\n",
              " ('sultan', 0.602124810218811),\n",
              " ('kraljevič', 0.5961639881134033),\n",
              " ('ohet', 0.5921636819839478),\n",
              " ('knez', 0.5845325589179993),\n",
              " ('kraljica', 0.5749280452728271),\n",
              " ('princesinja', 0.5737755298614502),\n",
              " ('kraljičen', 0.5716594457626343)]"
            ]
          },
          "metadata": {},
          "execution_count": 6
        }
      ]
    },
    {
      "cell_type": "code",
      "source": [
        "model10.wv.most_similar(positive=[\"žena\", \"kralj\"], negative=[\"moški\"])"
      ],
      "metadata": {
        "colab": {
          "base_uri": "https://localhost:8080/"
        },
        "id": "vyeDvJAgMUXK",
        "outputId": "2d9075e5-e4e4-4a11-d091-59375b722627"
      },
      "id": "vyeDvJAgMUXK",
      "execution_count": null,
      "outputs": [
        {
          "output_type": "execute_result",
          "data": {
            "text/plain": [
              "[('vojvoda', 0.6240739822387695),\n",
              " ('ohet', 0.6114301085472107),\n",
              " ('car', 0.6105125546455383),\n",
              " ('kraljevič', 0.6057676076889038),\n",
              " ('kraljica', 0.5911204814910889),\n",
              " ('cesar', 0.5906939506530762),\n",
              " ('oče', 0.5888693928718567),\n",
              " ('sultan', 0.5805400609970093),\n",
              " ('sina', 0.5667123198509216),\n",
              " ('knez', 0.5665797591209412)]"
            ]
          },
          "metadata": {},
          "execution_count": 12
        }
      ]
    },
    {
      "cell_type": "markdown",
      "source": [
        "# Save the dictionary"
      ],
      "metadata": {
        "id": "R0n_9r__pzYy"
      },
      "id": "R0n_9r__pzYy"
    },
    {
      "cell_type": "code",
      "execution_count": null,
      "id": "7d6aee1b",
      "metadata": {
        "id": "7d6aee1b"
      },
      "outputs": [],
      "source": [
        "# Save to the file\n",
        "def save_dictionary(fname, dictionary, args):\n",
        "    length, dimension = args\n",
        "    fin = io.open(fname, 'w', encoding='utf-8')\n",
        "    fin.write('%d %d\\n' % (length, dimension))\n",
        "    for word in dictionary:\n",
        "        fin.write('%s %s\\n' % (word, ' '.join(map(str, dictionary[word]))))\n",
        "\n",
        "# Load from the file\n",
        "def load_dictionary(fname):\n",
        "    fin = io.open(fname, 'r', encoding='utf-8', newline='\\n', errors='ignore')\n",
        "    length, dimension = map(int, fin.readline().split())\n",
        "    dictionary = {}\n",
        "    for line in fin:\n",
        "        tokens = line.rstrip().split(' ')\n",
        "        dictionary[tokens[0]] = map(float, tokens[1:])\n",
        "    return dictionary"
      ]
    },
    {
      "cell_type": "code",
      "execution_count": null,
      "id": "fd7bcf42",
      "metadata": {
        "id": "fd7bcf42"
      },
      "outputs": [],
      "source": [
        "# Save the dictionary\n",
        "save_dictionary('slovenian_lit_cbow_dictionary.txt', dictionary102, (len(dictionary102), dimension))"
      ]
    },
    {
      "cell_type": "code",
      "execution_count": null,
      "id": "1c27c4c2",
      "metadata": {
        "id": "1c27c4c2",
        "colab": {
          "base_uri": "https://localhost:8080/"
        },
        "outputId": "697183ff-935d-4888-a71f-21836c438158"
      },
      "outputs": [
        {
          "output_type": "execute_result",
          "data": {
            "text/plain": [
              "True"
            ]
          },
          "metadata": {},
          "execution_count": 20
        }
      ],
      "source": [
        "# Check that everything is saved correctly\n",
        "loaded_dictionary = load_dictionary('slovenian_lit_cbow_dictionary.txt')\n",
        "len(dictionary102) == len(loaded_dictionary)"
      ]
    },
    {
      "cell_type": "markdown",
      "id": "97d33a5b",
      "metadata": {
        "id": "97d33a5b"
      },
      "source": [
        "# Normalize embeddings"
      ]
    },
    {
      "cell_type": "code",
      "source": [
        "import numpy as np\n",
        "\n",
        "# Only vectors\n",
        "embeddings = np.array([model102.wv[key] for key in model102.wv.key_to_index])"
      ],
      "metadata": {
        "id": "bbOGN4zb6zS1"
      },
      "id": "bbOGN4zb6zS1",
      "execution_count": null,
      "outputs": []
    },
    {
      "cell_type": "code",
      "source": [
        "if isinstance(dictionary102, dict):\n",
        "    embeddings_array = np.stack(list(dictionary102.values()))\n",
        "    print(embeddings_array.shape)"
      ],
      "metadata": {
        "colab": {
          "base_uri": "https://localhost:8080/"
        },
        "id": "bL6KkwX1e277",
        "outputId": "a4b0ff66-62ad-4aa7-c280-97d3fbaba43e"
      },
      "id": "bL6KkwX1e277",
      "execution_count": null,
      "outputs": [
        {
          "output_type": "stream",
          "name": "stdout",
          "text": [
            "(122442, 100)\n"
          ]
        }
      ]
    },
    {
      "cell_type": "code",
      "source": [
        "# To be safe\n",
        "embeddings == embeddings_array"
      ],
      "metadata": {
        "colab": {
          "base_uri": "https://localhost:8080/"
        },
        "id": "YWhR_-sYfMXC",
        "outputId": "bfaf79c2-3209-4e55-e6ee-d874d1dbada5"
      },
      "id": "YWhR_-sYfMXC",
      "execution_count": null,
      "outputs": [
        {
          "output_type": "execute_result",
          "data": {
            "text/plain": [
              "array([[ True,  True,  True, ...,  True,  True,  True],\n",
              "       [ True,  True,  True, ...,  True,  True,  True],\n",
              "       [ True,  True,  True, ...,  True,  True,  True],\n",
              "       ...,\n",
              "       [ True,  True,  True, ...,  True,  True,  True],\n",
              "       [ True,  True,  True, ...,  True,  True,  True],\n",
              "       [ True,  True,  True, ...,  True,  True,  True]])"
            ]
          },
          "metadata": {},
          "execution_count": 23
        }
      ]
    },
    {
      "cell_type": "code",
      "source": [
        "print(np.mean(embeddings, axis=0))"
      ],
      "metadata": {
        "colab": {
          "base_uri": "https://localhost:8080/"
        },
        "id": "tBTso6Rj8N0v",
        "outputId": "4b28b5cf-4487-4f2e-bafc-4b83e46ceec2"
      },
      "id": "tBTso6Rj8N0v",
      "execution_count": null,
      "outputs": [
        {
          "output_type": "stream",
          "name": "stdout",
          "text": [
            "[-0.07059771  0.03941076  0.10930424  0.15353803  0.05931872 -0.10170517\n",
            "  0.04471296  0.24379937 -0.0657516  -0.14199336 -0.04182344 -0.14766984\n",
            " -0.16159578  0.05366978  0.11611334 -0.03227548  0.08187168 -0.10060285\n",
            "  0.04742604 -0.12660177  0.03224041  0.15476266  0.16851442 -0.06496949\n",
            "  0.03872925 -0.05034385 -0.05031683 -0.0078432  -0.08056895  0.08916444\n",
            "  0.07734482 -0.10094862 -0.05585996 -0.11030429 -0.13264331  0.03822085\n",
            "  0.07008892 -0.03164747 -0.02296917 -0.0578387   0.07054667 -0.09232847\n",
            " -0.04766405  0.0231702   0.08084486 -0.02830119 -0.12071595  0.12438279\n",
            "  0.06324868  0.02113148  0.0470047  -0.05839137 -0.01198034  0.03716147\n",
            " -0.06762396  0.07516376  0.11207464  0.00672192 -0.0158732   0.00782592\n",
            "  0.09230177  0.13044569 -0.03177659  0.0031035  -0.04523661  0.05158734\n",
            " -0.10364844  0.14823744 -0.0212756   0.09645062  0.00652571  0.12034094\n",
            "  0.25995535 -0.10706577  0.02700309  0.02520932 -0.02806316 -0.06674539\n",
            " -0.00265587 -0.06297791 -0.13943194  0.01062474  0.02899203  0.07123123\n",
            "  0.00155811  0.00989688  0.00913097  0.03505559  0.06867781  0.11057146\n",
            "  0.08067933  0.0715232  -0.00615026 -0.03212525  0.15325668  0.14396244\n",
            " -0.00144795 -0.04087985  0.01703052 -0.04119008]\n"
          ]
        }
      ]
    },
    {
      "cell_type": "code",
      "source": [
        "# Count length of every vector\n",
        "lengths = np.linalg.norm(embeddings, axis=1)\n",
        "\n",
        "print(\"Min:\", np.min(lengths))\n",
        "print(\"Max:\", np.max(lengths))\n",
        "print(\"Mean:\", np.mean(lengths))\n",
        "\n",
        "tolerance = 1e-6\n",
        "is_normalized = np.allclose(lengths, 1.0, atol=tolerance)\n",
        "print(\"Normalized?\", is_normalized)"
      ],
      "metadata": {
        "colab": {
          "base_uri": "https://localhost:8080/"
        },
        "id": "kBe7uJbv8cVz",
        "outputId": "73ec66f8-0cd0-4bfa-9314-0a8aa51db40c"
      },
      "id": "kBe7uJbv8cVz",
      "execution_count": null,
      "outputs": [
        {
          "output_type": "stream",
          "name": "stdout",
          "text": [
            "Min: 0.048922785\n",
            "Max: 38.42067\n",
            "Mean: 4.100624\n",
            "Normalized? False\n"
          ]
        }
      ]
    },
    {
      "cell_type": "code",
      "source": [
        "normalized_embeddings = embeddings / np.linalg.norm(embeddings, axis=1, keepdims=True)\n",
        "\n",
        "np.linalg.norm(normalized_embeddings[0]) # 1.0 if normalized"
      ],
      "metadata": {
        "colab": {
          "base_uri": "https://localhost:8080/"
        },
        "id": "3mH1kg3B8_OH",
        "outputId": "e26c0117-2933-457b-d579-08a012c30439"
      },
      "id": "3mH1kg3B8_OH",
      "execution_count": null,
      "outputs": [
        {
          "output_type": "execute_result",
          "data": {
            "text/plain": [
              "1.0"
            ]
          },
          "metadata": {},
          "execution_count": 26
        }
      ]
    },
    {
      "cell_type": "code",
      "source": [
        "lengths = np.linalg.norm(normalized_embeddings, axis=1)\n",
        "print(\"Min:\", np.min(lengths), \"Max:\", np.max(lengths))"
      ],
      "metadata": {
        "colab": {
          "base_uri": "https://localhost:8080/"
        },
        "id": "sPTWDe6x9fW-",
        "outputId": "c04b0c09-6958-42ec-8aaa-1881c65fac58"
      },
      "id": "sPTWDe6x9fW-",
      "execution_count": null,
      "outputs": [
        {
          "output_type": "stream",
          "name": "stdout",
          "text": [
            "Min: 0.99999976 Max: 1.0000001\n"
          ]
        }
      ]
    },
    {
      "cell_type": "code",
      "source": [
        "embeddings.shape, normalized_embeddings.shape"
      ],
      "metadata": {
        "colab": {
          "base_uri": "https://localhost:8080/"
        },
        "id": "WQyZTn8g9rfh",
        "outputId": "993b9179-dfe5-469c-bbc9-2b5ba854ec6f"
      },
      "id": "WQyZTn8g9rfh",
      "execution_count": null,
      "outputs": [
        {
          "output_type": "execute_result",
          "data": {
            "text/plain": [
              "((122442, 100), (122442, 100))"
            ]
          },
          "metadata": {},
          "execution_count": 28
        }
      ]
    },
    {
      "cell_type": "code",
      "source": [
        "# Save the vectors\n",
        "np.save('slv_cbow_embeddings.npy', embeddings)\n",
        "np.save('slv_cbow_norm_embeddings.npy', normalized_embeddings)"
      ],
      "metadata": {
        "id": "kKG32mc0_OiC"
      },
      "id": "kKG32mc0_OiC",
      "execution_count": null,
      "outputs": []
    },
    {
      "cell_type": "code",
      "source": [
        "normalized_embeddings[0]"
      ],
      "metadata": {
        "colab": {
          "base_uri": "https://localhost:8080/"
        },
        "id": "KjZRDa1lIJlg",
        "outputId": "0a7ea418-1a34-4be8-c937-7d6160ab21ed"
      },
      "id": "KjZRDa1lIJlg",
      "execution_count": null,
      "outputs": [
        {
          "output_type": "execute_result",
          "data": {
            "text/plain": [
              "array([ 0.02118168,  0.05342397, -0.14375383, -0.02004769, -0.00900114,\n",
              "       -0.14250864, -0.03068894,  0.02022715,  0.23298879,  0.1512992 ,\n",
              "        0.12434006,  0.15572858, -0.09069086,  0.09044349,  0.06240951,\n",
              "        0.00926695, -0.11652884,  0.06036509,  0.1272649 , -0.15125626,\n",
              "        0.02916634, -0.2109348 , -0.10176457,  0.08630629, -0.03008753,\n",
              "       -0.09506394,  0.16431053, -0.06911016, -0.03953129, -0.04611079,\n",
              "        0.01551666,  0.07337324, -0.00821816,  0.14733693,  0.0081516 ,\n",
              "        0.10107444, -0.08414944,  0.04110866, -0.19735086, -0.05783328,\n",
              "       -0.29834217,  0.15377979, -0.02088827,  0.06053209, -0.07876908,\n",
              "        0.12414975,  0.06215041, -0.01024656, -0.07889498, -0.03305475,\n",
              "        0.05111475,  0.03049413, -0.01741393, -0.01334824, -0.0184912 ,\n",
              "        0.12769285, -0.16424446, -0.02933215, -0.0625499 , -0.08111831,\n",
              "        0.07617046,  0.03291896,  0.0443411 , -0.0536753 , -0.10379271,\n",
              "       -0.08132328, -0.03250827, -0.06878819,  0.04599227, -0.17814182,\n",
              "        0.03664287, -0.05806295, -0.12765054, -0.05424501, -0.0508625 ,\n",
              "       -0.00287755,  0.02246614,  0.02983815,  0.12314603,  0.08616763,\n",
              "        0.16398707, -0.03137695,  0.02929972,  0.02703226, -0.06401879,\n",
              "       -0.08259909,  0.11016081,  0.02429664,  0.08110254,  0.11238231,\n",
              "        0.01761423, -0.17731099,  0.21794267,  0.16034527, -0.15048882,\n",
              "       -0.0753133 ,  0.11960741,  0.11531661, -0.04207528, -0.00991147],\n",
              "      dtype=float32)"
            ]
          },
          "metadata": {},
          "execution_count": 30
        }
      ]
    },
    {
      "cell_type": "code",
      "source": [
        "keys = list(dictionary102.keys())\n",
        "\n",
        "embeddings_dict = {keys[i]: embeddings[i] for i in range(len(keys))}\n",
        "norm_embeddings_dict = {keys[i]: normalized_embeddings[i] for i in range(len(keys))}\n",
        "\n",
        "len(embeddings_dict), len(norm_embeddings_dict)"
      ],
      "metadata": {
        "colab": {
          "base_uri": "https://localhost:8080/"
        },
        "id": "fau1UmAEgC4z",
        "outputId": "de68b889-387a-4301-a42e-6a21e50d2f13"
      },
      "id": "fau1UmAEgC4z",
      "execution_count": null,
      "outputs": [
        {
          "output_type": "execute_result",
          "data": {
            "text/plain": [
              "(122442, 122442)"
            ]
          },
          "metadata": {},
          "execution_count": 32
        }
      ]
    },
    {
      "cell_type": "code",
      "source": [
        "# Save the words+vectors\n",
        "np.save(\"slv_cbow_dictionary.npy\", embeddings_dict)\n",
        "np.save(\"slv_cbow_norm_dictionary.npy\", norm_embeddings_dict)"
      ],
      "metadata": {
        "id": "joVAYhFuEDnL"
      },
      "id": "joVAYhFuEDnL",
      "execution_count": null,
      "outputs": []
    },
    {
      "cell_type": "code",
      "source": [
        "list(embeddings_dict.items())[:5]"
      ],
      "metadata": {
        "colab": {
          "base_uri": "https://localhost:8080/"
        },
        "id": "xIniCEAS98n6",
        "outputId": "ad2a66b5-fc2a-4fa2-ed9e-fe44eb45c4c9"
      },
      "id": "xIniCEAS98n6",
      "execution_count": null,
      "outputs": [
        {
          "output_type": "execute_result",
          "data": {
            "text/plain": [
              "[('biti',\n",
              "  array([ 2.245511  , -0.37591004,  0.07359289, -0.86844724, -1.2867113 ,\n",
              "         -0.53872   , -0.35111532, -0.91323733,  0.85150135,  1.6219636 ,\n",
              "         -0.08780624,  2.120182  ,  1.1496775 ,  1.0370028 , -0.5263339 ,\n",
              "          1.0130963 , -1.7144357 ,  0.34298754, -0.67178935,  1.6849141 ,\n",
              "          0.3686291 , -0.76096517, -0.6851049 ,  1.5850188 ,  0.92904323,\n",
              "         -1.2029287 ,  0.48766077,  0.22314648,  0.7467015 , -1.4872613 ,\n",
              "         -0.4462796 ,  0.20368767,  0.8325704 ,  0.17927776, -0.41679892,\n",
              "          0.38266817,  1.3205478 , -0.5426678 ,  0.65719974,  0.3909346 ,\n",
              "         -0.41382942, -0.51402354,  0.5346958 ,  0.04475643, -1.1537037 ,\n",
              "          1.9535066 , -0.565452  ,  1.2258329 , -0.22880074, -0.9885923 ,\n",
              "          1.164527  , -0.60965526, -1.5852169 ,  0.6375975 , -0.42674032,\n",
              "          0.7400644 , -2.1717079 , -0.27081555, -0.80371976, -0.8869421 ,\n",
              "         -0.44763824,  1.2604892 , -0.8626594 , -1.4548442 ,  0.09213062,\n",
              "         -0.51633334, -0.27146024, -2.2382467 ,  1.7120368 ,  0.1397038 ,\n",
              "         -1.9566646 ,  0.2678499 , -0.7777192 ,  0.60108495,  1.9140732 ,\n",
              "          0.35401306, -0.5247601 , -0.12351146, -0.42241615, -0.6264984 ,\n",
              "          0.8145034 , -0.95931435,  1.8149774 ,  1.0420948 , -1.5464624 ,\n",
              "         -0.48181036, -0.06849265, -1.3679127 , -0.30121443,  0.7833852 ,\n",
              "         -0.6726302 , -0.7325169 ,  0.13342258, -0.9433889 ,  0.711313  ,\n",
              "          1.3085028 , -0.90687567, -1.2119796 , -0.06402989,  0.05315677],\n",
              "        dtype=float32)),\n",
              " ('person1',\n",
              "  array([ 2.2026048 , -0.82308567,  0.28783342, -1.2344869 , -1.0811079 ,\n",
              "         -0.6769258 ,  0.77961856, -0.13744186,  1.6549728 ,  0.13267677,\n",
              "          0.62143356,  2.1478345 ,  2.4972775 ,  1.1222491 ,  0.3915704 ,\n",
              "          1.3370664 ,  0.19382508,  0.35073996, -0.9635615 ,  1.1084032 ,\n",
              "          0.20404997, -1.858649  , -0.28592226,  0.098145  ,  1.0399591 ,\n",
              "         -1.9301882 , -0.4409696 ,  0.8944895 ,  1.5883749 , -1.9494262 ,\n",
              "          0.16137075, -1.0580853 ,  1.0713484 ,  1.1957952 , -0.30852976,\n",
              "         -0.5490883 ,  1.890396  , -0.9902496 ,  0.94763744, -0.3415295 ,\n",
              "         -0.62085754, -0.17404573,  1.0317179 , -0.60139966, -1.2447935 ,\n",
              "          3.0683775 ,  0.06733721,  0.07617156, -1.562241  , -0.5589831 ,\n",
              "          1.8587569 , -1.0332776 , -2.2741952 ,  0.7521452 , -0.27104753,\n",
              "         -0.13163908, -1.3763623 ,  0.21601968, -0.45497835, -1.3459631 ,\n",
              "         -0.9671513 ,  0.748022  , -1.3874898 , -2.3780901 , -0.3700685 ,\n",
              "         -0.00600821, -0.33642152, -2.6654465 ,  1.7407349 ,  0.60415095,\n",
              "         -0.7039378 , -1.8260918 ,  0.847854  ,  1.119949  ,  0.8627761 ,\n",
              "         -0.42221376, -0.88270605, -0.7007578 , -1.2315551 ,  0.9450672 ,\n",
              "         -0.30724078,  0.4015583 , -0.22002521, -0.38890848,  0.03141334,\n",
              "         -0.6265925 , -0.5148448 , -1.2528865 , -1.0724853 ,  0.723172  ,\n",
              "         -0.17388618, -0.5117683 ,  0.23912123, -0.65337336,  0.4054317 ,\n",
              "          1.6305057 ,  0.36086452, -1.7818407 , -0.10893805,  1.3766356 ],\n",
              "        dtype=float32)),\n",
              " ('proper1',\n",
              "  array([ 0.37737128, -0.10816928, -1.2430665 , -1.8580176 ,  1.0273145 ,\n",
              "          1.9986138 , -0.34118938, -0.38354626, -0.32444534,  2.096654  ,\n",
              "         -1.2097002 ,  0.9947292 ,  1.0241076 ,  1.0904477 ,  1.3658546 ,\n",
              "         -0.6372541 ,  0.7605278 ,  1.3868072 , -0.17317842,  0.36660895,\n",
              "          0.14175813, -0.1047335 , -0.6400995 , -0.05642171,  0.27628493,\n",
              "         -3.773749  ,  0.32582158, -0.28696784,  0.5563957 , -0.21758465,\n",
              "         -0.7536528 , -1.1297572 , -0.3188459 , -0.40563798, -1.1661934 ,\n",
              "          0.07657734, -0.20205888,  1.691257  ,  0.62066877,  0.1908751 ,\n",
              "          1.0254562 , -0.84264743,  0.46572852,  1.6269251 ,  0.19177331,\n",
              "          1.7450712 , -0.8679431 , -1.4348971 , -1.1122531 , -1.3681287 ,\n",
              "          1.6864041 ,  0.5373716 , -1.0036079 , -1.9874704 , -2.1207688 ,\n",
              "          0.24655253, -0.4584179 ,  0.5650663 , -1.4276365 , -1.7010725 ,\n",
              "          1.1370347 , -0.05913924,  0.35228738,  0.27685902, -0.59179527,\n",
              "         -0.4487192 ,  0.714144  , -0.6322398 , -0.7125381 ,  1.0980129 ,\n",
              "         -0.60113096,  0.7710508 ,  0.45862493,  0.12750508, -0.6499889 ,\n",
              "          2.3397074 ,  0.1491808 , -0.4527007 , -0.3516806 ,  1.5083956 ,\n",
              "         -0.29805738, -0.8389793 ,  1.4093814 ,  0.78719705,  0.00852204,\n",
              "         -0.285559  ,  0.01672729, -1.1729541 , -0.6212093 , -0.74767494,\n",
              "         -0.18104215, -0.4166772 , -0.21758792, -0.14533384,  1.7003381 ,\n",
              "         -0.7447207 ,  1.2428027 ,  0.48492667,  0.40816692, -1.5343617 ],\n",
              "        dtype=float32)),\n",
              " ('in',\n",
              "  array([ 1.2556924 , -1.1412151 ,  0.5038899 , -0.68877363, -0.77605534,\n",
              "         -0.29796195,  0.921109  ,  0.13184842,  0.01817232,  0.3455393 ,\n",
              "          0.41887525,  0.64326644,  1.0262917 ,  1.2463887 , -0.30566463,\n",
              "          1.1113465 , -1.4042504 ,  0.8648347 , -1.5029415 ,  0.5639272 ,\n",
              "         -0.7089168 , -0.4697533 ,  0.40243256,  1.0336298 , -0.24576157,\n",
              "         -1.5212344 ,  0.291844  ,  1.4887216 ,  1.0938327 , -2.0810819 ,\n",
              "         -1.0011758 , -1.2680675 ,  0.44755158, -0.2772875 , -0.00319083,\n",
              "         -0.16257162,  1.4557482 , -0.5501656 ,  0.03225596, -0.12163629,\n",
              "          0.8612184 ,  0.24789476, -0.29945835, -0.1913996 , -0.8235663 ,\n",
              "          1.1559911 , -0.3265354 , -0.49139446, -1.2635719 , -1.3785197 ,\n",
              "          1.3653836 , -1.2282166 , -1.9801582 ,  0.00746735, -1.0596226 ,\n",
              "         -0.284458  , -0.40674162, -0.46951848, -0.08361483, -0.95614696,\n",
              "         -0.869361  ,  0.3340926 , -0.07106669, -0.37830737,  1.0166575 ,\n",
              "         -1.0596777 ,  1.9705411 , -1.4689009 ,  1.7628239 ,  0.69397104,\n",
              "         -1.8951473 ,  0.6154973 , -2.2021823 ,  0.5292174 ,  1.0808502 ,\n",
              "          0.60470575, -0.9958951 ,  0.5549387 , -0.6024655 ,  0.16941282,\n",
              "          0.78231245,  0.33971444,  0.73733896, -1.0545039 , -0.4945384 ,\n",
              "          0.9802675 , -0.9297937 , -1.4444644 , -1.1076858 , -0.67518014,\n",
              "         -0.03168069, -0.7359341 , -0.59201   , -0.73616844,  0.939747  ,\n",
              "          0.7180744 , -1.634446  , -0.5435948 , -1.1723856 ,  1.1259289 ],\n",
              "        dtype=float32)),\n",
              " ('number1',\n",
              "  array([ 0.668554  ,  0.8163395 , -1.3000981 , -1.6714038 , -0.21399395,\n",
              "          1.7465972 , -0.6197318 ,  0.8954404 , -0.3005014 ,  1.6687171 ,\n",
              "         -1.7669559 ,  1.5632564 , -0.53740925,  2.5030634 ,  0.49165037,\n",
              "          0.37070647, -0.9978811 ,  0.9504139 ,  0.7121911 ,  0.07177423,\n",
              "          0.5396487 , -0.45679456, -0.01337429,  1.2838895 , -1.2618877 ,\n",
              "         -3.0630512 ,  1.3686826 ,  0.6016995 ,  1.0283746 , -2.2748144 ,\n",
              "          0.60712606,  0.20495419,  1.0812385 , -0.7145744 , -0.4986392 ,\n",
              "         -1.7136171 ,  0.97243035,  1.6740568 , -0.15725748, -0.21169086,\n",
              "          3.0647655 ,  0.08892468, -0.12812576,  1.9418446 , -0.2089392 ,\n",
              "          1.4484303 , -1.014386  , -1.8360347 , -0.17802034, -3.4047976 ,\n",
              "          1.3662896 , -0.2115156 ,  1.1544809 , -0.5757542 ,  0.43796962,\n",
              "         -0.78987134, -1.2866408 ,  0.11118945,  0.3004545 , -2.3047245 ,\n",
              "          0.9544479 , -0.23383805, -0.15724796,  0.13573602,  0.5688296 ,\n",
              "         -0.49963707,  0.30885044,  0.09822603, -0.94599515,  1.8088194 ,\n",
              "         -1.2417278 ,  0.8581724 , -0.00482073,  0.2150175 ,  0.7023988 ,\n",
              "          2.6319363 , -0.2555087 ,  0.60978574, -1.1786978 , -0.08623999,\n",
              "         -0.2628478 ,  0.01117427,  1.1625347 , -0.16474998, -1.0770525 ,\n",
              "          0.56950253,  1.0346898 , -0.81623304, -2.3541229 , -0.6707228 ,\n",
              "          0.45154297,  1.0408419 ,  0.8464996 , -0.2061003 , -0.00936699,\n",
              "         -0.21256974,  0.6623847 ,  2.0981734 ,  0.6768242 , -0.6356961 ],\n",
              "        dtype=float32))]"
            ]
          },
          "metadata": {},
          "execution_count": 24
        }
      ]
    },
    {
      "cell_type": "code",
      "source": [
        "list(norm_embeddings_dict.items())[:5]"
      ],
      "metadata": {
        "colab": {
          "base_uri": "https://localhost:8080/"
        },
        "id": "HBAJb-tc-56h",
        "outputId": "46020ccb-6ce6-456f-8a71-7b97356a1385"
      },
      "id": "HBAJb-tc-56h",
      "execution_count": null,
      "outputs": [
        {
          "output_type": "execute_result",
          "data": {
            "text/plain": [
              "[('biti',\n",
              "  array([ 0.22443342, -0.0375713 ,  0.00735543, -0.08679921, -0.1286037 ,\n",
              "         -0.05384377, -0.03509313, -0.09127588,  0.08510551,  0.16211136,\n",
              "         -0.00877602,  0.21190709,  0.1149075 ,  0.10364594, -0.05260581,\n",
              "          0.10125654, -0.17135373,  0.03428078, -0.06714373,  0.16840312,\n",
              "          0.03684359, -0.07605664, -0.06847459,  0.1584188 ,  0.09285564,\n",
              "         -0.12022983,  0.04874052,  0.02230295,  0.07463101, -0.14864819,\n",
              "         -0.04460457,  0.02035809,  0.0832134 ,  0.01791838, -0.04165805,\n",
              "          0.03824676,  0.13198557, -0.05423834,  0.06568553,  0.03907297,\n",
              "         -0.04136125, -0.05137542,  0.05344156,  0.0044733 , -0.11530991,\n",
              "          0.19524829, -0.05651557,  0.12251905, -0.02286808, -0.09880742,\n",
              "          0.11639168, -0.06093358, -0.15843861,  0.06372634, -0.04265167,\n",
              "          0.07396766, -0.21705697, -0.02706736, -0.08032986, -0.08864773,\n",
              "         -0.04474036,  0.12598287, -0.08622073, -0.14540818,  0.00920823,\n",
              "         -0.05160628, -0.0271318 , -0.22370738,  0.17111397,  0.01396306,\n",
              "         -0.19556391,  0.02677095, -0.07773116,  0.06007699,  0.19130701,\n",
              "          0.03538276, -0.05244851, -0.01234467, -0.04221948, -0.06261701,\n",
              "          0.08140765, -0.09588116,  0.18140262,  0.10415487, -0.1545652 ,\n",
              "         -0.04815579, -0.00684568, -0.13671958, -0.03010566,  0.07829747,\n",
              "         -0.06722777, -0.0732133 ,  0.01333527, -0.09428945,  0.07109402,\n",
              "          0.13078171, -0.09064004, -0.12113445, -0.00639963,  0.00531289],\n",
              "        dtype=float32)),\n",
              " ('person1',\n",
              "  array([ 0.19500382, -0.07287047,  0.02548284, -0.10929317, -0.09571402,\n",
              "         -0.05993046,  0.06902219, -0.01216818,  0.14652017,  0.01174631,\n",
              "          0.05501755,  0.19015484,  0.22109216,  0.09935639,  0.03466701,\n",
              "          0.11837487,  0.01715997,  0.03105216, -0.08530726,  0.09813057,\n",
              "          0.01806521, -0.16455229, -0.02531363,  0.0086891 ,  0.09207098,\n",
              "         -0.17088589, -0.03904048,  0.07919209,  0.14062403, -0.1725891 ,\n",
              "          0.01428668, -0.09367576,  0.09484999,  0.10586767, -0.02731515,\n",
              "         -0.04861259,  0.16736296, -0.08767004,  0.08389745, -0.03023672,\n",
              "         -0.05496655, -0.01540884,  0.09134137, -0.05324388, -0.11020565,\n",
              "          0.2716535 ,  0.00596158,  0.00674372, -0.13831031, -0.0494886 ,\n",
              "          0.16456184, -0.09147946, -0.20134196,  0.06658988, -0.02399673,\n",
              "         -0.01165444, -0.12185387,  0.01912493, -0.04028072, -0.11916252,\n",
              "         -0.08562507,  0.06622484, -0.12283902, -0.21054012, -0.03276338,\n",
              "         -0.00053193, -0.0297845 , -0.23598072,  0.15411296,  0.05348746,\n",
              "         -0.06232192, -0.1616699 ,  0.0750633 ,  0.09915275,  0.0763844 ,\n",
              "         -0.03737997, -0.07814886, -0.06204038, -0.10903361,  0.0836699 ,\n",
              "         -0.02720103,  0.03555127, -0.01947955, -0.03443134,  0.00278113,\n",
              "         -0.05547429, -0.04558089, -0.11092215, -0.09495064,  0.06402479,\n",
              "         -0.01539471, -0.04530852,  0.02117019, -0.05784528,  0.0358942 ,\n",
              "          0.14435402,  0.03194852, -0.1577522 , -0.00964464,  0.12187806],\n",
              "        dtype=float32)),\n",
              " ('proper1',\n",
              "  array([ 0.03654362, -0.01047482, -0.12037521, -0.17992541,  0.09948237,\n",
              "          0.19354036, -0.03303986, -0.03714158, -0.03141841,  0.20303431,\n",
              "         -0.11714411,  0.0963269 ,  0.09917182,  0.10559601,  0.13226567,\n",
              "         -0.06170997,  0.07364746,  0.13429467, -0.01677013,  0.03550142,\n",
              "          0.01372747, -0.01014211, -0.06198551, -0.00546373,  0.02675469,\n",
              "         -0.36543968,  0.03155168, -0.02778919,  0.05387986, -0.02107031,\n",
              "         -0.07298171, -0.10940263, -0.03087618, -0.03928089, -0.11293102,\n",
              "          0.00741554, -0.01956684,  0.16377677,  0.06010389,  0.01848383,\n",
              "          0.09930241, -0.0815997 ,  0.04509989,  0.15754704,  0.01857081,\n",
              "          0.16898799, -0.08404927, -0.13895155, -0.10770759, -0.13248588,\n",
              "          0.16330682,  0.05203762, -0.09718668, -0.19246127, -0.20536953,\n",
              "          0.02387548, -0.04439195,  0.05471949, -0.13824847, -0.16472727,\n",
              "          0.11010737, -0.00572688,  0.03411456,  0.02681028, -0.05730786,\n",
              "         -0.04345276,  0.06915578, -0.0612244 , -0.06900027,  0.10632861,\n",
              "         -0.0582119 ,  0.07466648,  0.044412  ,  0.01234725, -0.06294317,\n",
              "          0.22657095,  0.01444627, -0.04383831, -0.0340558 ,  0.14606896,\n",
              "         -0.02886307, -0.08124449,  0.13648069,  0.07623004,  0.00082525,\n",
              "         -0.02765276,  0.00161983, -0.11358571, -0.06015623, -0.07240283,\n",
              "         -0.01753163, -0.0403499 , -0.02107063, -0.01407374,  0.16465616,\n",
              "         -0.07211674,  0.12034967,  0.04695899,  0.03952578, -0.14858346],\n",
              "        dtype=float32)),\n",
              " ('in',\n",
              "  array([ 0.13163209, -0.11963163,  0.05282192, -0.07220297, -0.08135255,\n",
              "         -0.03123484,  0.09655828,  0.01382144,  0.00190497,  0.03622229,\n",
              "          0.04390997,  0.06743252,  0.10758441,  0.1306568 , -0.0320423 ,\n",
              "          0.11650055, -0.14720516,  0.09065915, -0.15755078,  0.05911552,\n",
              "         -0.07431453, -0.04924344,  0.04218632,  0.10835364, -0.02576276,\n",
              "         -0.1594684 ,  0.03059351,  0.15606014,  0.11466461, -0.21815625,\n",
              "         -0.10495155, -0.13292934,  0.04691607, -0.02906758, -0.00033449,\n",
              "         -0.01704211,  0.1526036 , -0.05767292,  0.00338134, -0.01275092,\n",
              "          0.09028005,  0.02598638, -0.03139171, -0.02006409, -0.08633305,\n",
              "          0.12118057, -0.03423015, -0.05151204, -0.13245808, -0.14450786,\n",
              "          0.14313082, -0.12875184, -0.2075766 ,  0.00078279, -0.11107843,\n",
              "         -0.02981925, -0.04263803, -0.04921882, -0.0087652 , -0.10023125,\n",
              "         -0.09113362,  0.03502236, -0.0074498 , -0.03965731,  0.10657446,\n",
              "         -0.1110842 ,  0.20656845, -0.15398237,  0.18479382,  0.0727478 ,\n",
              "         -0.19866505,  0.06452153, -0.23085101,  0.05547696,  0.11330368,\n",
              "          0.06339027, -0.10439798,  0.05817327, -0.06315543,  0.01775926,\n",
              "          0.08200847,  0.03561169,  0.07729398, -0.11054184, -0.05184161,\n",
              "          0.10275977, -0.09746868, -0.15142074, -0.11611681, -0.07077798,\n",
              "         -0.00332103, -0.07714671, -0.0620594 , -0.07717128,  0.09851207,\n",
              "          0.07527451, -0.17133619, -0.05698411, -0.12289917,  0.1180292 ],\n",
              "        dtype=float32)),\n",
              " ('number1',\n",
              "  array([ 0.05710752,  0.06973127, -0.11105366, -0.14277038, -0.01827925,\n",
              "          0.14919336, -0.05293715,  0.07648803, -0.02566866,  0.1425409 ,\n",
              "         -0.15093239,  0.1335325 , -0.0459052 ,  0.2138103 ,  0.04199651,\n",
              "          0.03166554, -0.08523846,  0.08118383,  0.06083497,  0.00613092,\n",
              "          0.0460965 , -0.03901914, -0.00114242,  0.10966913, -0.10778975,\n",
              "         -0.26164415,  0.11691211,  0.05139684,  0.08784319, -0.19431339,\n",
              "          0.05186037,  0.01750707,  0.0923588 , -0.06103855, -0.04259349,\n",
              "         -0.14637622,  0.08306447,  0.14299701, -0.01343285, -0.01808252,\n",
              "          0.26179057,  0.0075959 , -0.01094443,  0.16587129, -0.01784747,\n",
              "          0.12372412, -0.0866483 , -0.15683307, -0.0152064 , -0.29083592,\n",
              "          0.1167077 , -0.01806755,  0.09861512, -0.04918061,  0.03741112,\n",
              "         -0.06747037, -0.10990414,  0.00949774,  0.02566466, -0.19686829,\n",
              "          0.08152842, -0.01997432, -0.01343203,  0.0115945 ,  0.04858911,\n",
              "         -0.04267872,  0.02638183,  0.00839041, -0.08080638,  0.15450835,\n",
              "         -0.1060677 ,  0.07330462, -0.00041178,  0.01836668,  0.05999852,\n",
              "          0.22481854, -0.02182541,  0.05208756, -0.10068372, -0.00736657,\n",
              "         -0.02245232,  0.0009545 ,  0.09930307, -0.01407285, -0.09200123,\n",
              "          0.04864659,  0.08838263, -0.06972218, -0.20108788, -0.05729277,\n",
              "          0.03857055,  0.08890814,  0.07230753, -0.01760497, -0.00080012,\n",
              "         -0.01815759,  0.05658054,  0.17922482,  0.05781395, -0.05430081],\n",
              "        dtype=float32))]"
            ]
          },
          "metadata": {},
          "execution_count": 25
        }
      ]
    },
    {
      "cell_type": "code",
      "source": [
        "list(dictionary5.items())[:5]"
      ],
      "metadata": {
        "colab": {
          "base_uri": "https://localhost:8080/"
        },
        "id": "7uCuDjhg--id",
        "outputId": "1d61b52d-251d-4f82-dd0b-2f3cbf2bf2e0"
      },
      "id": "7uCuDjhg--id",
      "execution_count": null,
      "outputs": [
        {
          "output_type": "execute_result",
          "data": {
            "text/plain": [
              "[('biti',\n",
              "  array([ 2.245511  , -0.37591004,  0.07359289, -0.86844724, -1.2867113 ,\n",
              "         -0.53872   , -0.35111532, -0.91323733,  0.85150135,  1.6219636 ,\n",
              "         -0.08780624,  2.120182  ,  1.1496775 ,  1.0370028 , -0.5263339 ,\n",
              "          1.0130963 , -1.7144357 ,  0.34298754, -0.67178935,  1.6849141 ,\n",
              "          0.3686291 , -0.76096517, -0.6851049 ,  1.5850188 ,  0.92904323,\n",
              "         -1.2029287 ,  0.48766077,  0.22314648,  0.7467015 , -1.4872613 ,\n",
              "         -0.4462796 ,  0.20368767,  0.8325704 ,  0.17927776, -0.41679892,\n",
              "          0.38266817,  1.3205478 , -0.5426678 ,  0.65719974,  0.3909346 ,\n",
              "         -0.41382942, -0.51402354,  0.5346958 ,  0.04475643, -1.1537037 ,\n",
              "          1.9535066 , -0.565452  ,  1.2258329 , -0.22880074, -0.9885923 ,\n",
              "          1.164527  , -0.60965526, -1.5852169 ,  0.6375975 , -0.42674032,\n",
              "          0.7400644 , -2.1717079 , -0.27081555, -0.80371976, -0.8869421 ,\n",
              "         -0.44763824,  1.2604892 , -0.8626594 , -1.4548442 ,  0.09213062,\n",
              "         -0.51633334, -0.27146024, -2.2382467 ,  1.7120368 ,  0.1397038 ,\n",
              "         -1.9566646 ,  0.2678499 , -0.7777192 ,  0.60108495,  1.9140732 ,\n",
              "          0.35401306, -0.5247601 , -0.12351146, -0.42241615, -0.6264984 ,\n",
              "          0.8145034 , -0.95931435,  1.8149774 ,  1.0420948 , -1.5464624 ,\n",
              "         -0.48181036, -0.06849265, -1.3679127 , -0.30121443,  0.7833852 ,\n",
              "         -0.6726302 , -0.7325169 ,  0.13342258, -0.9433889 ,  0.711313  ,\n",
              "          1.3085028 , -0.90687567, -1.2119796 , -0.06402989,  0.05315677],\n",
              "        dtype=float32)),\n",
              " ('person1',\n",
              "  array([ 2.2026048 , -0.82308567,  0.28783342, -1.2344869 , -1.0811079 ,\n",
              "         -0.6769258 ,  0.77961856, -0.13744186,  1.6549728 ,  0.13267677,\n",
              "          0.62143356,  2.1478345 ,  2.4972775 ,  1.1222491 ,  0.3915704 ,\n",
              "          1.3370664 ,  0.19382508,  0.35073996, -0.9635615 ,  1.1084032 ,\n",
              "          0.20404997, -1.858649  , -0.28592226,  0.098145  ,  1.0399591 ,\n",
              "         -1.9301882 , -0.4409696 ,  0.8944895 ,  1.5883749 , -1.9494262 ,\n",
              "          0.16137075, -1.0580853 ,  1.0713484 ,  1.1957952 , -0.30852976,\n",
              "         -0.5490883 ,  1.890396  , -0.9902496 ,  0.94763744, -0.3415295 ,\n",
              "         -0.62085754, -0.17404573,  1.0317179 , -0.60139966, -1.2447935 ,\n",
              "          3.0683775 ,  0.06733721,  0.07617156, -1.562241  , -0.5589831 ,\n",
              "          1.8587569 , -1.0332776 , -2.2741952 ,  0.7521452 , -0.27104753,\n",
              "         -0.13163908, -1.3763623 ,  0.21601968, -0.45497835, -1.3459631 ,\n",
              "         -0.9671513 ,  0.748022  , -1.3874898 , -2.3780901 , -0.3700685 ,\n",
              "         -0.00600821, -0.33642152, -2.6654465 ,  1.7407349 ,  0.60415095,\n",
              "         -0.7039378 , -1.8260918 ,  0.847854  ,  1.119949  ,  0.8627761 ,\n",
              "         -0.42221376, -0.88270605, -0.7007578 , -1.2315551 ,  0.9450672 ,\n",
              "         -0.30724078,  0.4015583 , -0.22002521, -0.38890848,  0.03141334,\n",
              "         -0.6265925 , -0.5148448 , -1.2528865 , -1.0724853 ,  0.723172  ,\n",
              "         -0.17388618, -0.5117683 ,  0.23912123, -0.65337336,  0.4054317 ,\n",
              "          1.6305057 ,  0.36086452, -1.7818407 , -0.10893805,  1.3766356 ],\n",
              "        dtype=float32)),\n",
              " ('proper1',\n",
              "  array([ 0.37737128, -0.10816928, -1.2430665 , -1.8580176 ,  1.0273145 ,\n",
              "          1.9986138 , -0.34118938, -0.38354626, -0.32444534,  2.096654  ,\n",
              "         -1.2097002 ,  0.9947292 ,  1.0241076 ,  1.0904477 ,  1.3658546 ,\n",
              "         -0.6372541 ,  0.7605278 ,  1.3868072 , -0.17317842,  0.36660895,\n",
              "          0.14175813, -0.1047335 , -0.6400995 , -0.05642171,  0.27628493,\n",
              "         -3.773749  ,  0.32582158, -0.28696784,  0.5563957 , -0.21758465,\n",
              "         -0.7536528 , -1.1297572 , -0.3188459 , -0.40563798, -1.1661934 ,\n",
              "          0.07657734, -0.20205888,  1.691257  ,  0.62066877,  0.1908751 ,\n",
              "          1.0254562 , -0.84264743,  0.46572852,  1.6269251 ,  0.19177331,\n",
              "          1.7450712 , -0.8679431 , -1.4348971 , -1.1122531 , -1.3681287 ,\n",
              "          1.6864041 ,  0.5373716 , -1.0036079 , -1.9874704 , -2.1207688 ,\n",
              "          0.24655253, -0.4584179 ,  0.5650663 , -1.4276365 , -1.7010725 ,\n",
              "          1.1370347 , -0.05913924,  0.35228738,  0.27685902, -0.59179527,\n",
              "         -0.4487192 ,  0.714144  , -0.6322398 , -0.7125381 ,  1.0980129 ,\n",
              "         -0.60113096,  0.7710508 ,  0.45862493,  0.12750508, -0.6499889 ,\n",
              "          2.3397074 ,  0.1491808 , -0.4527007 , -0.3516806 ,  1.5083956 ,\n",
              "         -0.29805738, -0.8389793 ,  1.4093814 ,  0.78719705,  0.00852204,\n",
              "         -0.285559  ,  0.01672729, -1.1729541 , -0.6212093 , -0.74767494,\n",
              "         -0.18104215, -0.4166772 , -0.21758792, -0.14533384,  1.7003381 ,\n",
              "         -0.7447207 ,  1.2428027 ,  0.48492667,  0.40816692, -1.5343617 ],\n",
              "        dtype=float32)),\n",
              " ('in',\n",
              "  array([ 1.2556924 , -1.1412151 ,  0.5038899 , -0.68877363, -0.77605534,\n",
              "         -0.29796195,  0.921109  ,  0.13184842,  0.01817232,  0.3455393 ,\n",
              "          0.41887525,  0.64326644,  1.0262917 ,  1.2463887 , -0.30566463,\n",
              "          1.1113465 , -1.4042504 ,  0.8648347 , -1.5029415 ,  0.5639272 ,\n",
              "         -0.7089168 , -0.4697533 ,  0.40243256,  1.0336298 , -0.24576157,\n",
              "         -1.5212344 ,  0.291844  ,  1.4887216 ,  1.0938327 , -2.0810819 ,\n",
              "         -1.0011758 , -1.2680675 ,  0.44755158, -0.2772875 , -0.00319083,\n",
              "         -0.16257162,  1.4557482 , -0.5501656 ,  0.03225596, -0.12163629,\n",
              "          0.8612184 ,  0.24789476, -0.29945835, -0.1913996 , -0.8235663 ,\n",
              "          1.1559911 , -0.3265354 , -0.49139446, -1.2635719 , -1.3785197 ,\n",
              "          1.3653836 , -1.2282166 , -1.9801582 ,  0.00746735, -1.0596226 ,\n",
              "         -0.284458  , -0.40674162, -0.46951848, -0.08361483, -0.95614696,\n",
              "         -0.869361  ,  0.3340926 , -0.07106669, -0.37830737,  1.0166575 ,\n",
              "         -1.0596777 ,  1.9705411 , -1.4689009 ,  1.7628239 ,  0.69397104,\n",
              "         -1.8951473 ,  0.6154973 , -2.2021823 ,  0.5292174 ,  1.0808502 ,\n",
              "          0.60470575, -0.9958951 ,  0.5549387 , -0.6024655 ,  0.16941282,\n",
              "          0.78231245,  0.33971444,  0.73733896, -1.0545039 , -0.4945384 ,\n",
              "          0.9802675 , -0.9297937 , -1.4444644 , -1.1076858 , -0.67518014,\n",
              "         -0.03168069, -0.7359341 , -0.59201   , -0.73616844,  0.939747  ,\n",
              "          0.7180744 , -1.634446  , -0.5435948 , -1.1723856 ,  1.1259289 ],\n",
              "        dtype=float32)),\n",
              " ('number1',\n",
              "  array([ 0.668554  ,  0.8163395 , -1.3000981 , -1.6714038 , -0.21399395,\n",
              "          1.7465972 , -0.6197318 ,  0.8954404 , -0.3005014 ,  1.6687171 ,\n",
              "         -1.7669559 ,  1.5632564 , -0.53740925,  2.5030634 ,  0.49165037,\n",
              "          0.37070647, -0.9978811 ,  0.9504139 ,  0.7121911 ,  0.07177423,\n",
              "          0.5396487 , -0.45679456, -0.01337429,  1.2838895 , -1.2618877 ,\n",
              "         -3.0630512 ,  1.3686826 ,  0.6016995 ,  1.0283746 , -2.2748144 ,\n",
              "          0.60712606,  0.20495419,  1.0812385 , -0.7145744 , -0.4986392 ,\n",
              "         -1.7136171 ,  0.97243035,  1.6740568 , -0.15725748, -0.21169086,\n",
              "          3.0647655 ,  0.08892468, -0.12812576,  1.9418446 , -0.2089392 ,\n",
              "          1.4484303 , -1.014386  , -1.8360347 , -0.17802034, -3.4047976 ,\n",
              "          1.3662896 , -0.2115156 ,  1.1544809 , -0.5757542 ,  0.43796962,\n",
              "         -0.78987134, -1.2866408 ,  0.11118945,  0.3004545 , -2.3047245 ,\n",
              "          0.9544479 , -0.23383805, -0.15724796,  0.13573602,  0.5688296 ,\n",
              "         -0.49963707,  0.30885044,  0.09822603, -0.94599515,  1.8088194 ,\n",
              "         -1.2417278 ,  0.8581724 , -0.00482073,  0.2150175 ,  0.7023988 ,\n",
              "          2.6319363 , -0.2555087 ,  0.60978574, -1.1786978 , -0.08623999,\n",
              "         -0.2628478 ,  0.01117427,  1.1625347 , -0.16474998, -1.0770525 ,\n",
              "          0.56950253,  1.0346898 , -0.81623304, -2.3541229 , -0.6707228 ,\n",
              "          0.45154297,  1.0408419 ,  0.8464996 , -0.2061003 , -0.00936699,\n",
              "         -0.21256974,  0.6623847 ,  2.0981734 ,  0.6768242 , -0.6356961 ],\n",
              "        dtype=float32))]"
            ]
          },
          "metadata": {},
          "execution_count": 26
        }
      ]
    },
    {
      "cell_type": "markdown",
      "id": "e7dc6fa5",
      "metadata": {
        "id": "e7dc6fa5"
      },
      "source": [
        "# FastText"
      ]
    },
    {
      "cell_type": "markdown",
      "id": "d36ca62c",
      "metadata": {
        "id": "d36ca62c"
      },
      "source": [
        "Download the pretrained model for Slovenian based on Wikipedia articles"
      ]
    },
    {
      "cell_type": "code",
      "source": [
        "!pip install fasttext"
      ],
      "metadata": {
        "colab": {
          "base_uri": "https://localhost:8080/"
        },
        "id": "0hsevmDISpI6",
        "outputId": "12f036d4-06df-47ff-dfcb-8d6888c0ce79"
      },
      "id": "0hsevmDISpI6",
      "execution_count": null,
      "outputs": [
        {
          "output_type": "stream",
          "name": "stdout",
          "text": [
            "Collecting fasttext\n",
            "  Downloading fasttext-0.9.3.tar.gz (73 kB)\n",
            "\u001b[?25l     \u001b[90m━━━━━━━━━━━━━━━━━━━━━━━━━━━━━━━━━━━━━━━━\u001b[0m \u001b[32m0.0/73.4 kB\u001b[0m \u001b[31m?\u001b[0m eta \u001b[36m-:--:--\u001b[0m\r\u001b[2K     \u001b[90m━━━━━━━━━━━━━━━━━━━━━━━━━━━━━━━━━━━━━━━━\u001b[0m \u001b[32m73.4/73.4 kB\u001b[0m \u001b[31m2.2 MB/s\u001b[0m eta \u001b[36m0:00:00\u001b[0m\n",
            "\u001b[?25h  Installing build dependencies ... \u001b[?25l\u001b[?25hdone\n",
            "  Getting requirements to build wheel ... \u001b[?25l\u001b[?25hdone\n",
            "  Preparing metadata (pyproject.toml) ... \u001b[?25l\u001b[?25hdone\n",
            "Collecting pybind11>=2.2 (from fasttext)\n",
            "  Using cached pybind11-2.13.6-py3-none-any.whl.metadata (9.5 kB)\n",
            "Requirement already satisfied: setuptools>=0.7.0 in /usr/local/lib/python3.11/dist-packages (from fasttext) (75.2.0)\n",
            "Requirement already satisfied: numpy in /usr/local/lib/python3.11/dist-packages (from fasttext) (1.23.5)\n",
            "Using cached pybind11-2.13.6-py3-none-any.whl (243 kB)\n",
            "Building wheels for collected packages: fasttext\n",
            "  Building wheel for fasttext (pyproject.toml) ... \u001b[?25l\u001b[?25hdone\n",
            "  Created wheel for fasttext: filename=fasttext-0.9.3-cp311-cp311-linux_x86_64.whl size=4313505 sha256=9a06539a17b555d65a9c0c71d72e6c1c19291490b45c13e7ea3a449629f7155e\n",
            "  Stored in directory: /root/.cache/pip/wheels/65/4f/35/5057db0249224e9ab55a513fa6b79451473ceb7713017823c3\n",
            "Successfully built fasttext\n",
            "Installing collected packages: pybind11, fasttext\n",
            "Successfully installed fasttext-0.9.3 pybind11-2.13.6\n"
          ]
        }
      ]
    },
    {
      "cell_type": "code",
      "execution_count": null,
      "id": "1a822f5a",
      "metadata": {
        "id": "1a822f5a",
        "colab": {
          "base_uri": "https://localhost:8080/"
        },
        "collapsed": true,
        "outputId": "f3c3b278-9e1f-47c7-c9e1-bdb0861ab03f"
      },
      "outputs": [
        {
          "output_type": "stream",
          "name": "stdout",
          "text": [
            "Downloading https://dl.fbaipublicfiles.com/fasttext/vectors-crawl/cc.sl.300.bin.gz\n",
            "\n"
          ]
        }
      ],
      "source": [
        "import fasttext.util\n",
        "\n",
        "# fasttext.util.download_model('sl', if_exists='ignore')\n",
        "fasttext_model = fasttext.util.download_model('sl', if_exists='ignore')"
      ]
    },
    {
      "cell_type": "code",
      "execution_count": null,
      "id": "add4048c",
      "metadata": {
        "id": "add4048c",
        "colab": {
          "base_uri": "https://localhost:8080/",
          "height": 287
        },
        "collapsed": true,
        "outputId": "b65baf1f-d62e-4901-951f-20581fd3a6b9"
      },
      "outputs": [
        {
          "output_type": "error",
          "ename": "ValueError",
          "evalue": "cc.sl.300.bin.gz.part has wrong file format!",
          "traceback": [
            "\u001b[0;31m---------------------------------------------------------------------------\u001b[0m",
            "\u001b[0;31mValueError\u001b[0m                                Traceback (most recent call last)",
            "\u001b[0;32m<ipython-input-11-20bc2db806b4>\u001b[0m in \u001b[0;36m<cell line: 0>\u001b[0;34m()\u001b[0m\n\u001b[0;32m----> 1\u001b[0;31m \u001b[0mfasttext_model\u001b[0m \u001b[0;34m=\u001b[0m \u001b[0mfasttext\u001b[0m\u001b[0;34m.\u001b[0m\u001b[0mload_model\u001b[0m\u001b[0;34m(\u001b[0m\u001b[0;34m'cc.sl.300.bin.gz.part'\u001b[0m\u001b[0;34m)\u001b[0m\u001b[0;34m\u001b[0m\u001b[0;34m\u001b[0m\u001b[0m\n\u001b[0m",
            "\u001b[0;32m/usr/local/lib/python3.11/dist-packages/fasttext/FastText.py\u001b[0m in \u001b[0;36mload_model\u001b[0;34m(path)\u001b[0m\n\u001b[1;32m    443\u001b[0m \u001b[0;32mdef\u001b[0m \u001b[0mload_model\u001b[0m\u001b[0;34m(\u001b[0m\u001b[0mpath\u001b[0m\u001b[0;34m)\u001b[0m\u001b[0;34m:\u001b[0m\u001b[0;34m\u001b[0m\u001b[0;34m\u001b[0m\u001b[0m\n\u001b[1;32m    444\u001b[0m     \u001b[0;34m\"\"\"Load a model given a filepath and return a model object.\"\"\"\u001b[0m\u001b[0;34m\u001b[0m\u001b[0;34m\u001b[0m\u001b[0m\n\u001b[0;32m--> 445\u001b[0;31m     \u001b[0;32mreturn\u001b[0m \u001b[0m_FastText\u001b[0m\u001b[0;34m(\u001b[0m\u001b[0mmodel_path\u001b[0m\u001b[0;34m=\u001b[0m\u001b[0mpath\u001b[0m\u001b[0;34m)\u001b[0m\u001b[0;34m\u001b[0m\u001b[0;34m\u001b[0m\u001b[0m\n\u001b[0m\u001b[1;32m    446\u001b[0m \u001b[0;34m\u001b[0m\u001b[0m\n\u001b[1;32m    447\u001b[0m \u001b[0;34m\u001b[0m\u001b[0m\n",
            "\u001b[0;32m/usr/local/lib/python3.11/dist-packages/fasttext/FastText.py\u001b[0m in \u001b[0;36m__init__\u001b[0;34m(self, model_path, args)\u001b[0m\n\u001b[1;32m     91\u001b[0m         \u001b[0mself\u001b[0m\u001b[0;34m.\u001b[0m\u001b[0mf\u001b[0m \u001b[0;34m=\u001b[0m \u001b[0mfasttext\u001b[0m\u001b[0;34m.\u001b[0m\u001b[0mfasttext\u001b[0m\u001b[0;34m(\u001b[0m\u001b[0;34m)\u001b[0m\u001b[0;34m\u001b[0m\u001b[0;34m\u001b[0m\u001b[0m\n\u001b[1;32m     92\u001b[0m         \u001b[0;32mif\u001b[0m \u001b[0mmodel_path\u001b[0m \u001b[0;32mis\u001b[0m \u001b[0;32mnot\u001b[0m \u001b[0;32mNone\u001b[0m\u001b[0;34m:\u001b[0m\u001b[0;34m\u001b[0m\u001b[0;34m\u001b[0m\u001b[0m\n\u001b[0;32m---> 93\u001b[0;31m             \u001b[0mself\u001b[0m\u001b[0;34m.\u001b[0m\u001b[0mf\u001b[0m\u001b[0;34m.\u001b[0m\u001b[0mloadModel\u001b[0m\u001b[0;34m(\u001b[0m\u001b[0mmodel_path\u001b[0m\u001b[0;34m)\u001b[0m\u001b[0;34m\u001b[0m\u001b[0;34m\u001b[0m\u001b[0m\n\u001b[0m\u001b[1;32m     94\u001b[0m         \u001b[0mself\u001b[0m\u001b[0;34m.\u001b[0m\u001b[0m_words\u001b[0m \u001b[0;34m=\u001b[0m \u001b[0;32mNone\u001b[0m\u001b[0;34m\u001b[0m\u001b[0;34m\u001b[0m\u001b[0m\n\u001b[1;32m     95\u001b[0m         \u001b[0mself\u001b[0m\u001b[0;34m.\u001b[0m\u001b[0m_labels\u001b[0m \u001b[0;34m=\u001b[0m \u001b[0;32mNone\u001b[0m\u001b[0;34m\u001b[0m\u001b[0;34m\u001b[0m\u001b[0m\n",
            "\u001b[0;31mValueError\u001b[0m: cc.sl.300.bin.gz.part has wrong file format!"
          ]
        }
      ],
      "source": [
        "fasttext_model = fasttext.load_model('cc.sl.300.bin.gz.part')"
      ]
    },
    {
      "cell_type": "code",
      "execution_count": null,
      "id": "804db048",
      "metadata": {
        "id": "804db048"
      },
      "outputs": [],
      "source": [
        "fasttext_model.get_dimension()"
      ]
    },
    {
      "cell_type": "code",
      "source": [
        "# Reduce the dimension of the vectors\n",
        "required_dimension = 100\n",
        "fasttext.util.reduce_model(fasttext_model, required_dimension)\n",
        "fasttext_model.get_dimension()"
      ],
      "metadata": {
        "id": "uImD5kWYUhs5"
      },
      "id": "uImD5kWYUhs5",
      "execution_count": null,
      "outputs": []
    },
    {
      "cell_type": "code",
      "execution_count": null,
      "id": "fdc9c8f2",
      "metadata": {
        "id": "fdc9c8f2"
      },
      "outputs": [],
      "source": [
        "fasttext_dictionary = {key : model.get_word_vector(key) for key in model.get_words()}"
      ]
    },
    {
      "cell_type": "code",
      "execution_count": null,
      "id": "6c57c8e4",
      "metadata": {
        "id": "6c57c8e4"
      },
      "outputs": [],
      "source": [
        "len(fasttext_dictionary)"
      ]
    },
    {
      "cell_type": "code",
      "execution_count": null,
      "id": "93640d03",
      "metadata": {
        "id": "93640d03"
      },
      "outputs": [],
      "source": [
        "save_dictionary('slv_fasttext_dictionary.txt', dictionary, (len(dictionary), model.get_dimension()))"
      ]
    }
  ],
  "metadata": {
    "kernelspec": {
      "display_name": "Python 3",
      "name": "python3"
    },
    "language_info": {
      "codemirror_mode": {
        "name": "ipython",
        "version": 3
      },
      "file_extension": ".py",
      "mimetype": "text/x-python",
      "name": "python",
      "nbconvert_exporter": "python",
      "pygments_lexer": "ipython3",
      "version": "3.8.8"
    },
    "colab": {
      "provenance": [],
      "gpuType": "V28"
    },
    "accelerator": "TPU"
  },
  "nbformat": 4,
  "nbformat_minor": 5
}
