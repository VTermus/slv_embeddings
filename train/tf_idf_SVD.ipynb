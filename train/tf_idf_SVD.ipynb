{
  "cells": [
    {
      "cell_type": "markdown",
      "metadata": {
        "id": "KyRQoXqg8Mst"
      },
      "source": [
        "# TFIDF matrix"
      ]
    },
    {
      "cell_type": "code",
      "execution_count": null,
      "metadata": {
        "id": "6sKgWC8s8O-c"
      },
      "outputs": [],
      "source": [
        "from sklearn.feature_extraction.text import TfidfVectorizer\n",
        "def make_matrix_W_list_of_words(corpus_path, min_df, max_df=None, token_pattern = None, use_idf = True):\n",
        "  '''\n",
        "  corpus_path - is a path to the corpus, where one line - one text\n",
        "\n",
        "  min_df - is the minimum times (or fraction of the texts) a word must occur in the corpus\n",
        "\n",
        "  max_df - is the maximum times (or fraction of the texts) a word must occur in the corpus\n",
        "  if it is None, there are no upper bound\n",
        "\n",
        "  token_pattern - alphabet, which will be considered. Usually can be all letters of the language and numbers\n",
        "  if None all symbols will be OK\n",
        "\n",
        "  use_idf - is bool value whether to use idf\n",
        "  '''\n",
        "  with open(corpus_path, 'r') as corpus_file:\n",
        "        if token_pattern:\n",
        "            vectorizer = TfidfVectorizer(analyzer='word', min_df=min_df, token_pattern=token_pattern, use_idf=use_idf)\n",
        "        else:\n",
        "            vectorizer = TfidfVectorizer(analyzer='word', min_df=min_df, use_idf=use_idf)\n",
        "        data_vectorized = vectorizer.fit_transform(corpus_file)\n",
        "  return data_vectorized, vectorizer.get_feature_names_out()"
      ]
    },
    {
      "cell_type": "code",
      "execution_count": null,
      "metadata": {
        "id": "3KyQP2vRVUne"
      },
      "outputs": [],
      "source": [
        "W, words_list  = make_matrix_W_list_of_words('filtered_slovenian_corpus.txt', 1)"
      ]
    },
    {
      "cell_type": "code",
      "execution_count": null,
      "metadata": {
        "colab": {
          "base_uri": "https://localhost:8080/"
        },
        "id": "MZlsPdzQ9aMN",
        "outputId": "07778715-f6cd-4c1d-e03e-1be0e022f08b"
      },
      "outputs": [
        {
          "output_type": "execute_result",
          "data": {
            "text/plain": [
              "(4323, 243950)"
            ]
          },
          "metadata": {},
          "execution_count": 7
        }
      ],
      "source": [
        "W.shape"
      ]
    },
    {
      "cell_type": "code",
      "execution_count": null,
      "metadata": {
        "id": "iJEN8Yz9X9mj"
      },
      "outputs": [],
      "source": [
        "W3, words_list3  = make_matrix_W_list_of_words('filtered_slovenian_corpus.txt', 3)"
      ]
    },
    {
      "cell_type": "code",
      "execution_count": null,
      "metadata": {
        "colab": {
          "base_uri": "https://localhost:8080/"
        },
        "id": "7501TKu9YiaF",
        "outputId": "1ed0ebd8-76d8-4a05-a4c0-7a7db8ace15d"
      },
      "outputs": [
        {
          "output_type": "execute_result",
          "data": {
            "text/plain": [
              "(4323, 243950)"
            ]
          },
          "metadata": {},
          "execution_count": 9
        }
      ],
      "source": [
        "W3.shape"
      ]
    },
    {
      "cell_type": "code",
      "execution_count": null,
      "metadata": {
        "id": "d1E94kfhZwul"
      },
      "outputs": [],
      "source": [
        "W10, words_list10  = make_matrix_W_list_of_words('filtered_slovenian_corpus.txt', 10)"
      ]
    },
    {
      "cell_type": "code",
      "execution_count": null,
      "metadata": {
        "colab": {
          "base_uri": "https://localhost:8080/"
        },
        "id": "irapz442aM0i",
        "outputId": "378b1470-b693-4124-bb4e-3fddaee43ec7"
      },
      "outputs": [
        {
          "output_type": "execute_result",
          "data": {
            "text/plain": [
              "(4323, 91336)"
            ]
          },
          "metadata": {},
          "execution_count": 11
        }
      ],
      "source": [
        "W10.shape"
      ]
    },
    {
      "cell_type": "code",
      "execution_count": null,
      "metadata": {
        "id": "8t0mhF66wT7V",
        "collapsed": true
      },
      "outputs": [],
      "source": [
        "W5, words_list5  = make_matrix_W_list_of_words('filtered_slovenian_corpus.txt', 5)"
      ]
    },
    {
      "cell_type": "code",
      "execution_count": null,
      "metadata": {
        "colab": {
          "base_uri": "https://localhost:8080/"
        },
        "id": "DM3tEnJqwXwg",
        "outputId": "1a4c746b-e063-4aa6-b39f-1bbdc3e79e5e"
      },
      "outputs": [
        {
          "output_type": "execute_result",
          "data": {
            "text/plain": [
              "(4323, 155250)"
            ]
          },
          "metadata": {},
          "execution_count": 13
        }
      ],
      "source": [
        "W5.shape"
      ]
    },
    {
      "cell_type": "code",
      "execution_count": null,
      "metadata": {
        "colab": {
          "base_uri": "https://localhost:8080/"
        },
        "collapsed": true,
        "id": "WOzbMoVBWyCD",
        "outputId": "2ff7ec69-f698-4912-fb1e-310d20b600be"
      },
      "outputs": [
        {
          "data": {
            "text/plain": [
              "array(['aa', 'aaa', 'aaaa', 'aaaaa', 'aaaaaa', 'aac', 'aachen', 'aad',\n",
              "       'aae', 'aah', 'aai', 'aaiti', 'aaj', 'aajati', 'aak', 'aal', 'aam',\n",
              "       'aama', 'aamo', 'aan', 'aanovitno', 'aanovitnoft', 'aao', 'aaor',\n",
              "       'aar', 'aaronov', 'aas', 'aat', 'aate', 'aati', 'aato', 'aau',\n",
              "       'aav', 'aavolj', 'ab', 'aba', 'abadon', 'abak', 'abanski',\n",
              "       'abarthov', 'abas', 'abat', 'abati', 'abba', 'abbaden', 'abbas',\n",
              "       'abbe', 'abbiama', 'abc', 'abcd', 'abcda', 'abceden', 'abces',\n",
              "       'abdijev', 'abdikacija', 'abdul', 'abe', 'abec', 'abeca', 'abece',\n",
              "       'abeced', 'abeceda', 'abecedar', 'abecedario', 'abecedarium',\n",
              "       'abecedarček', 'abeceden', 'abecednica', 'abecednik',\n",
              "       'abecednikov', 'abecedno', 'abel', 'abeljen', 'abeljnov', 'abelka',\n",
              "       'abelnov', 'abelov', 'aben', 'abesinija', 'abesinski', 'abet',\n",
              "       'abeta', 'abeti', 'abeundi', 'abev', 'abfoluzion', 'abgesonderten',\n",
              "       'abi', 'abies', 'abiit', 'abija', 'abijev', 'abil', 'abilejev',\n",
              "       'abisinec', 'abisini', 'abisinski', 'abit', 'abiti', 'abiturient',\n",
              "       'abiturientski', 'abiturijent', 'abiturijentski', 'abl', 'ablan',\n",
              "       'ablativ', 'ablativus', 'ablatum', 'ablucija', 'abnik', 'abnor',\n",
              "       'abnormalen', 'abnormalnost', 'abo', 'aboj', 'abominabiles',\n",
              "       'abonement', 'abonent', 'aboniran', 'abonma', 'abortirati',\n",
              "       'abortum', 'abortus', 'abot', 'abota', 'aboten', 'aboti',\n",
              "       'abotnež', 'abotnica', 'abotnik', 'abotno', 'abotnost', 'abra',\n",
              "       'abraham', 'abrahamov', 'abrahamovig', 'abrahomov', 'abram',\n",
              "       'abramov', 'abranek', 'abreviatura', 'abrupto', 'abs', 'absa',\n",
              "       'absal', 'absalomov', 'absalonov', 'absces', 'abscondita',\n",
              "       'absens', 'absentia', 'absid', 'absida', 'absint', 'absinthium',\n",
              "       'abso', 'absol', 'absolomov', 'absolon', 'absolonov', 'absolucija',\n",
              "       'absolut', 'absoluta', 'absolute', 'absoluten', 'absolutio',\n",
              "       'absolution', 'absolutionem', 'absolutionis', 'absolutist',\n",
              "       'absolutisten', 'absolutističen', 'absolutistično', 'absolutizem',\n",
              "       'absolutno', 'absolutnost', 'absolutorij', 'absolutus', 'absolva',\n",
              "       'absolvat', 'absolvatur', 'absolvent', 'absolvere', 'absolviran',\n",
              "       'absolvirati', 'absolvo', 'absor', 'absorbirati', 'abst', 'absti',\n",
              "       'abstina', 'abstineat', 'abstinenca', 'abstinent', 'abstinenten',\n",
              "       'abstinenčen', 'abstinere', 'abstra', 'abstrahiranje',\n",
              "       'abstrahirati', 'abstrahovati', 'abstrak', 'abstrakcija',\n",
              "       'abstrakt', 'abstrakten', 'abstraktiven', 'abstraktno',\n",
              "       'abstraktnost', 'abstruzen', 'abstulit', 'absurd', 'absurden',\n",
              "       'absurdnost', 'absurdum', 'abtreiben', 'abtreten', 'abu', 'abuna',\n",
              "       'ac', 'aca', 'acad', 'academia', 'academica', 'acaleja', 'acalost',\n",
              "       'acalosten', 'acanthoides', 'acaulis', 'acb', 'acc', 'accedant',\n",
              "       'accedat', 'accent', 'accepimus', 'accepit', 'accept', 'accepta',\n",
              "       'acceptabis', 'accepto', 'acceptus', 'accessit', 'accidens',\n",
              "       'accipe', 'accipere', 'accipietis', 'accipit', 'acclamationem',\n",
              "       'accomodat', 'accomodata', 'accompel', 'accompli', 'accord',\n",
              "       'accus', 'accusativ', 'ace', 'acen', 'acer', 'acervus', 'acetat',\n",
              "       'aceti', 'acetilen', 'acetilenski', 'aceton', 'acetosa',\n",
              "       'acetosella', 'acetum', 'acf', 'ach', 'achillea', 'acht', 'achten',\n",
              "       'aci', 'acid', 'acidum', 'acies', 'acij', 'acija', 'acijski',\n",
              "       'aciv', 'aciva', 'acivlen', 'acker', 'ackerbauministeriums', 'acl',\n",
              "       'aconitum', 'acre', 'act', 'acta', 'acti', 'actio', 'action',\n",
              "       'actione', 'actionem', 'actiones', 'actionibus', 'actionis',\n",
              "       'activa', 'actu', 'actualis', 'actum', 'actus', 'acu', 'aculeatus',\n",
              "       'aculeo', 'acuta', 'acutifolium', 'ad', 'ada', 'adagio', 'adaj',\n",
              "       'adalberov', 'adalbert', 'adaljen', 'adalvinov', 'adam', 'adamič',\n",
              "       'adamičev', 'adamov', 'adamovi', 'adamovig', 'adamovo', 'adan',\n",
              "       'adaptacija', 'adaptiran', 'adaptirati', 'adar', 'adati', 'add',\n",
              "       'adda', 'addati', 'addi', 'addio', 'addukserunt', 'ade', 'adec',\n",
              "       'adej', 'adek', 'adekvaten', 'adel', 'adela', 'adelajda', 'adelin',\n",
              "       'adelungov', 'adem', 'aden', 'adena', 'adenski', 'adeo', 'adept',\n",
              "       'ader', 'adersbaški', 'adest', 'adeti', 'adeva', 'adevati',\n",
              "       'adgel', 'adhezija', 'adhibeatur', 'adhiberi', 'adhuc', 'adhuk',\n",
              "       'adi', 'adicija', 'adie', 'adieu', 'adij', 'adija', 'adijo',\n",
              "       'adil', 'adin', 'adio', 'adirati', 'adire', 'adit', 'aditi',\n",
              "       'adiutor', 'adiutores', 'adiški', 'adiža', 'adižka', 'adj',\n",
              "       'adjati', 'adjectiva', 'adjek', 'adjektiv', 'adjektiva',\n",
              "       'adjektiven', 'adjo', 'adjt', 'adju', 'adjunkt', 'adjunkta',\n",
              "       'adjunktov', 'adjunktu', 'adjustiran', 'adjustiranje', 'adjut',\n",
              "       'adjutant', 'adjutanta', 'adjutantov', 'adjutor', 'adjutorio',\n",
              "       'adjutorium', 'adjutum', 'adjuva', 'adjuvat', 'adl', 'adlatus',\n",
              "       'adlerjev', 'adlešička', 'adli', 'adlo', 'adma', 'admi', 'admin',\n",
              "       'administer', 'administr', 'administra', 'administracija',\n",
              "       'administracijski', 'administrand', 'administrare',\n",
              "       'administratione', 'administrationem', 'administrationis',\n",
              "       'administrativen', 'administrativno', 'administrator',\n",
              "       'admirabilis', 'admiral', 'admiralati', 'admiralen',\n",
              "       'admiraliteta', 'admiralov', 'admiralski', 'admiralstvo',\n",
              "       'admirari', 'admirati', 'admitt', 'admittentes', 'admitti',\n",
              "       'admodum', 'admontski', 'adneti', 'adnj', 'adnji', 'adno', 'ado',\n",
              "       'adob', 'adobiti', 'adolescens', 'adolescent', 'adolescentes',\n",
              "       'adolf', 'adolfov', 'adon', 'adonis', 'adoptiran', 'adoptirati',\n",
              "       'adora', 'adoracija', 'adoramus', 'adorationis', 'adoratur',\n",
              "       'adoremus', 'adost', 'adostenje', 'adosti', 'adov', 'adovan',\n",
              "       'adovati', 'adr', 'adra', 'adrav', 'adrenalin', 'adres', 'adresa',\n",
              "       'adresar', 'adresat', 'adresati', 'adrese', 'adresen', 'adresi',\n",
              "       'adresiran', 'adreso', 'adresovan', 'adresti', 'adriatica',\n",
              "       'adriatski', 'adriaški', 'adrija', 'adrijan', 'adrijanov',\n",
              "       'adrijanski', 'adrijansko', 'adrijatski', 'adrijaški', 'adrijen',\n",
              "       'adrijenin', 'adrijin', 'adrijski', 'adro', 'ads', 'adscript',\n",
              "       'adscripti', 'adski', 'adstantes', 'adsum', 'adt', 'adu', 'adular',\n",
              "       'adulerati', 'adultera', 'adulterium', 'adur', 'adut', 'adv',\n",
              "       'adva', 'advenerit', 'advent', 'adventen', 'adventiven',\n",
              "       'adventno', 'adventski', 'adventus', 'adverb', 'adverbia',\n",
              "       'adverbialen', 'adversarius', 'adversetur', 'adversus', 'adveten',\n",
              "       'advlen', 'advo', 'advocatus', 'advok', 'advokacija', 'advokat',\n",
              "       'advokata', 'advokatje', 'advokatov', 'advokatovski', 'advokatski',\n",
              "       'advokatura', 'advokaturski', 'ae', 'aealosten', 'aec', 'aed',\n",
              "       'aedes', 'aedi', 'aedibus', 'aedificat', 'aedificavit',\n",
              "       'aedificentur', 'aedituus', 'aee', 'aeeleti', 'aef', 'aega',\n",
              "       'aegejski', 'aegritudina', 'aegrotus', 'aei', 'aeiveta', 'aeivlen',\n",
              "       'aeivlena', 'aej', 'aeje', 'aekolika', 'ael', 'aem', 'aema',\n",
              "       'aemati', 'aemlja', 'aemulator', 'aen', 'aeno', 'aeo', 'aer',\n",
              "       'aerarium', 'aere', 'aerea', 'aero', 'aerodinamičen', 'aerodrom',\n",
              "       'aeroplan', 'aerostatika', 'aes', 'aesculus', 'aest',\n",
              "       'aestimativa', 'aestivalis', 'aestivum', 'aestu', 'aet', 'aeta',\n",
              "       'aetas', 'aetata', 'aetatis', 'aete', 'aeten', 'aeter', 'aeteren',\n",
              "       'aeterna', 'aeternae', 'aeternam', 'aeterne', 'aeternitati',\n",
              "       'aeternitatis', 'aeternum', 'aethiopica', 'aeti', 'aevi', 'aevum',\n",
              "       'af', 'afa', 'afanasijev', 'afanasjev', 'afc', 'afco', 'afe',\n",
              "       'afekcija', 'afekt', 'afekta', 'afektacija', 'afektiran',\n",
              "       'afektirano', 'afektiranost', 'afektiven', 'afektovan', 'afelij',\n",
              "       'afen', 'afer', 'afera', 'aff', 'affe', 'affect', 'affectus',\n",
              "       'affen', 'affinis', 'affinitatis', 'affl', 'afflictorum',\n",
              "       'affligit', 'afh', 'afha', 'afi', 'afirmacija', 'afirmirati',\n",
              "       'afj', 'afl', 'afle', 'afligit', 'afna', 'afniti', 'aforizem',\n",
              "       'afra', 'afrc', 'afri', 'africana', 'afrik', 'afrika', 'afrikan',\n",
              "       'afrikanec', 'afrikansk', 'afrikanski', 'afrikansko', 'afriti',\n",
              "       'afričanski', 'afričansko', 'afriški', 'afriško', 'afrodita',\n",
              "       'afront', 'afs', 'aft', 'afta', 'aften', 'afti', 'ag', 'aga',\n",
              "       'agamemnonov', 'agamemnov', 'agamus', 'agan', 'agapa', 'agape',\n",
              "       'agar', 'agaricus', 'agas', 'agat', 'agata', 'agatast', 'agati',\n",
              "       'agatin', 'agatur', 'agav', 'agava', 'age', 'agen', 'agencija',\n",
              "       'agenda', 'agendum', 'agens', 'agent', 'agentes', 'agentirati',\n",
              "       'agentis', 'agentka', 'agentov', 'agentski', 'agentura',\n",
              "       'agenturen', 'ager', 'agere', 'aget', 'aggregati', 'aggregavimus',\n",
              "       'agi', 'agilen', 'agilis', 'agilnost', 'agimus', 'agin', 'aginica',\n",
              "       'agio', 'agirati', 'agis', 'agit', 'agita', 'agitacija',\n",
              "       'agitacijski', 'agitator', 'agitatorica', 'agitatoričen',\n",
              "       'agitatorski', 'agitatorstvo', 'agitačen', 'agite', 'agiti',\n",
              "       'agitirat', 'agitirati', 'agito', 'agitovati', 'agitprop',\n",
              "       'agitur', 'aglo', 'agmen', 'agn', 'agne', 'agnec', 'agnecz',\n",
              "       'agni', 'agnj', 'agnjet', 'agnosticizem', 'agnus', 'ago', 'agoda',\n",
              "       'agonija', 'agonizem', 'agov', 'agovor', 'agra', 'agrafa', 'agram',\n",
              "       'agrar', 'agrarec', 'agraren', 'agraria', 'agrarizem', 'agrarno',\n",
              "       'agrarski', 'agras', 'agre', 'agregat', 'agresija', 'agresiven',\n",
              "       'agresivno', 'agresivnost', 'agrestis', 'agri', 'agrikultura',\n",
              "       'agrikulturen', 'agripa', 'agripin', 'agripov', 'agro', 'agron',\n",
              "       'agronom', 'agronomija', 'agrum', 'agua', 'ah', 'aha', 'ahab',\n",
              "       'ahabov', 'ahac', 'ahaceljnov', 'ahacelnov', 'ahaci', 'ahacij',\n",
              "       'ahacija', 'ahacijev', 'ahacljev', 'ahacov', 'ahaj', 'ahaja',\n",
              "       'ahajcev', 'ahajec', 'ahajski', 'ahar', 'ahasver', 'ahasverjev',\n",
              "       'ahasverov', 'ahasverstvo', 'ahat', 'ahati', 'ahačič', 'ahačičev',\n",
              "       'ahd', 'ahe', 'ahejski', 'ahek', 'ahen', 'ahenski', 'aher', 'ahes',\n",
              "       'ahi', 'ahil', 'ahilej', 'ahilejev', 'ahilov', 'ahim', 'ahiti',\n",
              "       'ahk', 'ahka', 'ahko', 'ahm', 'ahmed', 'ahmedov', 'ahmet',\n",
              "       'ahmetov', 'aho', 'ahod', 'ahoden', 'aht', 'ahtaj', 'ahtal',\n",
              "       'ahtat', 'ahtati', 'ahten', 'ahtenga', 'ahtengo', 'ahti', 'ahu',\n",
              "       'ahval', 'ahvala', 'ahvaliti', 'ai', 'aia', 'aic', 'aica', 'aico',\n",
              "       'aid', 'aida', 'aie', 'aied', 'aifer', 'aih', 'aii', 'aiia',\n",
              "       'aiii', 'aiiko', 'aiil', 'aij', 'aija', 'aik', 'aika', 'aiko',\n",
              "       'ail', 'aili', 'ailiti', 'aim', 'aime', 'ain', 'aina',\n",
              "       'ainerikanski', 'ains', 'aio', 'aip', 'air', 'ais', 'aistethičen',\n",
              "       'ait', 'aita', 'aitar', 'aitarja', 'aitf', 'aiti', 'aiz', 'aič',\n",
              "       'aj', 'aja', 'ajaj', 'ajalonski', 'ajanje', 'ajanta', 'ajantov',\n",
              "       'ajarski', 'ajati', 'ajb', 'ajbešov', 'ajbiš', 'ajbiša', 'ajbišev',\n",
              "       'ajbiž', 'ajbižev', 'ajca', 'ajce', 'ajd', 'ajda', 'ajdam',\n",
              "       'ajdati', 'ajde', 'ajden', 'ajdi', 'ajdica', 'ajdin', 'ajdina',\n",
              "       'ajdinski', 'ajdišče', 'ajdja', 'ajdje', 'ajdji', 'ajdna',\n",
              "       'ajdouski', 'ajdov', 'ajdova', 'ajdovec', 'ajdovfek', 'ajdovi',\n",
              "       'ajdovica', 'ajdovsk', 'ajdovski', 'ajdovsko', 'ajdovstvo',\n",
              "       'ajdovšček', 'ajdovščica', 'ajdovščina', 'ajduk', 'aje', 'ajea',\n",
              "       'ajed', 'ajeg', 'ajegov', 'ajej', 'ajeja', 'ajek', 'ajem', 'ajen',\n",
              "       'ajer', 'ajeti', 'ajev', 'ajf', 'ajfer', 'ajfr', 'ajfra', 'ajfram',\n",
              "       'ajfranje', 'ajfrati', 'ajfreg', 'ajfru', 'ajhen', 'ajhna', 'aji',\n",
              "       'ajia', 'ajili', 'ajim', 'ajin', 'ajio', 'ajiti', 'ajj', 'ajl',\n",
              "       'ajli', 'ajmanov', 'ajmo', 'ajmoht', 'ajmohti', 'ajn', 'ajna',\n",
              "       'ajne', 'ajnmalajns', 'ajns', 'ajo', 'ajor', 'ajoč', 'ajs',\n",
              "       'ajsati'], dtype=object)"
            ]
          },
          "execution_count": 10,
          "metadata": {},
          "output_type": "execute_result"
        }
      ],
      "source": [
        "# All the words\n",
        "words_list5[:1000]"
      ]
    },
    {
      "cell_type": "code",
      "execution_count": null,
      "metadata": {
        "colab": {
          "base_uri": "https://localhost:8080/"
        },
        "id": "4W0Krs_XaH1Y",
        "outputId": "5b5a4f39-2a3c-46ff-8f24-33017d37dca1",
        "collapsed": true
      },
      "outputs": [
        {
          "data": {
            "text/plain": [
              "array(['aa', 'aaa', 'aaaa', 'aai', 'aaj', 'aal', 'aar', 'aas', 'ab',\n",
              "       'aba', 'abbe', 'abc', 'abe', 'abeceda', 'abecedar', 'abeceden',\n",
              "       'abecednik', 'abecedno', 'abel', 'abeljen', 'abeljnov', 'abelnov',\n",
              "       'abelov', 'aben', 'abesinski', 'abi', 'abisinski', 'abiturient',\n",
              "       'abiturijent', 'ablativ', 'abnormalen', 'abo', 'abortus', 'abot',\n",
              "       'abota', 'aboten', 'abotnež', 'abotnica', 'abotnik', 'abotno',\n",
              "       'abotnost', 'abra', 'abraham', 'abrahamov', 'abs', 'absa',\n",
              "       'absint', 'abso', 'absol', 'absolut', 'absoluten', 'absolutionem',\n",
              "       'absolutist', 'absolutističen', 'absolutizem', 'absolutno',\n",
              "       'absolutnost', 'absolutorij', 'absolvent', 'absolviran',\n",
              "       'absolvirati', 'absorbirati', 'abstinenca', 'abstinent',\n",
              "       'abstrahirati', 'abstrakcija', 'abstrakten', 'abstraktno',\n",
              "       'abstraktnost', 'absurden', 'absurdnost', 'absurdum', 'ac',\n",
              "       'acaulis', 'acclamationem', 'ace', 'acer', 'ach', 'aci', 'act',\n",
              "       'acta', 'actus', 'ad', 'ada', 'adaj', 'adam', 'adamov', 'adamovi',\n",
              "       'adamovig', 'adaptacija', 'adaptirati', 'adar', 'ade', 'aden',\n",
              "       'adhuc', 'adi', 'adijo', 'adjektiv', 'adjunkt', 'adjunkta',\n",
              "       'adjutant', 'admi', 'admin', 'administer', 'administracija',\n",
              "       'administrativen', 'administrativno', 'administrator', 'admiral',\n",
              "       'admiralov', 'admiralski', 'admirati', 'admodum', 'admontski',\n",
              "       'adnji', 'ado', 'adolf', 'adolfov', 'adres', 'adresa', 'adresen',\n",
              "       'adreso', 'adrija', 'adrijanski', 'adu', 'adut', 'advent',\n",
              "       'adventen', 'adversus', 'advo', 'advocatus', 'advokat',\n",
              "       'advokatje', 'advokatski', 'advokatura', 'ae', 'aeroplan',\n",
              "       'aetatis', 'aeteren', 'aeterna', 'aeternam', 'aeternum', 'aeti',\n",
              "       'af', 'afe', 'afekt', 'afektacija', 'afektiran', 'afektirano',\n",
              "       'afera', 'afi', 'afl', 'aforizem', 'afri', 'afrika', 'afrikan',\n",
              "       'afrikanski', 'afričanski', 'afriški', 'afrodita', 'aft', 'ag',\n",
              "       'aga', 'agamemnonov', 'agamus', 'agape', 'agar', 'agat', 'agata',\n",
              "       'agatin', 'agava', 'age', 'agen', 'agencija', 'agenda', 'agens',\n",
              "       'agent', 'agentura', 'ager', 'agere', 'agi', 'agilen', 'agilnost',\n",
              "       'agimus', 'agit', 'agita', 'agitacija', 'agitacijski', 'agitator',\n",
              "       'agitatorski', 'agitirati', 'agitovati', 'agnus', 'ago', 'agonija',\n",
              "       'agov', 'agraren', 'agras', 'agresiven', 'agresivnost',\n",
              "       'agrikultura', 'agripin', 'agronom', 'ah', 'aha', 'ahabov', 'ahac',\n",
              "       'ahacija', 'ahajski', 'ahasver', 'ahat', 'ahati', 'ahi',\n",
              "       'ahilejev', 'ahilov', 'ahko', 'ahmed', 'ahmetov', 'aho', 'ahtat',\n",
              "       'ahtati', 'ahtenga', 'ai', 'aia', 'aii', 'aij', 'ail', 'ain',\n",
              "       'aio', 'air', 'ais', 'ait', 'aitar', 'aiti', 'aj', 'aja', 'ajaj',\n",
              "       'ajati', 'ajbiš', 'ajbišev', 'ajd', 'ajda', 'ajde', 'ajdja',\n",
              "       'ajdje', 'ajdov', 'ajdovec', 'ajdovica', 'ajdovski', 'ajdovstvo',\n",
              "       'aje', 'ajen', 'ajfer', 'ajfra', 'aji', 'ajmoht', 'ajn', 'ajo',\n",
              "       'ajt', 'ajtati', 'ajte', 'ajtet', 'ajti', 'ak', 'aka', 'akacija',\n",
              "       'akacijev', 'akad', 'akada', 'akadem', 'akademija', 'akademijski',\n",
              "       'akademik', 'akademičen', 'akademično', 'akademiški', 'akademski',\n",
              "       'akaj', 'akati', 'akcent', 'akceptirati', 'akcija', 'akcijonar',\n",
              "       'akcijski', 'ake', 'aker', 'aki', 'akna', 'ako', 'akob', 'akoj',\n",
              "       'akoje', 'akol', 'akolit', 'akon', 'akopram', 'akoprati',\n",
              "       'akoprav', 'akoprem', 'akor', 'akora', 'akorav', 'akoraven',\n",
              "       'akoravno', 'akord', 'akorden', 'akotud', 'akotuda', 'akotudi',\n",
              "       'akotuditi', 'akr', 'akrat', 'akrobat', 'akropola', 'aksiom',\n",
              "       'akt', 'aktiv', 'aktiva', 'aktiven', 'aktivist', 'aktivno',\n",
              "       'aktivnost', 'aktovka', 'aktualen', 'aktualnost', 'aktuar',\n",
              "       'aktuelen', 'aku', 'akul', 'akumulator', 'akustika', 'akustičen',\n",
              "       'akuten', 'akuzativ', 'akv', 'akvamarin', 'akvarel', 'akvarij',\n",
              "       'akvilejski', 'akvinski', 'al', 'ala', 'alabaster', 'alabastrov',\n",
              "       'alah', 'alahov', 'alarm', 'alarmen', 'alarmirati', 'alb', 'alba',\n",
              "       'albanec', 'albanija', 'albanski', 'albatros', 'albert',\n",
              "       'albertov', 'albin', 'alboinov', 'albreht', 'albrehtov', 'album',\n",
              "       'albus', 'alco', 'ald', 'aldov', 'aldovati', 'ale', 'alec',\n",
              "       'alegorija', 'alegoričen', 'alej', 'aleja', 'aleksander',\n",
              "       'aleksandrija', 'aleksandrijski', 'aleksandrin', 'aleksandrinski',\n",
              "       'aleksandrov', 'alel', 'alelovati', 'aleluja', 'alem', 'alen',\n",
              "       'alenkin', 'alenčica', 'aleš', 'alešev', 'alf', 'alfa', 'alfabet',\n",
              "       'alfabetičen', 'alfejev', 'alfonz', 'alfonzov', 'alg', 'alga',\n",
              "       'algebra', 'algirski', 'alhimist', 'ali', 'alia', 'alias', 'alibi',\n",
              "       'alien', 'aligator', 'alii', 'aliis', 'alijev', 'alina', 'alio',\n",
              "       'aliti', 'aliud', 'alizem', 'alj', 'alja', 'aljati', 'aljažev',\n",
              "       'alje', 'alji', 'alk', 'alka', 'alkalija', 'alkaličen', 'alkaloid',\n",
              "       'alkimist', 'alko', 'alkohol', 'alkoholen', 'alkoholik',\n",
              "       'alkoholizem', 'alkoholičen', 'alkoholov', 'all', 'alla', 'allah',\n",
              "       'allahov', 'allar', 'allein', 'allelovati', 'alleluj', 'alleluja',\n",
              "       'allen', 'alles', 'allgemein', 'alli', 'allium', 'alma', 'almanah',\n",
              "       'almožen', 'almožno', 'alnica', 'alnost', 'alo', 'aloa', 'aloe',\n",
              "       'aloja', 'alojzij', 'alojzija', 'alojzijev', 'alojzijevišče',\n",
              "       'alost', 'alosten', 'alpa', 'alpe', 'alpina', 'alpinski', 'alpski',\n",
              "       'alt', 'alta', 'altai', 'altajski', 'altan', 'altana', 'altar',\n",
              "       'altare', 'altaren', 'altarja', 'altarjati', 'altarjev', 'altarji',\n",
              "       'altarski', 'altarček', 'alte', 'alter', 'altera', 'alternativa',\n",
              "       'alto', 'alu', 'alumen', 'aluminij', 'aluminijast', 'aluminijev',\n",
              "       'alzaški', 'am', 'ama', 'amalgam', 'amalija', 'amater', 'amazonka'],\n",
              "      dtype=object)"
            ]
          },
          "execution_count": 21,
          "metadata": {},
          "output_type": "execute_result"
        }
      ],
      "source": [
        "words_list10[:500]"
      ]
    },
    {
      "cell_type": "code",
      "execution_count": null,
      "metadata": {
        "colab": {
          "base_uri": "https://localhost:8080/"
        },
        "collapsed": true,
        "id": "dXIjReDc9fe8",
        "outputId": "492687f7-e763-4954-9b16-b81f22310492"
      },
      "outputs": [
        {
          "data": {
            "text/plain": [
              "array(['aa', 'aaa', 'aaaa', 'aaaaa', 'aaaaaa', 'aaaaaaaa',\n",
              "       'aaaaaaaaaaaaaa', 'aaaaaaaaaaaaaaaaaaaaaaaaaaaaaaaaaan',\n",
              "       'aaaaaaaaaaaaaaaaaaaaaaaaaaaaaaaaenea',\n",
              "       'aaaaaaaaaaaaaaaaaaaaaaaaaaaac', 'aaaaaaazazazazazazvvavev',\n",
              "       'aaaaaifj', 'aaaaatli', 'aaaac', 'aaaagng', 'aaaat', 'aaaaš',\n",
              "       'aaac', 'aaae', 'aaaeco', 'aaaeut', 'aaaftgd', 'aaah',\n",
              "       'aaahaaažihažhahahaažihaaaaaažažiaš', 'aaahati', 'aaahe', 'aaahhk',\n",
              "       'aaaimmaja', 'aaaioa', 'aaaiti', 'aaaj', 'aaajati', 'aaajnt',\n",
              "       'aaak', 'aaaka', 'aaakactp', 'aaako', 'aaalall', 'aaament',\n",
              "       'aaanali', 'aaaniti', 'aaanta', 'aaao', 'aaaofjen', 'aaaoo',\n",
              "       'aaaoonaao', 'aaaov', 'aaap', 'aaarfk', 'aaaruc', 'aaasa', 'aaatn',\n",
              "       'aaatp', 'aaatra', 'aaatral', 'aaatri', 'aaatrlal', 'aaav', 'aaaz',\n",
              "       'aaazaj', 'aaazz', 'aaačaez', 'aab', 'aabbcc', 'aaben', 'aabi',\n",
              "       'aabuhnjen', 'aac', 'aace', 'aacelec', 'aacfe', 'aachen',\n",
              "       'aachenski', 'aacjts', 'aacl', 'aacp', 'aacpakegtep', 'aacraba',\n",
              "       'aacrb', 'aacte', 'aactoritati', 'aacu', 'aad', 'aadaj',\n",
              "       'aadaoaloujta', 'aadaslati', 'aadelovati', 'aaden', 'aaderžan',\n",
              "       'aaderžanje', 'aadeti', 'aadeva', 'aadilaza', 'aadjereja', 'aadjo',\n",
              "       'aadlego', 'aadlog', 'aadlop', 'aadnič', 'aadnji', 'aadoatopan',\n",
              "       'aadobil', 'aadobiliti', 'aadobiti', 'aadobiš', 'aadoht', 'aadome',\n",
              "       'aadonel', 'aadosečiti', 'aadosten', 'aadovoljno', 'aadrijana',\n",
              "       'aae', 'aaecth', 'aaee', 'aaeejnnjhoahhonha', 'aaeeulum', 'aaehe',\n",
              "       'aaeldal', 'aaema', 'aaen', 'aaeni', 'aaent', 'aaeodan',\n",
              "       'aaeproti', 'aaer', 'aaetath', 'aaf', 'aafalati', 'aafcde', 'aafe',\n",
              "       'aaffe', 'aafh', 'aafhe', 'aafiie', 'aafmt', 'aafnati',\n",
              "       'aafprotin', 'aafs', 'aafsti', 'aafzhla', 'aag', 'aagansll',\n",
              "       'aagibap', 'aagiblja', 'aagniti', 'aago', 'aagoa', 'aagopmtt',\n",
              "       'aagotovnostj', 'aagristi', 'aah', 'aahaj', 'aahaja', 'aahat',\n",
              "       'aahen', 'aahhk', 'aahii', 'aahoau', 'aahod', 'aahtev', 'aai',\n",
              "       'aaia', 'aaiaa', 'aaiaaaaaiaaiag', 'aaiao', 'aaie', 'aaieacia',\n",
              "       'aaieniti', 'aaii', 'aaiiin', 'aaiipert', 'aaiittfi', 'aaiittp',\n",
              "       'aaijno', 'aaik', 'aaika', 'aailfj', 'aailjona', 'aaim',\n",
              "       'aaimabus', 'aain', 'aaino', 'aaiodoij', 'aaiofihi', 'aaiorati',\n",
              "       'aaipak', 'aaireuar', 'aaislana', 'aaiti', 'aaiuta', 'aaivata',\n",
              "       'aaivsii', 'aaič', 'aaj', 'aajaoveji', 'aajat', 'aajati',\n",
              "       'aajbolj', 'aajcnac', 'aaje', 'aajen', 'aaježiti', 'aajfarski',\n",
              "       'aajglobodjj', 'aajh', 'aajhev', 'aajhiij', 'aajhoder', 'aaji',\n",
              "       'aajijiatet', 'aajilzh', 'aajiti', 'aajiu', 'aajjterkovati',\n",
              "       'aajljeti', 'aajmenje', 'aajnoft', 'aajpreja', 'aajric', 'aajst',\n",
              "       'aajt', 'aajti', 'aajutrekovanje', 'aajučenejšiti', 'aajvcin',\n",
              "       'aajve', 'aajveči', 'aajvečiti', 'aak', 'aaka', 'aakaj',\n",
              "       'aakakkctko', 'aakar', 'aakgk', 'aakii', 'aaklicati', 'aakmbl',\n",
              "       'aakon', 'aakoni', 'aakoo', 'aakor', 'aakovj', 'aakramentarija',\n",
              "       'aakrivaj', 'aakrivala', 'aakto', 'aaku', 'aakuitl', 'aal', 'aala',\n",
              "       'aalajlo', 'aaletovati', 'aaliho', 'aalilojski', 'aalje', 'aall',\n",
              "       'aalla', 'aalma', 'aalniti', 'aalnog', 'aalo', 'aalok',\n",
              "       'aalomljen', 'aalosheh', 'aalost', 'aaloul', 'aaluth', 'aam',\n",
              "       'aama', 'aamaj', 'aamati', 'aamašiti', 'aamecen', 'aamenjen',\n",
              "       'aament', 'aameoa', 'aamerjati', 'aamestov', 'aameu', 'aami',\n",
              "       'aamishlen', 'aamiti', 'aamjpias', 'aamo', 'aamogel', 'aamogle',\n",
              "       'aamore', 'aamoreia', 'aamoriati', 'aamostalen', 'aamostan',\n",
              "       'aamostrelnlk', 'aamoten', 'aamoči', 'aamprctnik', 'aamr',\n",
              "       'aamrco', 'aamrec', 'aamreči', 'aamša', 'aan', 'aana', 'aanajhen',\n",
              "       'aananen', 'aanatlca', 'aaner', 'aaniita', 'aanio', 'aaniualan',\n",
              "       'aanj', 'aanja', 'aanjavost', 'aanjek', 'aann', 'aano',\n",
              "       'aanoatuffi', 'aanoe', 'aanopaijii', 'aanopovimtt', 'aanoviten',\n",
              "       'aanovitno', 'aanovitnoft', 'aanpari', 'aanpeut', 'aanra', 'aans',\n",
              "       'aansti', 'aanstvo', 'aanti', 'aantra', 'aanv', 'aao', 'aaoa',\n",
              "       'aaoaaooo', 'aaoahteokk', 'aaobraženost', 'aaocii', 'aaociiia',\n",
              "       'aaoe', 'aaoeaaz', 'aaoetd', 'aaofta', 'aaoge', 'aaoi', 'aaoii',\n",
              "       'aaokh', 'aaon', 'aaoo', 'aaooat', 'aaooj', 'aaope', 'aaor',\n",
              "       'aaoramentariura', 'aaorte', 'aaot', 'aaova', 'aaovfece', 'aap',\n",
              "       'aapa', 'aapajn', 'aapaka', 'aapasiti', 'aapačba', 'aapc',\n",
              "       'aapeio', 'aapeljati', 'aaperta', 'aaperth', 'aapet', 'aapev',\n",
              "       'aapeža', 'aapf', 'aapiitb', 'aapij', 'aapisuj', 'aapiti',\n",
              "       'aapitka', 'aapja', 'aaploden', 'aapo', 'aapostaveti', 'aapotiti',\n",
              "       'aapotralmmh', 'aapoved', 'aapovednik', 'aapr', 'aapraniti',\n",
              "       'aapravija', 'aapraviti', 'aapravjjati', 'aaprej', 'aaprejmgtshe',\n",
              "       'aapstpops', 'aaptsal', 'aapustiti', 'aar', 'aara', 'aaravaej',\n",
              "       'aaravftoot', 'aaravilo', 'aaravneje', 'aarc', 'aare', 'aarebrnji',\n",
              "       'aarediti', 'aaree', 'aaren', 'aares', 'aareth', 'aarhorn', 'aari',\n",
              "       'aariten', 'aariti', 'aarkvioi', 'aarmii', 'aarn', 'aarnlati',\n",
              "       'aarno', 'aarnuznejsha', 'aaro', 'aaroc', 'aarod', 'aaroda',\n",
              "       'aarodil', 'aarol', 'aaron', 'aaronov', 'aarppf', 'aarr', 'aarski',\n",
              "       'aarszek', 'aartji', 'aarubljeno', 'aarum', 'aarv', 'aaršati',\n",
              "       'aaršc', 'aas', 'aasade', 'aasaj', 'aasbe', 'aase', 'aasekamp',\n",
              "       'aashe', 'aashen', 'aasi', 'aasiraven', 'aaslanjati', 'aaslmcen',\n",
              "       'aaslo', 'aaslužiti', 'aaslužnost', 'aasmeti', 'aasnji', 'aasp',\n",
              "       'aaspanč', 'aasporeden', 'aasprotaik', 'aaspruten', 'aasramo',\n",
              "       'aasršk', 'aastalati', 'aastela', 'aasten', 'aasti', 'aastop',\n",
              "       'aastopiti', 'aastopnik', 'aastran', 'aastreno', 'aastrijski',\n",
              "       'aasts', 'aat', 'aata', 'aataajka', 'aatak', 'aatarta', 'aate',\n",
              "       'aatenns', 'aateoa', 'aaterla', 'aaterta', 'aatetj', 'aatevati',\n",
              "       'aatevljati', 'aati', 'aatiaio', 'aatih', 'aatij', 'aatirarl',\n",
              "       'aatiti', 'aatjr', 'aatm', 'aatn', 'aatnaauojfa', 'aato',\n",
              "       'aatoeca', 'aatomli', 'aatopvj', 'aatore', 'aatorej', 'aatoren',\n",
              "       'aatoroznanski', 'aatoshiti', 'aatovje', 'aatp', 'aattana', 'aatu',\n",
              "       'aatz', 'aau', 'aaua', 'aauašati', 'aaui', 'aauiiik', 'aauk',\n",
              "       'aauoj', 'aauoje', 'aaupeui', 'aaureden', 'aautzt', 'aav',\n",
              "       'aavaden', 'aavaditi', 'aavaha', 'aavamtje', 'aavat', 'aavata',\n",
              "       'aavedati', 'aavek', 'aavergel', 'aavershe', 'aavetje',\n",
              "       'aavevaden', 'aavilno', 'aaviti', 'aavjji', 'aavod', 'aavolj',\n",
              "       'aavonllo', 'aavpik', 'aavpiti', 'aavt', 'aavta', 'aavupaja',\n",
              "       'aaz', 'aaza', 'aazaj', 'aazappfpsippfopppj', 'aazhkiiz', 'aazhs',\n",
              "       'aazlieti', 'aazneo', 'aazts', 'aač', 'aačen', 'aačetek', 'aačeti',\n",
              "       'aačin', 'aačn', 'aačneto', 'aaš', 'aaša', 'aašati', 'aaše',\n",
              "       'aašnik', 'aaštga', 'aaži', 'ab', 'aba', 'abab', 'ababa',\n",
              "       'abababcc', 'abacec', 'abaci', 'abacija', 'abacijalen', 'abacus',\n",
              "       'abad', 'abadati', 'abaddon', 'abadijiv', 'abadn', 'abadon',\n",
              "       'abadoni', 'abadonov', 'abadvoj', 'abaeka', 'abaffc', 'abagati',\n",
              "       'abage', 'abah', 'abaj', 'abaja', 'abajec', 'abajlardov',\n",
              "       'abajski', 'abak', 'abaka', 'abaki', 'abakumov', 'abakus', 'abal',\n",
              "       'abalniti', 'abanski', 'abaocitov', 'abaot', 'abaoti', 'abaotp',\n",
              "       'abaous', 'abar', 'abarašče', 'abarbaro', 'abaren', 'abarimski',\n",
              "       'abarski', 'abarth', 'abartha', 'abarthov', 'abas', 'abasan',\n",
              "       'abasov', 'abastuman', 'abat', 'abata', 'abatana', 'abatati',\n",
              "       'abati', 'abaticai', 'abatija', 'abatje', 'abatnja', 'abaton',\n",
              "       'abatski', 'abaujski', 'abav', 'abavalo', 'abaven', 'abavia',\n",
              "       'abavijalen', 'abavunculus', 'abavus', 'abazak', 'abaš', 'abaša',\n",
              "       'abašidze', 'abažur', 'abb', 'abba', 'abbaaccdcd', 'abbaaccddc',\n",
              "       'abbac', 'abbadan', 'abbaddon', 'abbaden', 'abbadon', 'abbaia',\n",
              "       'abbaiara', 'abbaiare', 'abbain', 'abbaina', 'abbaino',\n",
              "       'abbandonat', 'abbandonato', 'abbandonatti', 'abbandonera',\n",
              "       'abbanfte', 'abbas', 'abbasov', 'abbass', 'abbassan', 'abbassar',\n",
              "       'abbassare', 'abbassata', 'abbassati', 'abbassiati', 'abbat',\n",
              "       'abbate', 'abbatia', 'abbatis', 'abbatissae', 'abbatum', 'abbaz',\n",
              "       'abbazia', 'abbe', 'abbea', 'abbecedario', 'abbeti', 'abbeu',\n",
              "       'abbevillski', 'abbiad', 'abbiama', 'abbiamo', 'abbiate',\n",
              "       'abbiati', 'abbiciti', 'abbiibung', 'abboltcn', 'abbondant',\n",
              "       'abbondantement', 'abbondio', 'abborrer', 'abbottonars',\n",
              "       'abbracciav', 'abbrandler', 'abbrazzo', 'abbred', 'abbrejfteren',\n",
              "       'abbreviaturas', 'abbreviazione', 'abbreviazioni', 'abbrevijatura',\n",
              "       'abbruciara', 'abbuc', 'abc', 'abcati', 'abcbcacjada', 'abcc',\n",
              "       'abccednica', 'abccednik', 'abcd', 'abcda', 'abcde', 'abcden',\n",
              "       'abce', 'abceda', 'abceden', 'abcednik', 'abcedno', 'abces',\n",
              "       'abceska', 'abclnov', 'abcn', 'abcr', 'abcta', 'abcundi', 'abcč',\n",
              "       'abcčdefghi', 'abd', 'abda', 'abdala', 'abdalin', 'abdalo',\n",
              "       'abdankov', 'abdati', 'abdenc', 'abder', 'abderaman', 'abderit',\n",
              "       'abderitizem', 'abderitičen', 'abderitično', 'abderitovstvo',\n",
              "       'abderitski', 'abderitsko', 'abderitstvo', 'abdershal', 'abdest',\n",
              "       'abdicatione', 'abdicirati', 'abdijev', 'abdikacija', 'abditusov',\n",
              "       'abdnbetn', 'abdnbevlic', 'abdomen', 'abdomi', 'abdominial',\n",
              "       'abdon', 'abdruck', 'abducens', 'abducunt', 'abdul', 'abdulov',\n",
              "       'abe', 'abeain', 'abec', 'abeca', 'abeccdnej', 'abece', 'abeced',\n",
              "       'abeceda', 'abecedar', 'abecedario', 'abecedarium', 'abecedarski',\n",
              "       'abecedarček', 'abecedarčkib', 'abecedec', 'abeceden',\n",
              "       'abecedikarski', 'abecedina', 'abecedinek', 'abecednica',\n",
              "       'abecednicec', 'abecednik', 'abecednikov', 'abecednikovimu',\n",
              "       'abecedniški', 'abecedno', 'abecedovaja', 'abecedovati',\n",
              "       'abecenarium', 'abeceosliček', 'abeczeszki', 'abecžda', 'abed',\n",
              "       'abedec', 'abedul', 'abee', 'abeeedarenje', 'abef', 'abegerit',\n",
              "       'abehdaški', 'abeiin', 'abeille', 'abej', 'abekat', 'abekatati',\n",
              "       'abel', 'abelardov', 'abelek', 'abelen', 'abelin', 'abelj',\n",
              "       'abeljec', 'abeljen', 'abeljnov', 'abeljuov', 'abelka', 'abelnov',\n",
              "       'abelov', 'abelova', 'abeltger', 'abemjen', 'abemuš', 'aben',\n",
              "       'abenati', 'abenblanbifcfa', 'abenblanbtfcfa', 'abenblsnbtfc',\n",
              "       'abend', 'abendlandische', 'abendliindische', 'abendsberg',\n",
              "       'abendsonen', 'abendstern', 'abeniezo', 'abenski', 'abenteuer',\n",
              "       'abentezzen', 'abentheuer', 'abep', 'abepiscopo', 'aber',\n",
              "       'aberaci', 'aberacii', 'aberacij', 'aberacija', 'aberat',\n",
              "       'aberdeen', 'aberdeutlich', 'aberen', 'aberglaube', 'aberglaubifd',\n",
              "       'aberglaubischer', 'abergldubifcbc', 'aberk', 'aberm', 'abermaiš',\n",
              "       'abermal', 'abermaliga', 'abermalige', 'abermals', 'abermatž',\n",
              "       'aberne', 'aberniti', 'aberntat', 'aberremus', 'aberškov',\n",
              "       'abeseda', 'abesinec', 'abesini', 'abesinij', 'abesinija',\n",
              "       'abesiniški', 'abesinski', 'abesinsko', 'abesse', 'abessinicus',\n",
              "       'abet', 'abeta', 'abetati', 'abeth', 'abeti', 'abetin', 'abeto',\n",
              "       'abett', 'abeund', 'abeunda', 'abeundi', 'abeunditi', 'abev',\n",
              "       'abezedar', 'abečedarčkov', 'abež', 'abeža', 'abežati', 'abfaffen',\n",
              "       'abfahrtgeld', 'abfahrthgeld', 'abfallen', 'abfallig',\n",
              "       'abfaltrern', 'abfatten', 'abfcbeultcf', 'abfcbluffe',\n",
              "       'abfcfclagen', 'abfcfmetbung', 'abfconderunt', 'abfdjneiben',\n",
              "       'abfe', 'abfet', 'abfhid', 'abfiaften', 'abfiihren', 'abfitljren',\n",
              "       'abfjitngtg', 'abfolgen', 'abfolgte', 'abfoluta', 'abfolute',\n",
              "       'abfoluten', 'abfoluz', 'abfoluzion', 'abfolv', 'abfolvirati',\n",
              "       'abfonbern', 'abfotuta', 'abfressen', 'abfsojen', 'abftevttar',\n",
              "       'abftojta', 'abftreifen', 'abgahati', 'abganerov', 'abgburg',\n",
              "       'abge', 'abgebaltett', 'abgeben', 'abgebilbet', 'abgebilbete',\n",
              "       'abgebissener', 'abgebrannt', 'abgebrannter', 'abgebrent',\n",
              "       'abgebrocfjen', 'abgebrudten', 'abgebu', 'abgebuffet',\n",
              "       'abgedruckt', 'abgedrucktes', 'abgedruekten', 'abgefasst',\n",
              "       'abgefdjafft', 'abgefdjicfta', 'abgefdjidt', 'abgefdjlagen',\n",
              "       'abgefiiegen', 'abgefonbert', 'abgefouberte', 'abgefperrta',\n",
              "       'abgegeben', 'abgegebenen', 'abgeguckt', 'abgehaltem',\n",
              "       'abgehalten', 'abgehaltenen', 'abgehen', 'abgeholfen',\n",
              "       'abgejonbert', 'abgeklart', 'abgeklarta', 'abgeklartheit',\n",
              "       'abgekochte', 'abgelassen', 'abgelaufe', 'abgelaufen',\n",
              "       'abgelaufener', 'abgelegt', 'abgeleitcte', 'abgeleitet',\n",
              "       'abgeleiteten', 'abgeliandelt', 'abgeljatten', 'abgeljotdet',\n",
              "       'abgeluejjt', 'abgemaeht', 'abgeme', 'abgemtefen'], dtype=object)"
            ]
          },
          "execution_count": 11,
          "metadata": {},
          "output_type": "execute_result"
        }
      ],
      "source": [
        "# orig non-filtered\n",
        "words_list[:500]"
      ]
    },
    {
      "cell_type": "markdown",
      "metadata": {
        "id": "V16bjTu0DyDr"
      },
      "source": [
        "# Check words in word_list by classla"
      ]
    },
    {
      "cell_type": "code",
      "source": [
        "!pip install classla"
      ],
      "metadata": {
        "id": "AZhNYvk6OujF"
      },
      "execution_count": null,
      "outputs": []
    },
    {
      "cell_type": "code",
      "execution_count": null,
      "metadata": {
        "id": "PiIGzS4db4cI"
      },
      "outputs": [],
      "source": [
        "import os\n",
        "import re\n",
        "import glob\n",
        "import time\n",
        "from tqdm import tqdm\n",
        "import classla\n",
        "\n",
        "classla.download('sl')\n",
        "nlp = classla.Pipeline('sl', processors='tokenize,lemma,pos')"
      ]
    },
    {
      "cell_type": "code",
      "execution_count": null,
      "metadata": {
        "id": "2FVsGE9pgSLd"
      },
      "outputs": [],
      "source": [
        "wordss = ['aa', 'aaa', 'aaaa', 'aai', 'aaj', 'aal', 'aar', 'aas', 'ab',\n",
        "       'aba', 'abbe', 'abc', 'abe', 'abeceda', 'abecedar', 'abeceden',\n",
        "       'abecednik', 'abecedno', 'abel', 'abeljen', 'abeljnov', 'abelnov',\n",
        "       'abelov', 'aben', 'abesinski', 'abi', 'abisinski', 'abiturient',\n",
        "       'abiturijent', 'ablativ', 'abnormalen', 'abo', 'abortus', 'abot',\n",
        "       'abota', 'aboten', 'abotnež', 'abotnica', 'abotnik', 'abotno',\n",
        "       'abotnost', 'abra', 'abraham', 'abrahamov', 'abs', 'absa',\n",
        "       'absint', 'abso', 'absol', 'absolut', 'absoluten', 'absolutionem',\n",
        "       'absolutist', 'absolutističen', 'absolutizem', 'absolutno',\n",
        "       'absolutnost', 'absolutorij', 'absolvent', 'absolviran',\n",
        "       'absolvirati', 'absorbirati', 'abstinenca', 'abstinent',\n",
        "       'abstrahirati', 'abstrakcija', 'abstrakten', 'abstraktno',\n",
        "       'abstraktnost', 'absurden', 'absurdnost', 'absurdum', 'ac',\n",
        "       'acaulis', 'acclamationem', 'ace', 'acer', 'ach', 'aci', 'act',\n",
        "       'acta', 'actus', 'ad', 'ada', 'adaj', 'adam']"
      ]
    },
    {
      "cell_type": "code",
      "execution_count": null,
      "metadata": {
        "id": "errZBi0slWqI"
      },
      "outputs": [],
      "source": [
        "def is_valid_lemma(word):\n",
        "    \"\"\"Returns False if CLASSLA doesn't know this word\"\"\"\n",
        "    try:\n",
        "        doc = nlp(word)\n",
        "        token = doc.sentences[0].tokens[0].words[0]\n",
        "\n",
        "        # When lemma matches input, verify CLASSLA actually knows it\n",
        "        if token.lemma.lower() == word.lower():\n",
        "            return (\n",
        "                token.upos not in ['X', 'SYM', 'PUNCT'] and\n",
        "                'Foreign=Yes' not in token.feats and\n",
        "                'Typo=Yes' not in token.feats\n",
        "            )\n",
        "        return True\n",
        "\n",
        "    except:\n",
        "        return False"
      ]
    },
    {
      "cell_type": "code",
      "execution_count": null,
      "metadata": {
        "colab": {
          "base_uri": "https://localhost:8080/"
        },
        "id": "P5z9H8WlgoRk",
        "outputId": "47f0b6d5-06a5-4bb1-9f78-2c80fddbe839"
      },
      "outputs": [
        {
          "name": "stdout",
          "output_type": "stream",
          "text": [
            "aa False\n",
            "aaa False\n",
            "aaaa False\n",
            "aai False\n",
            "aaj False\n",
            "aal False\n",
            "aar False\n",
            "aas False\n",
            "ab False\n",
            "aba False\n",
            "abbe False\n",
            "abc False\n",
            "abe False\n",
            "abeceda False\n",
            "abecedar False\n",
            "abeceden False\n",
            "abecednik False\n",
            "abecedno False\n",
            "abel False\n",
            "abeljen False\n",
            "abeljnov False\n",
            "abelnov False\n",
            "abelov False\n",
            "aben False\n",
            "abesinski False\n",
            "abi False\n",
            "abisinski False\n",
            "abiturient False\n",
            "abiturijent False\n",
            "ablativ False\n",
            "abnormalen False\n",
            "abo False\n",
            "abortus False\n",
            "abot False\n",
            "abota False\n",
            "aboten False\n",
            "abotnež False\n",
            "abotnica False\n",
            "abotnik False\n",
            "abotno False\n",
            "abotnost False\n",
            "abra False\n",
            "abraham False\n",
            "abrahamov False\n",
            "abs False\n",
            "absa False\n",
            "absint False\n",
            "abso False\n",
            "absol False\n",
            "absolut False\n",
            "absoluten False\n",
            "absolutionem False\n",
            "absolutist False\n",
            "absolutističen False\n",
            "absolutizem False\n",
            "absolutno False\n",
            "absolutnost False\n",
            "absolutorij False\n",
            "absolvent False\n",
            "absolviran False\n",
            "absolvirati False\n",
            "absorbirati False\n",
            "abstinenca False\n",
            "abstinent False\n",
            "abstrahirati False\n",
            "abstrakcija False\n",
            "abstrakten False\n",
            "abstraktno False\n",
            "abstraktnost False\n",
            "absurden False\n",
            "absurdnost False\n",
            "absurdum False\n",
            "ac False\n",
            "acaulis False\n",
            "acclamationem False\n",
            "ace False\n",
            "acer False\n",
            "ach False\n",
            "aci False\n",
            "act False\n",
            "acta False\n",
            "actus False\n",
            "ad False\n",
            "ada False\n",
            "adaj False\n",
            "adam False\n"
          ]
        }
      ],
      "source": [
        "for word in wordss:\n",
        "  print(word, is_valid_lemma(word))"
      ]
    },
    {
      "cell_type": "markdown",
      "metadata": {
        "id": "HTe5LVTQFLij"
      },
      "source": [
        "# SVD"
      ]
    },
    {
      "cell_type": "code",
      "execution_count": null,
      "metadata": {
        "colab": {
          "base_uri": "https://localhost:8080/"
        },
        "id": "MvwbnTCoH1tb",
        "outputId": "20768d10-a441-4683-9e56-8965c81c4547"
      },
      "outputs": [
        {
          "output_type": "execute_result",
          "data": {
            "text/plain": [
              "(4323, 155250)"
            ]
          },
          "metadata": {},
          "execution_count": 14
        }
      ],
      "source": [
        "W5.shape"
      ]
    },
    {
      "cell_type": "markdown",
      "metadata": {
        "id": "JpOfnSazIFbF"
      },
      "source": [
        "=> k cannot be greater than 4323"
      ]
    },
    {
      "cell_type": "code",
      "execution_count": null,
      "metadata": {
        "id": "rzDVSaBWFjQW"
      },
      "outputs": [],
      "source": [
        "from scipy.sparse.linalg import svds\n",
        "import numpy as np"
      ]
    },
    {
      "cell_type": "code",
      "execution_count": null,
      "metadata": {
        "id": "C6dgRt2DG2IP"
      },
      "outputs": [],
      "source": [
        "def apply_svd(W, k, output_folder):\n",
        "  '''\n",
        "  W - matrix texts x words\n",
        "  k - the rank of the SVD, must be less than any dimension of W\n",
        "  '''\n",
        "  # Apply the SVD function\n",
        "  u, sigma, vt = svds(W, k)\n",
        "\n",
        "  # The order of the singular values is descending\n",
        "  descending_order_of_inds = np.flip(np.argsort(sigma))\n",
        "  u = u[:,descending_order_of_inds]\n",
        "  vt = vt[descending_order_of_inds]\n",
        "  sigma = sigma[descending_order_of_inds]\n",
        "\n",
        "  # Check that sizes are ok\n",
        "  assert sigma.shape == (k,)\n",
        "  assert vt.shape == (k, W.shape[1])\n",
        "  assert u.shape == (W.shape[0], k)\n",
        "\n",
        "  # Save all the matrices in folder (just in case)\n",
        "  with open(output_folder+'/' + str(k) + '_sigma_vt.npy', 'wb') as f:\n",
        "        np.save(f, np.dot(np.diag(sigma), vt).T)\n",
        "  with open(output_folder+'/' +  str(k) + '_sigma.npy', 'wb') as f:\n",
        "        np.save(f, sigma)\n",
        "  with open(output_folder+'/' +  str(k) + '_u.npy', 'wb') as f:\n",
        "        np.save(f, u)\n",
        "  with open(output_folder+'/' +  str(k) + '_vt.npy', 'wb') as f:\n",
        "        np.save(f, vt)\n",
        "  return np.dot(np.diag(sigma), vt).T"
      ]
    },
    {
      "cell_type": "code",
      "source": [
        "vv1024 = apply_svd(W5, 1024, '/content')"
      ],
      "metadata": {
        "id": "-YfGT3Ym9yki"
      },
      "execution_count": null,
      "outputs": []
    },
    {
      "cell_type": "code",
      "execution_count": null,
      "metadata": {
        "colab": {
          "base_uri": "https://localhost:8080/"
        },
        "id": "Jy-gnQDXLher",
        "outputId": "e2e9a518-1a32-4d3b-f5ba-9499f28caa74"
      },
      "outputs": [
        {
          "output_type": "execute_result",
          "data": {
            "text/plain": [
              "(155250, 1024)"
            ]
          },
          "metadata": {},
          "execution_count": 36
        }
      ],
      "source": [
        "vv1024.shape"
      ]
    },
    {
      "cell_type": "code",
      "execution_count": null,
      "metadata": {
        "id": "fka4e-nhIdiF"
      },
      "outputs": [],
      "source": [
        "# k == w2v dimension\n",
        "vv100 = apply_svd(W5, 100, '/content')"
      ]
    },
    {
      "cell_type": "code",
      "source": [
        "vv100.shape"
      ],
      "metadata": {
        "colab": {
          "base_uri": "https://localhost:8080/"
        },
        "id": "p2ZKtUI9FXaA",
        "outputId": "9f739c60-c27c-4de2-e8d9-bbe23410e927"
      },
      "execution_count": null,
      "outputs": [
        {
          "output_type": "execute_result",
          "data": {
            "text/plain": [
              "(155250, 100)"
            ]
          },
          "metadata": {},
          "execution_count": 32
        }
      ]
    },
    {
      "cell_type": "code",
      "execution_count": null,
      "metadata": {
        "colab": {
          "base_uri": "https://localhost:8080/"
        },
        "id": "QCtopU6aLcgi",
        "outputId": "5a7fa0a4-fb40-4426-cfa5-f42c3852bd0a"
      },
      "outputs": [
        {
          "output_type": "stream",
          "name": "stdout",
          "text": [
            "1024_sigma.npy\t   filtered_slovenian_corpus.txt\n",
            "1024_sigma_vt.npy  sample_data\n",
            "1024_u.npy\t   slovenian_lit_SVD_dictionary.npy\n",
            "1024_vt.npy\n"
          ]
        }
      ],
      "source": [
        "!ls"
      ]
    },
    {
      "cell_type": "code",
      "execution_count": null,
      "metadata": {
        "id": "7FQK40LmMGa8"
      },
      "outputs": [],
      "source": [
        "def create_dictionary(words_list, vv, output_file):\n",
        "  dictionary = {}\n",
        "  for word, vector in zip(words_list, vv):\n",
        "    dictionary[word] = vector\n",
        "  np.save(output_file, dictionary)\n",
        "  return dictionary"
      ]
    },
    {
      "cell_type": "code",
      "execution_count": null,
      "metadata": {
        "id": "CKQZKAu37m57"
      },
      "outputs": [],
      "source": [
        "dictionary1024 = create_dictionary(words_list5, vv1024, 'slovenian_lit_SVD_1024_dictionary.npy')"
      ]
    },
    {
      "cell_type": "code",
      "source": [
        "dictionary100 = create_dictionary(words_list5, vv100, 'slovenian_lit_SVD_100_dictionary.npy')"
      ],
      "metadata": {
        "id": "yg78TFtOF3gv"
      },
      "execution_count": null,
      "outputs": []
    },
    {
      "cell_type": "code",
      "execution_count": null,
      "metadata": {
        "colab": {
          "base_uri": "https://localhost:8080/"
        },
        "id": "jmLIyQaxM3tq",
        "outputId": "962f562a-9a6b-48c1-fb1a-cbd10dd9e5e5"
      },
      "outputs": [
        {
          "output_type": "execute_result",
          "data": {
            "text/plain": [
              "{'aa': array([ 0.01166676,  0.01487115, -0.00332046, ...,  0.00208464,\n",
              "         0.00149882, -0.00070132]),\n",
              " 'absolutizem': array([0.00517345, 0.00199884, 0.0030556 , ..., 0.00014632, 0.00062643,\n",
              "        0.00032747]),\n",
              " 'adieu': array([ 6.61194470e-05, -4.77929765e-05,  4.10827639e-05, ...,\n",
              "        -8.53863839e-06, -1.47809404e-05,  1.14821625e-05]),\n",
              " 'aee': array([ 2.77370156e-04,  1.96003210e-04, -1.30709146e-04, ...,\n",
              "         6.59237971e-06,  1.18746917e-08,  1.64078674e-04]),\n",
              " 'aglo': array([ 1.39387699e-03, -9.55595431e-04,  7.08297496e-04, ...,\n",
              "        -7.18160492e-05, -1.53550357e-04,  6.32690943e-04]),\n",
              " 'ajdati': array([ 1.96954923e-04,  1.84797020e-04, -1.91813020e-04, ...,\n",
              "         1.00163002e-04,  6.93518387e-05,  1.22636021e-04]),\n",
              " 'akopra': array([ 3.83434687e-04, -8.05688841e-05, -4.57984345e-05, ...,\n",
              "         2.02577669e-04, -3.42835397e-05,  1.54111371e-05]),\n",
              " 'albertinski': array([ 4.42174206e-04,  9.49407197e-04,  5.62833532e-04, ...,\n",
              "         1.99680786e-04, -8.64694311e-05,  4.28177962e-04]),\n",
              " 'alimenti': array([ 7.31967141e-05, -3.01666283e-05,  9.39488848e-05, ...,\n",
              "         9.34118101e-07,  1.37264883e-05,  1.08439901e-07]),\n",
              " 'alosten': array([2.31910613e-04, 5.41902434e-06, 6.50316100e-05, ...,\n",
              "        1.06080753e-05, 3.79469063e-05, 5.10004551e-05])}"
            ]
          },
          "metadata": {},
          "execution_count": 38
        }
      ],
      "source": [
        "dict(list(dictionary1024.items())[:1000:100])"
      ]
    },
    {
      "cell_type": "code",
      "source": [
        "dict(list(dictionary100.items())[:1000:100])"
      ],
      "metadata": {
        "colab": {
          "base_uri": "https://localhost:8080/"
        },
        "id": "Wr_U4q5pF_cX",
        "outputId": "0054e028-fd56-4772-d2e1-83310ba0f362"
      },
      "execution_count": null,
      "outputs": [
        {
          "output_type": "execute_result",
          "data": {
            "text/plain": [
              "{'aa': array([ 1.16667608e-02,  1.48711484e-02,  3.32046489e-03,  2.79877055e-04,\n",
              "         4.27913941e-03, -1.71556131e-03,  3.35493795e-03,  3.10396850e-03,\n",
              "         5.08858687e-04,  2.65847288e-03, -5.66621687e-03,  2.81115235e-03,\n",
              "         1.34865197e-03,  7.83445898e-04, -2.51663374e-03, -1.92776228e-03,\n",
              "         2.17892158e-03, -1.37528134e-03,  1.31366435e-03,  6.58399842e-04,\n",
              "         4.24229503e-03,  5.38501427e-04, -5.78482655e-04, -1.12400276e-04,\n",
              "         6.99674876e-04, -6.13379230e-04,  1.31217493e-03, -1.08123126e-03,\n",
              "         1.69162255e-03,  9.62268565e-04, -8.22852554e-04, -4.65228361e-03,\n",
              "        -1.92766555e-03,  9.99238869e-04,  2.27307411e-03, -9.09182361e-05,\n",
              "        -4.85215896e-03,  6.22573153e-04, -8.54713720e-04, -3.72407317e-03,\n",
              "         1.86805032e-03,  3.15073410e-04,  6.95349873e-04,  3.06849007e-03,\n",
              "        -1.72103565e-03,  1.48549820e-03,  6.29087408e-04,  7.13767009e-04,\n",
              "        -1.08279588e-03,  2.44485587e-03,  1.58516115e-03, -1.74326678e-04,\n",
              "        -3.91517628e-03,  1.80846854e-03, -1.17852794e-03,  2.64149561e-03,\n",
              "        -2.52469751e-03,  4.06832553e-03,  6.60542222e-04,  1.51308790e-03,\n",
              "         2.84887297e-03, -1.94444514e-03,  8.45821277e-06, -9.72014477e-04,\n",
              "         7.51391215e-04, -5.86453383e-04, -1.23127932e-03, -2.09110000e-04,\n",
              "        -1.41641059e-04,  1.69881473e-03, -1.46152727e-03, -1.37235354e-03,\n",
              "        -7.60814310e-04,  1.43766353e-03,  3.11157900e-05, -3.12387915e-03,\n",
              "        -1.01174146e-03,  1.27150704e-04, -1.17870579e-03,  2.03547649e-04,\n",
              "         1.64359597e-03,  1.52013735e-03,  1.40172006e-03,  1.23995240e-03,\n",
              "        -5.93032921e-05, -5.23426240e-04,  2.86918517e-04, -2.45171061e-04,\n",
              "         2.97206846e-03, -1.03071820e-04, -1.21358083e-03, -1.41691529e-03,\n",
              "         4.07591548e-04,  1.28115842e-03,  4.95445282e-04,  2.24599703e-03,\n",
              "         8.05217895e-04,  4.69087387e-06, -6.76335520e-04, -1.62521412e-03]),\n",
              " 'absolutizem': array([ 5.17344661e-03,  1.99883525e-03, -3.05560317e-03,  2.23800493e-03,\n",
              "        -2.08401159e-03, -1.52448728e-03,  1.02495318e-03, -2.45153482e-03,\n",
              "         4.17188228e-04,  2.11346282e-03,  5.58803336e-03,  2.77746934e-03,\n",
              "         8.69870214e-04,  1.30602143e-03, -1.10251691e-03, -3.29495776e-05,\n",
              "         5.04758372e-03, -1.00640603e-03, -4.44284321e-03, -8.46465966e-04,\n",
              "         2.33154136e-03,  4.58790630e-04,  4.19153993e-04,  1.97905401e-03,\n",
              "        -9.30366361e-04, -2.46965639e-03,  1.79943887e-03, -9.56406099e-04,\n",
              "        -7.48197955e-04,  5.46378706e-06, -1.45469583e-04, -9.14476450e-04,\n",
              "         9.66982018e-04,  2.55891159e-03,  1.66256661e-04,  1.03373066e-03,\n",
              "         3.89519612e-03,  9.62964752e-04, -7.33548485e-04, -1.20462843e-04,\n",
              "         7.01491854e-04, -2.47673573e-03, -1.65810516e-03, -1.34057111e-03,\n",
              "        -1.51099891e-03, -5.77586804e-04,  5.51194989e-04,  1.04879521e-03,\n",
              "        -8.72255424e-04, -2.06687378e-03,  2.12486116e-04, -7.55472209e-04,\n",
              "        -7.17675036e-04,  8.19589955e-04,  1.74126271e-03, -1.62181587e-03,\n",
              "        -3.05834726e-04,  1.81768806e-03,  4.82445657e-04, -6.03667621e-04,\n",
              "        -8.46632046e-04,  6.04345288e-04,  5.33329561e-04, -1.47723711e-03,\n",
              "         1.33388330e-03,  5.41994860e-04, -1.52380221e-04,  1.74513772e-04,\n",
              "         1.24669881e-04, -7.90848168e-05, -1.42785094e-03, -1.11765320e-03,\n",
              "         1.21206908e-03, -7.99099800e-04,  1.15306334e-03, -2.05912256e-03,\n",
              "        -6.69338214e-04, -5.39999328e-04, -3.14246673e-04,  1.99006962e-03,\n",
              "        -1.89018166e-04,  3.08285079e-04, -1.12958237e-04,  4.73049082e-04,\n",
              "         5.04450962e-04,  2.33376272e-03, -3.88323809e-04,  1.12350602e-03,\n",
              "        -1.17154235e-03,  2.62895378e-03,  1.10014987e-03, -1.76408269e-03,\n",
              "        -5.67740557e-05,  6.72174095e-04, -1.01954826e-03, -8.57701223e-04,\n",
              "         3.09912292e-06, -4.89299913e-05,  9.53858382e-04,  2.74918331e-04]),\n",
              " 'adieu': array([ 6.61194470e-05, -4.77929765e-05, -4.10827639e-05, -5.34763966e-06,\n",
              "         3.21468768e-05,  9.34349196e-06,  1.85747721e-06, -3.79740087e-06,\n",
              "        -3.25747588e-06,  4.56510117e-06,  2.99829039e-06, -1.98588554e-06,\n",
              "        -2.38386326e-06, -6.17893210e-06,  1.08476185e-05,  7.68691697e-06,\n",
              "        -4.33703050e-06,  2.41879997e-05,  3.40334316e-06, -1.35001265e-05,\n",
              "        -9.96330289e-06, -3.64002479e-06, -1.17803917e-05,  1.48154081e-05,\n",
              "        -7.70162577e-07, -4.48514629e-06,  1.50923832e-05, -4.81692912e-06,\n",
              "         4.95145472e-06,  6.26078737e-07, -1.09407308e-07, -1.32659791e-05,\n",
              "        -7.70062114e-06, -9.02322168e-06, -1.15598419e-06, -5.70523288e-06,\n",
              "         9.94992096e-06, -8.19934805e-07,  4.77612333e-06,  2.94750784e-06,\n",
              "        -9.25297497e-07, -2.81677754e-06, -5.89391640e-07,  3.12921243e-05,\n",
              "        -7.60727515e-06,  6.58490676e-06, -2.39726488e-06, -6.58584937e-06,\n",
              "         8.98173652e-06, -5.46257242e-06, -8.01743001e-06,  7.28374209e-06,\n",
              "         1.39524905e-05, -8.91113701e-06, -9.88419688e-06,  2.83660428e-06,\n",
              "         1.23042337e-05,  3.36721005e-06, -2.40625711e-06, -9.45672300e-06,\n",
              "         5.27270545e-06,  1.60600446e-07, -8.21203474e-06, -8.39290726e-06,\n",
              "        -1.52524918e-05, -2.40234672e-05, -1.18783853e-05, -4.00418374e-06,\n",
              "        -1.37250712e-06,  2.65871712e-06,  1.64457789e-05, -1.71706804e-06,\n",
              "        -7.74409502e-07, -4.85955408e-06,  9.47295522e-06, -4.98275447e-06,\n",
              "         5.78922943e-07, -1.69690088e-05,  1.35745519e-05, -2.74194606e-06,\n",
              "         4.05925862e-06,  1.71245479e-05,  2.04954782e-06, -5.57576969e-06,\n",
              "        -1.45969514e-05, -6.45641756e-06, -1.48391702e-05, -1.01577679e-05,\n",
              "        -1.05079693e-05,  1.64331435e-05,  2.83393878e-06, -3.05856354e-06,\n",
              "        -8.33658706e-07, -7.38269402e-07,  1.63678889e-05,  1.13094693e-05,\n",
              "         1.27425757e-06, -1.38703259e-06, -1.79547197e-05,  8.69454331e-06]),\n",
              " 'aee': array([ 2.77370156e-04,  1.96003210e-04,  1.30709146e-04, -2.47904789e-05,\n",
              "        -8.39691033e-06,  9.62040941e-05,  1.67300952e-04,  1.40131676e-04,\n",
              "         5.71128671e-05,  2.69036801e-04, -3.86829445e-04, -4.71046604e-05,\n",
              "         8.53163547e-05,  3.56708377e-04, -2.88644528e-04, -1.29175389e-04,\n",
              "        -1.37917770e-04, -6.74103538e-05,  1.08989920e-04,  1.41760232e-04,\n",
              "         2.10979527e-04,  1.72236581e-04,  1.25450772e-04,  5.95291593e-05,\n",
              "         2.13726128e-04, -1.06583966e-04, -4.35194988e-05, -6.07419650e-05,\n",
              "        -4.07480761e-05, -4.63786252e-06, -3.41760848e-05, -8.81543480e-05,\n",
              "         1.22974236e-05,  1.20995907e-04,  4.63828572e-05, -1.14502354e-05,\n",
              "        -1.28244594e-04, -1.22285393e-04,  3.29072212e-05, -1.59416340e-04,\n",
              "         1.65787934e-04, -3.64296181e-05, -1.74149954e-05,  1.22228718e-04,\n",
              "         9.28004930e-05, -3.92487078e-05,  1.45408571e-04, -1.16583226e-04,\n",
              "        -2.30764680e-05, -4.78208695e-05,  1.28815764e-04, -2.14082742e-05,\n",
              "        -8.19303147e-05, -6.95608654e-05,  5.14526841e-05,  1.06197777e-04,\n",
              "        -1.67846935e-05,  1.45402775e-04,  4.02655326e-05,  8.24555715e-05,\n",
              "         3.62102658e-05,  4.89399596e-06, -2.08544157e-05,  2.53670550e-05,\n",
              "         1.25581121e-04,  3.52829767e-05,  5.82057325e-05,  4.74271560e-05,\n",
              "         1.63450553e-05,  7.87459802e-06,  9.35988383e-06, -1.01146449e-04,\n",
              "         3.26917237e-05, -7.20337966e-05, -2.20001240e-04, -1.55515827e-05,\n",
              "        -1.51962155e-04,  8.77478126e-05, -1.73657726e-04,  3.42510766e-05,\n",
              "         1.06072913e-04,  2.59420724e-05, -1.95611737e-06,  2.08776574e-05,\n",
              "         1.30071945e-04, -1.29863556e-05, -2.00673692e-05, -5.01101626e-05,\n",
              "         1.75000082e-04,  2.94330140e-05, -2.94530055e-05,  3.64091312e-06,\n",
              "         6.70521724e-05,  7.39823844e-05,  9.97719750e-07,  1.20883207e-04,\n",
              "         1.20060842e-05, -1.94804919e-05, -8.56293411e-05, -9.90921348e-07]),\n",
              " 'aglo': array([ 1.39387699e-03, -9.55595431e-04, -7.08297496e-04,  3.01895081e-03,\n",
              "        -5.37993773e-03, -1.26481603e-03,  2.97046114e-03,  9.93583792e-04,\n",
              "         1.05522426e-03,  1.84516963e-03, -1.92391259e-03, -3.12672649e-03,\n",
              "        -1.57089077e-03, -5.41362768e-03, -1.63435247e-03, -9.45941716e-04,\n",
              "        -2.63149883e-03, -1.59776540e-03, -2.27096847e-03,  8.26931265e-03,\n",
              "         4.24958087e-03, -2.16517850e-03, -4.83405396e-03, -2.09802470e-03,\n",
              "        -3.73812497e-03, -6.07418683e-04, -6.62985485e-03,  1.95411821e-03,\n",
              "        -9.26840815e-04, -2.36344427e-03,  1.18857849e-04,  7.87250845e-03,\n",
              "         1.42829258e-03,  1.76063256e-03,  3.59407130e-03,  3.35129393e-03,\n",
              "        -1.21495147e-03, -6.51253287e-05,  4.53410633e-03,  6.01261180e-04,\n",
              "        -2.38622986e-03,  5.42543964e-03,  2.44810215e-03, -3.41573819e-03,\n",
              "        -8.51949260e-04, -3.87946978e-03,  5.01717543e-03, -1.98891384e-03,\n",
              "        -5.43746448e-03,  3.62179898e-03, -3.46730529e-03, -1.53244961e-03,\n",
              "        -4.92381102e-03, -1.22227741e-03, -2.49601052e-03,  1.45379327e-03,\n",
              "         4.76205918e-03, -4.58030586e-04,  1.09287891e-03, -2.61369915e-03,\n",
              "        -8.34422319e-03,  6.30277240e-03,  5.14923909e-03, -8.60137606e-03,\n",
              "        -1.72745166e-06,  1.26787734e-02,  6.68312370e-04,  4.01697478e-03,\n",
              "        -1.36072230e-03,  1.79057381e-03, -1.90206740e-03,  7.78624542e-03,\n",
              "        -4.98354031e-04, -7.32810351e-03, -4.03143714e-03,  3.81370527e-03,\n",
              "        -1.71207220e-03, -7.12641318e-03, -3.05470064e-03,  8.10199380e-03,\n",
              "        -9.56309131e-03, -3.38889500e-03,  3.40172885e-03, -7.09307237e-04,\n",
              "        -1.24557325e-02, -1.26809193e-02, -6.97872624e-03,  2.40330045e-03,\n",
              "         7.59811951e-03, -2.26406759e-03,  4.47392251e-03,  5.03836446e-03,\n",
              "         1.45577193e-03, -1.49537603e-03, -5.91677386e-03, -4.06244831e-03,\n",
              "        -6.29884045e-03,  2.43649318e-03,  6.77587717e-03, -1.36024660e-02]),\n",
              " 'ajdati': array([ 1.96954923e-04,  1.84797020e-04,  1.91813020e-04, -1.10329613e-04,\n",
              "         1.48034944e-04,  9.03913075e-05, -3.21547431e-04,  1.07127843e-04,\n",
              "         4.56446601e-05, -1.05411854e-04, -7.64339454e-05,  2.86041299e-05,\n",
              "         1.48917353e-04,  2.11715453e-04,  2.76028442e-06,  1.01529668e-04,\n",
              "         5.35881201e-06, -1.86855097e-04, -5.89462570e-05, -7.90110742e-05,\n",
              "        -7.80752228e-05, -1.31272082e-04,  9.01974163e-05, -4.30414466e-07,\n",
              "         1.63919392e-04, -7.87523965e-06,  1.80066012e-05, -1.67937489e-04,\n",
              "        -4.14972438e-04,  4.48464904e-05, -3.53119650e-04,  1.45736952e-05,\n",
              "         4.07318829e-05, -1.70445529e-04,  9.89875355e-05,  6.53387733e-06,\n",
              "        -3.13688197e-05, -8.00247504e-05, -1.63609333e-04, -6.78698601e-05,\n",
              "        -8.40164686e-05,  2.98082668e-05,  2.73705518e-05,  5.66739731e-06,\n",
              "        -9.09621610e-05,  1.32719172e-04,  1.43255501e-05,  1.48339476e-04,\n",
              "        -1.44201910e-06, -2.99714270e-06,  4.17391221e-05,  5.26104637e-05,\n",
              "         2.43367586e-05, -9.64587962e-06,  2.77448067e-05, -7.49382618e-07,\n",
              "         7.06136294e-05, -2.43252521e-05, -3.57616814e-06, -1.00720874e-04,\n",
              "         1.12531242e-04,  2.42187180e-05, -5.24837826e-05, -9.92114525e-05,\n",
              "        -8.39043630e-06, -2.20009816e-05,  5.33425022e-05, -5.82263459e-05,\n",
              "         3.68938872e-05,  6.73194040e-05, -1.11017644e-05,  5.37481340e-05,\n",
              "         3.09225097e-06, -6.14925200e-05,  4.06948272e-05, -2.40687116e-05,\n",
              "         1.30307543e-05, -7.78222545e-05, -7.74897810e-06, -1.82634696e-05,\n",
              "         8.90435773e-06, -7.96199888e-06,  1.68561029e-05, -4.46498137e-05,\n",
              "        -5.84706036e-05, -1.63659730e-04,  7.28248589e-05,  5.94458435e-05,\n",
              "         3.56272576e-06,  6.25234670e-05,  2.92523158e-05, -1.16996269e-05,\n",
              "        -1.67051814e-05,  3.21963973e-05, -8.96990029e-05, -1.06187497e-04,\n",
              "         7.18829603e-06,  5.09691568e-05,  5.16793051e-05, -3.04620231e-05]),\n",
              " 'akopra': array([ 3.83434687e-04, -8.05688841e-05,  4.57984345e-05, -2.08551353e-04,\n",
              "         3.00427056e-04, -1.60232507e-04,  1.48446610e-04, -1.09939017e-04,\n",
              "         1.09118583e-05, -8.04840993e-06,  5.85834093e-05, -1.41683720e-04,\n",
              "         1.74668153e-04,  1.87225061e-05,  2.60369901e-04,  1.69009132e-04,\n",
              "         7.80578525e-05,  9.28453845e-05, -1.24572328e-04,  1.28734693e-04,\n",
              "        -6.42771109e-05, -1.81692564e-04,  1.50330933e-05,  3.96428235e-04,\n",
              "        -3.94871237e-04, -3.40240443e-05, -1.76870183e-04,  1.30295656e-04,\n",
              "        -2.37864575e-05,  1.13943520e-04, -3.94055656e-05, -1.24578217e-04,\n",
              "        -2.42707759e-05,  9.59178813e-05,  1.75956121e-04,  1.27726981e-04,\n",
              "        -5.64266156e-05,  3.31964927e-04,  2.07893021e-04,  2.77219364e-05,\n",
              "         1.02207982e-06, -8.71551302e-05, -1.44267783e-04, -2.00372427e-04,\n",
              "         1.78090789e-05,  3.71512687e-05, -4.19185497e-05, -6.47284169e-05,\n",
              "         2.88164437e-05, -2.36800813e-05, -2.52474180e-05,  7.79264384e-05,\n",
              "         9.79521075e-05, -1.34103812e-04, -2.38275559e-05, -2.27820527e-04,\n",
              "         1.74299904e-04,  1.49433412e-04,  2.21158120e-06, -9.60798281e-05,\n",
              "        -4.69722534e-05,  8.21702560e-05,  2.38010762e-05,  3.29328921e-05,\n",
              "         3.74824898e-05, -8.90424641e-05,  3.29617540e-05, -3.40503663e-05,\n",
              "        -1.21976388e-04,  7.45924945e-05, -6.64688153e-06, -9.99184499e-05,\n",
              "        -6.07450860e-05, -5.07254305e-05,  9.37091607e-05,  1.50742351e-05,\n",
              "         1.18029981e-04,  6.32236178e-05, -8.43382122e-05,  2.01295197e-05,\n",
              "         6.74415578e-05, -6.95511092e-05,  9.46372211e-05, -5.87561286e-05,\n",
              "        -2.62295416e-05, -1.93210024e-04,  1.91756880e-04,  3.35876643e-05,\n",
              "         1.26971862e-04, -6.43885132e-05, -3.37776147e-05, -9.40017594e-05,\n",
              "         1.47893179e-04, -5.70716816e-05, -1.67663557e-05,  1.14681203e-05,\n",
              "         4.57832626e-05, -8.41434844e-05,  2.67000519e-05,  5.86461343e-05]),\n",
              " 'albertinski': array([ 4.42174206e-04,  9.49407197e-04, -5.62833532e-04,  7.24471926e-05,\n",
              "         1.33349763e-04,  4.19705940e-04,  3.81638441e-04, -2.05561638e-04,\n",
              "        -4.11042679e-05,  2.07675726e-04,  8.97642139e-05, -1.56426227e-04,\n",
              "         4.05835753e-04,  1.82068435e-04,  7.85055703e-05,  1.53812161e-04,\n",
              "         3.46201103e-04,  3.99396024e-04, -2.54158056e-04, -4.24175774e-05,\n",
              "         2.26773297e-05,  1.56452634e-04, -3.14356655e-05,  2.25712017e-04,\n",
              "        -4.91144104e-04,  3.20891236e-05, -3.66683213e-04, -2.89992732e-04,\n",
              "         1.22025218e-05,  8.69807292e-05, -1.92628705e-04, -3.60146999e-04,\n",
              "        -7.02006925e-05,  3.32438449e-04,  2.51229803e-04,  1.79479508e-04,\n",
              "         1.86463261e-04,  5.95560699e-04,  3.15864173e-04,  3.99596983e-04,\n",
              "         3.05215769e-04,  1.16867249e-04, -2.06313610e-04, -4.33719284e-04,\n",
              "         6.09012801e-05, -2.02336625e-04, -4.24521967e-04, -2.93020616e-04,\n",
              "        -5.25889411e-07, -2.83582666e-04,  1.39968586e-05, -1.57949142e-05,\n",
              "         4.28672973e-04, -3.52979579e-04,  5.28342550e-04, -5.26867462e-04,\n",
              "         3.33418022e-04,  3.54621746e-04, -1.34843067e-05, -1.73817955e-04,\n",
              "         3.62151781e-05,  7.81284750e-05,  3.77332957e-04, -1.86790322e-04,\n",
              "         7.09177503e-04, -5.96092055e-05,  3.30251319e-04, -1.00171967e-04,\n",
              "        -4.86999877e-04,  2.59110330e-04, -2.69997583e-05, -2.70803152e-04,\n",
              "         3.05918280e-04,  1.48258210e-04, -1.40828286e-05, -2.91178732e-04,\n",
              "         2.47695644e-04,  1.11938879e-04, -2.49768742e-04,  2.36138863e-04,\n",
              "         2.91874175e-04, -2.53607178e-04,  3.34698683e-04, -1.07912825e-04,\n",
              "         2.52211746e-04,  4.70718742e-05,  1.61700921e-04,  3.60247681e-04,\n",
              "         2.01562051e-04,  1.99748608e-04,  3.56390233e-04,  1.07807755e-04,\n",
              "        -8.33498105e-05,  7.64751295e-05, -1.25476098e-04, -4.66861321e-04,\n",
              "        -1.91559976e-04,  1.53569634e-04,  2.06338143e-05, -3.68141287e-05]),\n",
              " 'alimenti': array([ 7.31967141e-05, -3.01666283e-05, -9.39488848e-05,  2.74642222e-05,\n",
              "         5.24053893e-06,  1.77328364e-05, -1.29719394e-05,  8.43881419e-06,\n",
              "         1.65973900e-06, -3.14149735e-05, -4.55316612e-06, -6.42190530e-06,\n",
              "         7.96608212e-06,  1.30758881e-05,  1.54006426e-05,  2.56808388e-05,\n",
              "        -9.53010386e-06,  2.20107201e-05, -1.27579482e-06, -2.25425156e-05,\n",
              "        -3.73376971e-05, -2.32545204e-05, -6.15451752e-06, -7.72037889e-07,\n",
              "        -1.10763847e-05,  1.22559720e-05,  1.07316753e-05,  8.61744729e-09,\n",
              "         5.20957908e-06,  9.65484589e-06,  2.15486707e-06, -9.77809912e-06,\n",
              "        -1.04819476e-05, -1.48153267e-05, -8.38479843e-06, -1.09268484e-05,\n",
              "         2.37265161e-06,  2.01886480e-06, -2.82833300e-05, -1.41614999e-05,\n",
              "         1.31885020e-05,  4.30832178e-06, -1.86491971e-05,  2.36941901e-05,\n",
              "        -2.74534796e-05,  1.02334255e-05,  5.02270544e-07,  1.18337926e-05,\n",
              "         1.42740946e-05,  7.30406732e-06, -7.17582990e-06,  1.59443499e-05,\n",
              "         2.66792502e-06,  4.91331522e-06, -1.88930809e-05, -6.26335157e-06,\n",
              "        -5.12364965e-06,  9.17450425e-06, -5.60460523e-06,  6.46480665e-08,\n",
              "         1.47218200e-05, -1.40510042e-05, -1.37083737e-05,  1.72688453e-06,\n",
              "        -2.12299518e-05, -1.06004196e-05, -3.38702987e-06,  4.18799649e-07,\n",
              "         2.39471043e-05, -2.05116995e-06,  6.71695754e-06, -1.06024160e-05,\n",
              "        -4.19489629e-06,  1.45503843e-05, -1.56513137e-06,  2.43889227e-06,\n",
              "         2.28852701e-06, -1.66670252e-05,  9.46997068e-07, -7.77711780e-06,\n",
              "         6.37635849e-06,  1.70030746e-05,  8.83235986e-06, -3.97477399e-06,\n",
              "         1.06281037e-05,  6.96210096e-06, -1.61436637e-05, -6.41851240e-06,\n",
              "        -1.11700931e-05,  1.28582794e-05,  4.65278521e-06, -2.34558566e-06,\n",
              "         5.20973555e-06,  5.48091455e-06,  4.95782821e-07, -2.05482789e-05,\n",
              "        -2.65530326e-07, -1.35143165e-05, -4.78602109e-06, -1.03130580e-05]),\n",
              " 'alosten': array([ 2.31910613e-04,  5.41902434e-06, -6.50316100e-05, -1.21326231e-04,\n",
              "        -4.29398788e-05,  1.30936724e-04, -8.17199481e-05,  1.09787129e-04,\n",
              "         1.59856965e-04,  3.12030051e-05, -6.89190446e-05, -6.84657975e-05,\n",
              "         1.56005602e-04,  1.53822937e-04, -1.91177375e-04, -1.84662207e-05,\n",
              "        -2.83794918e-06,  1.45329975e-04, -4.53036882e-05, -9.04892888e-05,\n",
              "         5.87153073e-05,  1.78625881e-05, -9.63158989e-05,  6.25410647e-05,\n",
              "        -3.42498235e-05,  1.35270454e-04, -8.84443615e-05,  2.08971070e-05,\n",
              "         3.17990952e-05, -8.02674601e-05,  3.84611641e-05, -1.15280914e-05,\n",
              "         2.00169186e-06, -3.14832348e-05, -3.81658273e-05,  5.28731325e-05,\n",
              "        -3.91143651e-05, -3.00141677e-05,  2.69446660e-05, -3.65257528e-05,\n",
              "         1.40494948e-05,  8.61772729e-06,  3.63140541e-05, -6.81074248e-05,\n",
              "         6.80650282e-06, -2.37385231e-05, -2.51785334e-05,  2.55816661e-05,\n",
              "        -1.03110300e-04, -4.27429643e-05,  5.66473419e-05, -1.11935028e-05,\n",
              "        -1.11883729e-04,  3.89570274e-05,  6.48730598e-05,  5.71537123e-06,\n",
              "        -1.16765343e-04,  9.19627832e-06,  3.09178414e-06, -6.29449596e-05,\n",
              "         4.20888767e-05,  1.51030908e-05, -9.33335053e-05,  6.74262874e-06,\n",
              "         6.07087180e-06,  1.18703387e-05, -3.68324662e-05,  3.99883608e-05,\n",
              "         3.11320308e-05, -8.61581778e-06, -5.89338989e-05,  1.00010878e-05,\n",
              "        -6.38184556e-05, -2.36221628e-05,  5.81138009e-05, -1.93819007e-05,\n",
              "        -2.74610453e-05,  6.87739750e-05, -1.44719666e-05, -1.66893216e-05,\n",
              "         3.54936742e-05, -2.26301379e-05, -6.92653087e-05,  1.51233943e-05,\n",
              "        -3.36466000e-05, -5.98005365e-05,  1.88010381e-05, -2.68810475e-05,\n",
              "         1.02885986e-04, -9.36960930e-06, -4.46962853e-05,  4.72384775e-06,\n",
              "         1.32027219e-05, -3.02689036e-06, -1.27344871e-05,  3.47090264e-05,\n",
              "        -1.06687107e-05,  4.62492232e-05,  5.89347891e-05, -4.70443953e-06])}"
            ]
          },
          "metadata": {},
          "execution_count": 34
        }
      ]
    }
  ],
  "metadata": {
    "accelerator": "GPU",
    "colab": {
      "collapsed_sections": [
        "bzH06DCIxgK9",
        "bJaMQE9E3Zw2"
      ],
      "gpuType": "T4",
      "provenance": []
    },
    "kernelspec": {
      "display_name": "Python 3",
      "name": "python3"
    },
    "language_info": {
      "name": "python"
    }
  },
  "nbformat": 4,
  "nbformat_minor": 0
}
